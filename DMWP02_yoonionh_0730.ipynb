{
 "cells": [
  {
   "cell_type": "markdown",
   "metadata": {
    "collapsed": true,
    "nbpresent": {
     "id": "3e9f46d6-f313-4b1d-b974-8d05e7478598"
    }
   },
   "source": [
    "# 복잡복작 시즌4 밑바닥 자연\n",
    "\n",
    "## 파이썬으로 풀어보는 수학, 2장 \n",
    "\n",
    "http://www.acornpub.co.kr/book/doing-math-with-python\n",
    "\n",
    "![파이썬으로 풀어보는 수학](http://www.acornpub.co.kr/tb/detail/book/bl/ui/1465816900sDEbZTpe.jpg)"
   ]
  },
  {
   "cell_type": "markdown",
   "metadata": {
    "nbpresent": {
     "id": "66d742ce-1667-40f5-9ade-6a7b9c7f9b19"
    }
   },
   "source": [
    "### 2장 그래프로 데이터 가시화\n",
    "\n",
    "목적 : 숫자형 데이터 표현하는 방법 (그래프)\n",
    "\n",
    "#### item : \n",
    "   - Visual tool 종류와 특장점\n",
    "   - 직교 좌표계 (Cartesian, Rectangular coordinate system)\n",
    "   - Matplotlib 활용 [\"파이썬으로 풀어보는 수학\"] 예제\n",
    "   - 만유인력, 포물선 운동을 가시화 \n",
    "   \n",
    "#### plus :\n",
    "   - pandas 를 활용한 데이터 가시화\n",
    "   - seaborn 활용\n",
    "   \n",
    "\n",
    "thanks to : DevLuna http://devluna.blogspot.kr/"
   ]
  },
  {
   "cell_type": "markdown",
   "metadata": {
    "nbpresent": {
     "id": "3d5e1860-2afa-4f50-893a-39256858ae7e"
    }
   },
   "source": [
    "# Visual Tools 종류와 특장점"
   ]
  },
  {
   "cell_type": "markdown",
   "metadata": {
    "nbpresent": {
     "id": "d61b67f0-40c6-4db1-a376-f51bd17e24c7"
    }
   },
   "source": [
    "##### Matplotlib (QT, Inline, notebook)\n",
    "python에서 수학 과학 연산을 도표로 표현할 때, 가장 널리 쓰이는 Backend 툴은 Matplotlib이다.\n",
    "\n",
    "거의 모든 기능이 포함되어 있고 가장 쉽게 배울 수 있으나 단점도 있다.\n",
    "\n",
    "단점 : \n",
    " - 렌더링 속도가 느리고, app개발시 portablity 가 상당히 떨어진다.\n",
    "\n",
    "장점 : \n",
    " - ipython과 궁합이 잘 맞는다. \n",
    " - Notebook Embeding : jupyter-notebook에서 \"%matplotlib inline\"을 이용하 output에 렌더링 결과를 저장할 수 있다.   \n",
    " - \"notebook\" magic : 최근 \"%matplotlib notebook\"이라는 Interact를 강화한 magic명령이 개발되었다. bokeh와 같이 우수한 interacitivy를 느낄 수 있다. "
   ]
  },
  {
   "cell_type": "code",
   "execution_count": null,
   "metadata": {
    "collapsed": false,
    "nbpresent": {
     "id": "991ce59d-55cf-414d-bea8-0e706ecf17cd"
    }
   },
   "outputs": [],
   "source": [
    "import matplotlib.pyplot as plt\n",
    "import numpy as np\n",
    "\n",
    "plt.plot(np.random.randn(100))"
   ]
  },
  {
   "cell_type": "code",
   "execution_count": 2,
   "metadata": {
    "collapsed": false,
    "nbpresent": {
     "id": "f2c70f9f-c0fb-42e0-b2b0-66b4afed63e7"
    }
   },
   "outputs": [
    {
     "name": "stdout",
     "output_type": "stream",
     "text": [
      "Using matplotlib backend: Qt4Agg\n",
      "Populating the interactive namespace from numpy and matplotlib\n",
      "Using matplotlib backend: Qt4Agg\n"
     ]
    }
   ],
   "source": [
    "%pylab\n",
    "%matplotlib\n",
    "## qt, qt4, qt5, gtk, gtk2, gtk3, tk, wx, pyglet, glut, osx\n",
    "\n",
    "plot(np.random.randn(100))\n",
    "show()"
   ]
  },
  {
   "cell_type": "code",
   "execution_count": 1,
   "metadata": {
    "collapsed": false,
    "nbpresent": {
     "id": "b80a7149-3720-4773-8b91-253f981a8fc7"
    }
   },
   "outputs": [
    {
     "name": "stdout",
     "output_type": "stream",
     "text": [
      "Using matplotlib backend: Qt4Agg\n",
      "Populating the interactive namespace from numpy and matplotlib\n"
     ]
    },
    {
     "data": {
      "text/plain": [
       "[<matplotlib.lines.Line2D at 0x27ab25e8898>]"
      ]
     },
     "execution_count": 1,
     "metadata": {},
     "output_type": "execute_result"
    },
    {
     "data": {
      "image/png": "[encoded data removed]",
      "text/plain": [
       "<matplotlib.figure.Figure at 0x27ab2564f28>"
      ]
     },
     "metadata": {},
     "output_type": "display_data"
    }
   ],
   "source": [
    "%pylab\n",
    "%matplotlib inline\n",
    "\n",
    "plot(np.random.randn(100))"
   ]
  },
  {
   "cell_type": "code",
   "execution_count": 1,
   "metadata": {
    "collapsed": false,
    "nbpresent": {
     "id": "ec610a73-9c05-4550-8aeb-e54dbced4bda"
    }
   },
   "outputs": [
    {
     "name": "stdout",
     "output_type": "stream",
     "text": [
      "Using matplotlib backend: nbAgg\n",
      "Populating the interactive namespace from numpy and matplotlib\n"
     ]
    },
    {
     "data": {
      "application/javascript": [
       "/* Put everything inside the global mpl namespace */\n",
       "window.mpl = {};\n",
       "\n",
       "mpl.get_websocket_type = function() {\n",
       "    if (typeof(WebSocket) !== 'undefined') {\n",
       "        return WebSocket;\n",
       "    } else if (typeof(MozWebSocket) !== 'undefined') {\n",
       "        return MozWebSocket;\n",
       "    } else {\n",
       "        alert('Your browser does not have WebSocket support.' +\n",
       "              'Please try Chrome, Safari or Firefox ≥ 6. ' +\n",
       "              'Firefox 4 and 5 are also supported but you ' +\n",
       "              'have to enable WebSockets in about:config.');\n",
       "    };\n",
       "}\n",
       "\n",
       "mpl.figure = function(figure_id, websocket, ondownload, parent_element) {\n",
       "    this.id = figure_id;\n",
       "\n",
       "    this.ws = websocket;\n",
       "\n",
       "    this.supports_binary = (this.ws.binaryType != undefined);\n",
       "\n",
       "    if (!this.supports_binary) {\n",
       "        var warnings = document.getElementById(\"mpl-warnings\");\n",
       "        if (warnings) {\n",
       "            warnings.style.display = 'block';\n",
       "            warnings.textContent = (\n",
       "                \"This browser does not support binary websocket messages. \" +\n",
       "                    \"Performance may be slow.\");\n",
       "        }\n",
       "    }\n",
       "\n",
       "    this.imageObj = new Image();\n",
       "\n",
       "    this.context = undefined;\n",
       "    this.message = undefined;\n",
       "    this.canvas = undefined;\n",
       "    this.rubberband_canvas = undefined;\n",
       "    this.rubberband_context = undefined;\n",
       "    this.format_dropdown = undefined;\n",
       "\n",
       "    this.image_mode = 'full';\n",
       "\n",
       "    this.root = $('<div/>');\n",
       "    this._root_extra_style(this.root)\n",
       "    this.root.attr('style', 'display: inline-block');\n",
       "\n",
       "    $(parent_element).append(this.root);\n",
       "\n",
       "    this._init_header(this);\n",
       "    this._init_canvas(this);\n",
       "    this._init_toolbar(this);\n",
       "\n",
       "    var fig = this;\n",
       "\n",
       "    this.waiting = false;\n",
       "\n",
       "    this.ws.onopen =  function () {\n",
       "            fig.send_message(\"supports_binary\", {value: fig.supports_binary});\n",
       "            fig.send_message(\"send_image_mode\", {});\n",
       "            fig.send_message(\"refresh\", {});\n",
       "        }\n",
       "\n",
       "    this.imageObj.onload = function() {\n",
       "            if (fig.image_mode == 'full') {\n",
       "                // Full images could contain transparency (where diff images\n",
       "                // almost always do), so we need to clear the canvas so that\n",
       "                // there is no ghosting.\n",
       "                fig.context.clearRect(0, 0, fig.canvas.width, fig.canvas.height);\n",
       "            }\n",
       "            fig.context.drawImage(fig.imageObj, 0, 0);\n",
       "        };\n",
       "\n",
       "    this.imageObj.onunload = function() {\n",
       "        this.ws.close();\n",
       "    }\n",
       "\n",
       "    this.ws.onmessage = this._make_on_message_function(this);\n",
       "\n",
       "    this.ondownload = ondownload;\n",
       "}\n",
       "\n",
       "mpl.figure.prototype._init_header = function() {\n",
       "    var titlebar = $(\n",
       "        '<div class=\"ui-dialog-titlebar ui-widget-header ui-corner-all ' +\n",
       "        'ui-helper-clearfix\"/>');\n",
       "    var titletext = $(\n",
       "        '<div class=\"ui-dialog-title\" style=\"width: 100%; ' +\n",
       "        'text-align: center; padding: 3px;\"/>');\n",
       "    titlebar.append(titletext)\n",
       "    this.root.append(titlebar);\n",
       "    this.header = titletext[0];\n",
       "}\n",
       "\n",
       "\n",
       "\n",
       "mpl.figure.prototype._canvas_extra_style = function(canvas_div) {\n",
       "\n",
       "}\n",
       "\n",
       "\n",
       "mpl.figure.prototype._root_extra_style = function(canvas_div) {\n",
       "\n",
       "}\n",
       "\n",
       "mpl.figure.prototype._init_canvas = function() {\n",
       "    var fig = this;\n",
       "\n",
       "    var canvas_div = $('<div/>');\n",
       "\n",
       "    canvas_div.attr('style', 'position: relative; clear: both; outline: 0');\n",
       "\n",
       "    function canvas_keyboard_event(event) {\n",
       "        return fig.key_event(event, event['data']);\n",
       "    }\n",
       "\n",
       "    canvas_div.keydown('key_press', canvas_keyboard_event);\n",
       "    canvas_div.keyup('key_release', canvas_keyboard_event);\n",
       "    this.canvas_div = canvas_div\n",
       "    this._canvas_extra_style(canvas_div)\n",
       "    this.root.append(canvas_div);\n",
       "\n",
       "    var canvas = $('<canvas/>');\n",
       "    canvas.addClass('mpl-canvas');\n",
       "    canvas.attr('style', \"left: 0; top: 0; z-index: 0; outline: 0\")\n",
       "\n",
       "    this.canvas = canvas[0];\n",
       "    this.context = canvas[0].getContext(\"2d\");\n",
       "\n",
       "    var rubberband = $('<canvas/>');\n",
       "    rubberband.attr('style', \"position: absolute; left: 0; top: 0; z-index: 1;\")\n",
       "\n",
       "    var pass_mouse_events = true;\n",
       "\n",
       "    canvas_div.resizable({\n",
       "        start: function(event, ui) {\n",
       "            pass_mouse_events = false;\n",
       "        },\n",
       "        resize: function(event, ui) {\n",
       "            fig.request_resize(ui.size.width, ui.size.height);\n",
       "        },\n",
       "        stop: function(event, ui) {\n",
       "            pass_mouse_events = true;\n",
       "            fig.request_resize(ui.size.width, ui.size.height);\n",
       "        },\n",
       "    });\n",
       "\n",
       "    function mouse_event_fn(event) {\n",
       "        if (pass_mouse_events)\n",
       "            return fig.mouse_event(event, event['data']);\n",
       "    }\n",
       "\n",
       "    rubberband.mousedown('button_press', mouse_event_fn);\n",
       "    rubberband.mouseup('button_release', mouse_event_fn);\n",
       "    // Throttle sequential mouse events to 1 every 20ms.\n",
       "    rubberband.mousemove('motion_notify', mouse_event_fn);\n",
       "\n",
       "    rubberband.mouseenter('figure_enter', mouse_event_fn);\n",
       "    rubberband.mouseleave('figure_leave', mouse_event_fn);\n",
       "\n",
       "    canvas_div.on(\"wheel\", function (event) {\n",
       "        event = event.originalEvent;\n",
       "        event['data'] = 'scroll'\n",
       "        if (event.deltaY < 0) {\n",
       "            event.step = 1;\n",
       "        } else {\n",
       "            event.step = -1;\n",
       "        }\n",
       "        mouse_event_fn(event);\n",
       "    });\n",
       "\n",
       "    canvas_div.append(canvas);\n",
       "    canvas_div.append(rubberband);\n",
       "\n",
       "    this.rubberband = rubberband;\n",
       "    this.rubberband_canvas = rubberband[0];\n",
       "    this.rubberband_context = rubberband[0].getContext(\"2d\");\n",
       "    this.rubberband_context.strokeStyle = \"#000000\";\n",
       "\n",
       "    this._resize_canvas = function(width, height) {\n",
       "        // Keep the size of the canvas, canvas container, and rubber band\n",
       "        // canvas in synch.\n",
       "        canvas_div.css('width', width)\n",
       "        canvas_div.css('height', height)\n",
       "\n",
       "        canvas.attr('width', width);\n",
       "        canvas.attr('height', height);\n",
       "\n",
       "        rubberband.attr('width', width);\n",
       "        rubberband.attr('height', height);\n",
       "    }\n",
       "\n",
       "    // Set the figure to an initial 600x600px, this will subsequently be updated\n",
       "    // upon first draw.\n",
       "    this._resize_canvas(600, 600);\n",
       "\n",
       "    // Disable right mouse context menu.\n",
       "    $(this.rubberband_canvas).bind(\"contextmenu\",function(e){\n",
       "        return false;\n",
       "    });\n",
       "\n",
       "    function set_focus () {\n",
       "        canvas.focus();\n",
       "        canvas_div.focus();\n",
       "    }\n",
       "\n",
       "    window.setTimeout(set_focus, 100);\n",
       "}\n",
       "\n",
       "mpl.figure.prototype._init_toolbar = function() {\n",
       "    var fig = this;\n",
       "\n",
       "    var nav_element = $('<div/>')\n",
       "    nav_element.attr('style', 'width: 100%');\n",
       "    this.root.append(nav_element);\n",
       "\n",
       "    // Define a callback function for later on.\n",
       "    function toolbar_event(event) {\n",
       "        return fig.toolbar_button_onclick(event['data']);\n",
       "    }\n",
       "    function toolbar_mouse_event(event) {\n",
       "        return fig.toolbar_button_onmouseover(event['data']);\n",
       "    }\n",
       "\n",
       "    for(var toolbar_ind in mpl.toolbar_items) {\n",
       "        var name = mpl.toolbar_items[toolbar_ind][0];\n",
       "        var tooltip = mpl.toolbar_items[toolbar_ind][1];\n",
       "        var image = mpl.toolbar_items[toolbar_ind][2];\n",
       "        var method_name = mpl.toolbar_items[toolbar_ind][3];\n",
       "\n",
       "        if (!name) {\n",
       "            // put a spacer in here.\n",
       "            continue;\n",
       "        }\n",
       "        var button = $('<button/>');\n",
       "        button.addClass('ui-button ui-widget ui-state-default ui-corner-all ' +\n",
       "                        'ui-button-icon-only');\n",
       "        button.attr('role', 'button');\n",
       "        button.attr('aria-disabled', 'false');\n",
       "        button.click(method_name, toolbar_event);\n",
       "        button.mouseover(tooltip, toolbar_mouse_event);\n",
       "\n",
       "        var icon_img = $('<span/>');\n",
       "        icon_img.addClass('ui-button-icon-primary ui-icon');\n",
       "        icon_img.addClass(image);\n",
       "        icon_img.addClass('ui-corner-all');\n",
       "\n",
       "        var tooltip_span = $('<span/>');\n",
       "        tooltip_span.addClass('ui-button-text');\n",
       "        tooltip_span.html(tooltip);\n",
       "\n",
       "        button.append(icon_img);\n",
       "        button.append(tooltip_span);\n",
       "\n",
       "        nav_element.append(button);\n",
       "    }\n",
       "\n",
       "    var fmt_picker_span = $('<span/>');\n",
       "\n",
       "    var fmt_picker = $('<select/>');\n",
       "    fmt_picker.addClass('mpl-toolbar-option ui-widget ui-widget-content');\n",
       "    fmt_picker_span.append(fmt_picker);\n",
       "    nav_element.append(fmt_picker_span);\n",
       "    this.format_dropdown = fmt_picker[0];\n",
       "\n",
       "    for (var ind in mpl.extensions) {\n",
       "        var fmt = mpl.extensions[ind];\n",
       "        var option = $(\n",
       "            '<option/>', {selected: fmt === mpl.default_extension}).html(fmt);\n",
       "        fmt_picker.append(option)\n",
       "    }\n",
       "\n",
       "    // Add hover states to the ui-buttons\n",
       "    $( \".ui-button\" ).hover(\n",
       "        function() { $(this).addClass(\"ui-state-hover\");},\n",
       "        function() { $(this).removeClass(\"ui-state-hover\");}\n",
       "    );\n",
       "\n",
       "    var status_bar = $('<span class=\"mpl-message\"/>');\n",
       "    nav_element.append(status_bar);\n",
       "    this.message = status_bar[0];\n",
       "}\n",
       "\n",
       "mpl.figure.prototype.request_resize = function(x_pixels, y_pixels) {\n",
       "    // Request matplotlib to resize the figure. Matplotlib will then trigger a resize in the client,\n",
       "    // which will in turn request a refresh of the image.\n",
       "    this.send_message('resize', {'width': x_pixels, 'height': y_pixels});\n",
       "}\n",
       "\n",
       "mpl.figure.prototype.send_message = function(type, properties) {\n",
       "    properties['type'] = type;\n",
       "    properties['figure_id'] = this.id;\n",
       "    this.ws.send(JSON.stringify(properties));\n",
       "}\n",
       "\n",
       "mpl.figure.prototype.send_draw_message = function() {\n",
       "    if (!this.waiting) {\n",
       "        this.waiting = true;\n",
       "        this.ws.send(JSON.stringify({type: \"draw\", figure_id: this.id}));\n",
       "    }\n",
       "}\n",
       "\n",
       "\n",
       "mpl.figure.prototype.handle_save = function(fig, msg) {\n",
       "    var format_dropdown = fig.format_dropdown;\n",
       "    var format = format_dropdown.options[format_dropdown.selectedIndex].value;\n",
       "    fig.ondownload(fig, format);\n",
       "}\n",
       "\n",
       "\n",
       "mpl.figure.prototype.handle_resize = function(fig, msg) {\n",
       "    var size = msg['size'];\n",
       "    if (size[0] != fig.canvas.width || size[1] != fig.canvas.height) {\n",
       "        fig._resize_canvas(size[0], size[1]);\n",
       "        fig.send_message(\"refresh\", {});\n",
       "    };\n",
       "}\n",
       "\n",
       "mpl.figure.prototype.handle_rubberband = function(fig, msg) {\n",
       "    var x0 = msg['x0'];\n",
       "    var y0 = fig.canvas.height - msg['y0'];\n",
       "    var x1 = msg['x1'];\n",
       "    var y1 = fig.canvas.height - msg['y1'];\n",
       "    x0 = Math.floor(x0) + 0.5;\n",
       "    y0 = Math.floor(y0) + 0.5;\n",
       "    x1 = Math.floor(x1) + 0.5;\n",
       "    y1 = Math.floor(y1) + 0.5;\n",
       "    var min_x = Math.min(x0, x1);\n",
       "    var min_y = Math.min(y0, y1);\n",
       "    var width = Math.abs(x1 - x0);\n",
       "    var height = Math.abs(y1 - y0);\n",
       "\n",
       "    fig.rubberband_context.clearRect(\n",
       "        0, 0, fig.canvas.width, fig.canvas.height);\n",
       "\n",
       "    fig.rubberband_context.strokeRect(min_x, min_y, width, height);\n",
       "}\n",
       "\n",
       "mpl.figure.prototype.handle_figure_label = function(fig, msg) {\n",
       "    // Updates the figure title.\n",
       "    fig.header.textContent = msg['label'];\n",
       "}\n",
       "\n",
       "mpl.figure.prototype.handle_cursor = function(fig, msg) {\n",
       "    var cursor = msg['cursor'];\n",
       "    switch(cursor)\n",
       "    {\n",
       "    case 0:\n",
       "        cursor = 'pointer';\n",
       "        break;\n",
       "    case 1:\n",
       "        cursor = 'default';\n",
       "        break;\n",
       "    case 2:\n",
       "        cursor = 'crosshair';\n",
       "        break;\n",
       "    case 3:\n",
       "        cursor = 'move';\n",
       "        break;\n",
       "    }\n",
       "    fig.rubberband_canvas.style.cursor = cursor;\n",
       "}\n",
       "\n",
       "mpl.figure.prototype.handle_message = function(fig, msg) {\n",
       "    fig.message.textContent = msg['message'];\n",
       "}\n",
       "\n",
       "mpl.figure.prototype.handle_draw = function(fig, msg) {\n",
       "    // Request the server to send over a new figure.\n",
       "    fig.send_draw_message();\n",
       "}\n",
       "\n",
       "mpl.figure.prototype.handle_image_mode = function(fig, msg) {\n",
       "    fig.image_mode = msg['mode'];\n",
       "}\n",
       "\n",
       "mpl.figure.prototype.updated_canvas_event = function() {\n",
       "    // Called whenever the canvas gets updated.\n",
       "    this.send_message(\"ack\", {});\n",
       "}\n",
       "\n",
       "// A function to construct a web socket function for onmessage handling.\n",
       "// Called in the figure constructor.\n",
       "mpl.figure.prototype._make_on_message_function = function(fig) {\n",
       "    return function socket_on_message(evt) {\n",
       "        if (evt.data instanceof Blob) {\n",
       "            /* FIXME: We get \"Resource interpreted as Image but\n",
       "             * transferred with MIME type text/plain:\" errors on\n",
       "             * Chrome.  But how to set the MIME type?  It doesn't seem\n",
       "             * to be part of the websocket stream */\n",
       "            evt.data.type = \"image/png\";\n",
       "\n",
       "            /* Free the memory for the previous frames */\n",
       "            if (fig.imageObj.src) {\n",
       "                (window.URL || window.webkitURL).revokeObjectURL(\n",
       "                    fig.imageObj.src);\n",
       "            }\n",
       "\n",
       "            fig.imageObj.src = (window.URL || window.webkitURL).createObjectURL(\n",
       "                evt.data);\n",
       "            fig.updated_canvas_event();\n",
       "            fig.waiting = false;\n",
       "            return;\n",
       "        }\n",
       "        else if (typeof evt.data === 'string' && evt.data.slice(0, 21) == \"data:image/png;base64\") {\n",
       "            fig.imageObj.src = evt.data;\n",
       "            fig.updated_canvas_event();\n",
       "            fig.waiting = false;\n",
       "            return;\n",
       "        }\n",
       "\n",
       "        var msg = JSON.parse(evt.data);\n",
       "        var msg_type = msg['type'];\n",
       "\n",
       "        // Call the  \"handle_{type}\" callback, which takes\n",
       "        // the figure and JSON message as its only arguments.\n",
       "        try {\n",
       "            var callback = fig[\"handle_\" + msg_type];\n",
       "        } catch (e) {\n",
       "            console.log(\"No handler for the '\" + msg_type + \"' message type: \", msg);\n",
       "            return;\n",
       "        }\n",
       "\n",
       "        if (callback) {\n",
       "            try {\n",
       "                // console.log(\"Handling '\" + msg_type + \"' message: \", msg);\n",
       "                callback(fig, msg);\n",
       "            } catch (e) {\n",
       "                console.log(\"Exception inside the 'handler_\" + msg_type + \"' callback:\", e, e.stack, msg);\n",
       "            }\n",
       "        }\n",
       "    };\n",
       "}\n",
       "\n",
       "// from http://stackoverflow.com/questions/1114465/getting-mouse-location-in-canvas\n",
       "mpl.findpos = function(e) {\n",
       "    //this section is from http://www.quirksmode.org/js/events_properties.html\n",
       "    var targ;\n",
       "    if (!e)\n",
       "        e = window.event;\n",
       "    if (e.target)\n",
       "        targ = e.target;\n",
       "    else if (e.srcElement)\n",
       "        targ = e.srcElement;\n",
       "    if (targ.nodeType == 3) // defeat Safari bug\n",
       "        targ = targ.parentNode;\n",
       "\n",
       "    // jQuery normalizes the pageX and pageY\n",
       "    // pageX,Y are the mouse positions relative to the document\n",
       "    // offset() returns the position of the element relative to the document\n",
       "    var x = e.pageX - $(targ).offset().left;\n",
       "    var y = e.pageY - $(targ).offset().top;\n",
       "\n",
       "    return {\"x\": x, \"y\": y};\n",
       "};\n",
       "\n",
       "/*\n",
       " * return a copy of an object with only non-object keys\n",
       " * we need this to avoid circular references\n",
       " * http://stackoverflow.com/a/24161582/3208463\n",
       " */\n",
       "function simpleKeys (original) {\n",
       "  return Object.keys(original).reduce(function (obj, key) {\n",
       "    if (typeof original[key] !== 'object')\n",
       "        obj[key] = original[key]\n",
       "    return obj;\n",
       "  }, {});\n",
       "}\n",
       "\n",
       "mpl.figure.prototype.mouse_event = function(event, name) {\n",
       "    var canvas_pos = mpl.findpos(event)\n",
       "\n",
       "    if (name === 'button_press')\n",
       "    {\n",
       "        this.canvas.focus();\n",
       "        this.canvas_div.focus();\n",
       "    }\n",
       "\n",
       "    var x = canvas_pos.x;\n",
       "    var y = canvas_pos.y;\n",
       "\n",
       "    this.send_message(name, {x: x, y: y, button: event.button,\n",
       "                             step: event.step,\n",
       "                             guiEvent: simpleKeys(event)});\n",
       "\n",
       "    /* This prevents the web browser from automatically changing to\n",
       "     * the text insertion cursor when the button is pressed.  We want\n",
       "     * to control all of the cursor setting manually through the\n",
       "     * 'cursor' event from matplotlib */\n",
       "    event.preventDefault();\n",
       "    return false;\n",
       "}\n",
       "\n",
       "mpl.figure.prototype._key_event_extra = function(event, name) {\n",
       "    // Handle any extra behaviour associated with a key event\n",
       "}\n",
       "\n",
       "mpl.figure.prototype.key_event = function(event, name) {\n",
       "\n",
       "    // Prevent repeat events\n",
       "    if (name == 'key_press')\n",
       "    {\n",
       "        if (event.which === this._key)\n",
       "            return;\n",
       "        else\n",
       "            this._key = event.which;\n",
       "    }\n",
       "    if (name == 'key_release')\n",
       "        this._key = null;\n",
       "\n",
       "    var value = '';\n",
       "    if (event.ctrlKey && event.which != 17)\n",
       "        value += \"ctrl+\";\n",
       "    if (event.altKey && event.which != 18)\n",
       "        value += \"alt+\";\n",
       "    if (event.shiftKey && event.which != 16)\n",
       "        value += \"shift+\";\n",
       "\n",
       "    value += 'k';\n",
       "    value += event.which.toString();\n",
       "\n",
       "    this._key_event_extra(event, name);\n",
       "\n",
       "    this.send_message(name, {key: value,\n",
       "                             guiEvent: simpleKeys(event)});\n",
       "    return false;\n",
       "}\n",
       "\n",
       "mpl.figure.prototype.toolbar_button_onclick = function(name) {\n",
       "    if (name == 'download') {\n",
       "        this.handle_save(this, null);\n",
       "    } else {\n",
       "        this.send_message(\"toolbar_button\", {name: name});\n",
       "    }\n",
       "};\n",
       "\n",
       "mpl.figure.prototype.toolbar_button_onmouseover = function(tooltip) {\n",
       "    this.message.textContent = tooltip;\n",
       "};\n",
       "mpl.toolbar_items = [[\"Home\", \"Reset original view\", \"fa fa-home icon-home\", \"home\"], [\"Back\", \"Back to  previous view\", \"fa fa-arrow-left icon-arrow-left\", \"back\"], [\"Forward\", \"Forward to next view\", \"fa fa-arrow-right icon-arrow-right\", \"forward\"], [\"\", \"\", \"\", \"\"], [\"Pan\", \"Pan axes with left mouse, zoom with right\", \"fa fa-arrows icon-move\", \"pan\"], [\"Zoom\", \"Zoom to rectangle\", \"fa fa-square-o icon-check-empty\", \"zoom\"], [\"\", \"\", \"\", \"\"], [\"Download\", \"Download plot\", \"fa fa-floppy-o icon-save\", \"download\"]];\n",
       "\n",
       "mpl.extensions = [\"eps\", \"jpeg\", \"pdf\", \"png\", \"ps\", \"raw\", \"svg\", \"tif\"];\n",
       "\n",
       "mpl.default_extension = \"png\";var comm_websocket_adapter = function(comm) {\n",
       "    // Create a \"websocket\"-like object which calls the given IPython comm\n",
       "    // object with the appropriate methods. Currently this is a non binary\n",
       "    // socket, so there is still some room for performance tuning.\n",
       "    var ws = {};\n",
       "\n",
       "    ws.close = function() {\n",
       "        comm.close()\n",
       "    };\n",
       "    ws.send = function(m) {\n",
       "        //console.log('sending', m);\n",
       "        comm.send(m);\n",
       "    };\n",
       "    // Register the callback with on_msg.\n",
       "    comm.on_msg(function(msg) {\n",
       "        //console.log('receiving', msg['content']['data'], msg);\n",
       "        // Pass the mpl event to the overriden (by mpl) onmessage function.\n",
       "        ws.onmessage(msg['content']['data'])\n",
       "    });\n",
       "    return ws;\n",
       "}\n",
       "\n",
       "mpl.mpl_figure_comm = function(comm, msg) {\n",
       "    // This is the function which gets called when the mpl process\n",
       "    // starts-up an IPython Comm through the \"matplotlib\" channel.\n",
       "\n",
       "    var id = msg.content.data.id;\n",
       "    // Get hold of the div created by the display call when the Comm\n",
       "    // socket was opened in Python.\n",
       "    var element = $(\"#\" + id);\n",
       "    var ws_proxy = comm_websocket_adapter(comm)\n",
       "\n",
       "    function ondownload(figure, format) {\n",
       "        window.open(figure.imageObj.src);\n",
       "    }\n",
       "\n",
       "    var fig = new mpl.figure(id, ws_proxy,\n",
       "                           ondownload,\n",
       "                           element.get(0));\n",
       "\n",
       "    // Call onopen now - mpl needs it, as it is assuming we've passed it a real\n",
       "    // web socket which is closed, not our websocket->open comm proxy.\n",
       "    ws_proxy.onopen();\n",
       "\n",
       "    fig.parent_element = element.get(0);\n",
       "    fig.cell_info = mpl.find_output_cell(\"<div id='\" + id + \"'></div>\");\n",
       "    if (!fig.cell_info) {\n",
       "        console.error(\"Failed to find cell for figure\", id, fig);\n",
       "        return;\n",
       "    }\n",
       "\n",
       "    var output_index = fig.cell_info[2]\n",
       "    var cell = fig.cell_info[0];\n",
       "\n",
       "};\n",
       "\n",
       "mpl.figure.prototype.handle_close = function(fig, msg) {\n",
       "    fig.root.unbind('remove')\n",
       "\n",
       "    // Update the output cell to use the data from the current canvas.\n",
       "    fig.push_to_output();\n",
       "    var dataURL = fig.canvas.toDataURL();\n",
       "    // Re-enable the keyboard manager in IPython - without this line, in FF,\n",
       "    // the notebook keyboard shortcuts fail.\n",
       "    IPython.keyboard_manager.enable()\n",
       "    $(fig.parent_element).html('<img src=\"' + dataURL + '\">');\n",
       "    fig.close_ws(fig, msg);\n",
       "}\n",
       "\n",
       "mpl.figure.prototype.close_ws = function(fig, msg){\n",
       "    fig.send_message('closing', msg);\n",
       "    // fig.ws.close()\n",
       "}\n",
       "\n",
       "mpl.figure.prototype.push_to_output = function(remove_interactive) {\n",
       "    // Turn the data on the canvas into data in the output cell.\n",
       "    var dataURL = this.canvas.toDataURL();\n",
       "    this.cell_info[1]['text/html'] = '<img src=\"' + dataURL + '\">';\n",
       "}\n",
       "\n",
       "mpl.figure.prototype.updated_canvas_event = function() {\n",
       "    // Tell IPython that the notebook contents must change.\n",
       "    IPython.notebook.set_dirty(true);\n",
       "    this.send_message(\"ack\", {});\n",
       "    var fig = this;\n",
       "    // Wait a second, then push the new image to the DOM so\n",
       "    // that it is saved nicely (might be nice to debounce this).\n",
       "    setTimeout(function () { fig.push_to_output() }, 1000);\n",
       "}\n",
       "\n",
       "mpl.figure.prototype._init_toolbar = function() {\n",
       "    var fig = this;\n",
       "\n",
       "    var nav_element = $('<div/>')\n",
       "    nav_element.attr('style', 'width: 100%');\n",
       "    this.root.append(nav_element);\n",
       "\n",
       "    // Define a callback function for later on.\n",
       "    function toolbar_event(event) {\n",
       "        return fig.toolbar_button_onclick(event['data']);\n",
       "    }\n",
       "    function toolbar_mouse_event(event) {\n",
       "        return fig.toolbar_button_onmouseover(event['data']);\n",
       "    }\n",
       "\n",
       "    for(var toolbar_ind in mpl.toolbar_items){\n",
       "        var name = mpl.toolbar_items[toolbar_ind][0];\n",
       "        var tooltip = mpl.toolbar_items[toolbar_ind][1];\n",
       "        var image = mpl.toolbar_items[toolbar_ind][2];\n",
       "        var method_name = mpl.toolbar_items[toolbar_ind][3];\n",
       "\n",
       "        if (!name) { continue; };\n",
       "\n",
       "        var button = $('<button class=\"btn btn-default\" href=\"#\" title=\"' + name + '\"><i class=\"fa ' + image + ' fa-lg\"></i></button>');\n",
       "        button.click(method_name, toolbar_event);\n",
       "        button.mouseover(tooltip, toolbar_mouse_event);\n",
       "        nav_element.append(button);\n",
       "    }\n",
       "\n",
       "    // Add the status bar.\n",
       "    var status_bar = $('<span class=\"mpl-message\" style=\"text-align:right; float: right;\"/>');\n",
       "    nav_element.append(status_bar);\n",
       "    this.message = status_bar[0];\n",
       "\n",
       "    // Add the close button to the window.\n",
       "    var buttongrp = $('<div class=\"btn-group inline pull-right\"></div>');\n",
       "    var button = $('<button class=\"btn btn-mini btn-primary\" href=\"#\" title=\"Stop Interaction\"><i class=\"fa fa-power-off icon-remove icon-large\"></i></button>');\n",
       "    button.click(function (evt) { fig.handle_close(fig, {}); } );\n",
       "    button.mouseover('Stop Interaction', toolbar_mouse_event);\n",
       "    buttongrp.append(button);\n",
       "    var titlebar = this.root.find($('.ui-dialog-titlebar'));\n",
       "    titlebar.prepend(buttongrp);\n",
       "}\n",
       "\n",
       "mpl.figure.prototype._root_extra_style = function(el){\n",
       "    var fig = this\n",
       "    el.on(\"remove\", function(){\n",
       "\tfig.close_ws(fig, {});\n",
       "    });\n",
       "}\n",
       "\n",
       "mpl.figure.prototype._canvas_extra_style = function(el){\n",
       "    // this is important to make the div 'focusable\n",
       "    el.attr('tabindex', 0)\n",
       "    // reach out to IPython and tell the keyboard manager to turn it's self\n",
       "    // off when our div gets focus\n",
       "\n",
       "    // location in version 3\n",
       "    if (IPython.notebook.keyboard_manager) {\n",
       "        IPython.notebook.keyboard_manager.register_events(el);\n",
       "    }\n",
       "    else {\n",
       "        // location in version 2\n",
       "        IPython.keyboard_manager.register_events(el);\n",
       "    }\n",
       "\n",
       "}\n",
       "\n",
       "mpl.figure.prototype._key_event_extra = function(event, name) {\n",
       "    var manager = IPython.notebook.keyboard_manager;\n",
       "    if (!manager)\n",
       "        manager = IPython.keyboard_manager;\n",
       "\n",
       "    // Check for shift+enter\n",
       "    if (event.shiftKey && event.which == 13) {\n",
       "        this.canvas_div.blur();\n",
       "        event.shiftKey = false;\n",
       "        // Send a \"J\" for go to next cell\n",
       "        event.which = 74;\n",
       "        event.keyCode = 74;\n",
       "        manager.command_mode();\n",
       "        manager.handle_keydown(event);\n",
       "    }\n",
       "}\n",
       "\n",
       "mpl.figure.prototype.handle_save = function(fig, msg) {\n",
       "    fig.ondownload(fig, null);\n",
       "}\n",
       "\n",
       "\n",
       "mpl.find_output_cell = function(html_output) {\n",
       "    // Return the cell and output element which can be found *uniquely* in the notebook.\n",
       "    // Note - this is a bit hacky, but it is done because the \"notebook_saving.Notebook\"\n",
       "    // IPython event is triggered only after the cells have been serialised, which for\n",
       "    // our purposes (turning an active figure into a static one), is too late.\n",
       "    var cells = IPython.notebook.get_cells();\n",
       "    var ncells = cells.length;\n",
       "    for (var i=0; i<ncells; i++) {\n",
       "        var cell = cells[i];\n",
       "        if (cell.cell_type === 'code'){\n",
       "            for (var j=0; j<cell.output_area.outputs.length; j++) {\n",
       "                var data = cell.output_area.outputs[j];\n",
       "                if (data.data) {\n",
       "                    // IPython >= 3 moved mimebundle to data attribute of output\n",
       "                    data = data.data;\n",
       "                }\n",
       "                if (data['text/html'] == html_output) {\n",
       "                    return [cell, data, j];\n",
       "                }\n",
       "            }\n",
       "        }\n",
       "    }\n",
       "}\n",
       "\n",
       "// Register the function which deals with the matplotlib target/channel.\n",
       "// The kernel may be null if the page has been refreshed.\n",
       "if (IPython.notebook.kernel != null) {\n",
       "    IPython.notebook.kernel.comm_manager.register_target('matplotlib', mpl.mpl_figure_comm);\n",
       "}\n"
      ],
      "text/plain": [
       "<IPython.core.display.Javascript object>"
      ]
     },
     "metadata": {},
     "output_type": "display_data"
    },
    {
     "data": {
      "text/html": [
       "<img src=\"data:image/png;base64,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\">"
      ],
      "text/plain": [
       "<IPython.core.display.HTML object>"
      ]
     },
     "metadata": {},
     "output_type": "display_data"
    },
    {
     "data": {
      "text/plain": [
       "[<matplotlib.lines.Line2D at 0x68a2f98>]"
      ]
     },
     "execution_count": 1,
     "metadata": {},
     "output_type": "execute_result"
    }
   ],
   "source": [
    "%matplotlib notebook\n",
    "%pylab\n",
    "\n",
    "plot(np.random.randn(100))"
   ]
  },
  {
   "cell_type": "code",
   "execution_count": 3,
   "metadata": {
    "collapsed": false
   },
   "outputs": [
    {
     "data": {
      "application/javascript": [
       "/* Put everything inside the global mpl namespace */\n",
       "window.mpl = {};\n",
       "\n",
       "mpl.get_websocket_type = function() {\n",
       "    if (typeof(WebSocket) !== 'undefined') {\n",
       "        return WebSocket;\n",
       "    } else if (typeof(MozWebSocket) !== 'undefined') {\n",
       "        return MozWebSocket;\n",
       "    } else {\n",
       "        alert('Your browser does not have WebSocket support.' +\n",
       "              'Please try Chrome, Safari or Firefox ≥ 6. ' +\n",
       "              'Firefox 4 and 5 are also supported but you ' +\n",
       "              'have to enable WebSockets in about:config.');\n",
       "    };\n",
       "}\n",
       "\n",
       "mpl.figure = function(figure_id, websocket, ondownload, parent_element) {\n",
       "    this.id = figure_id;\n",
       "\n",
       "    this.ws = websocket;\n",
       "\n",
       "    this.supports_binary = (this.ws.binaryType != undefined);\n",
       "\n",
       "    if (!this.supports_binary) {\n",
       "        var warnings = document.getElementById(\"mpl-warnings\");\n",
       "        if (warnings) {\n",
       "            warnings.style.display = 'block';\n",
       "            warnings.textContent = (\n",
       "                \"This browser does not support binary websocket messages. \" +\n",
       "                    \"Performance may be slow.\");\n",
       "        }\n",
       "    }\n",
       "\n",
       "    this.imageObj = new Image();\n",
       "\n",
       "    this.context = undefined;\n",
       "    this.message = undefined;\n",
       "    this.canvas = undefined;\n",
       "    this.rubberband_canvas = undefined;\n",
       "    this.rubberband_context = undefined;\n",
       "    this.format_dropdown = undefined;\n",
       "\n",
       "    this.image_mode = 'full';\n",
       "\n",
       "    this.root = $('<div/>');\n",
       "    this._root_extra_style(this.root)\n",
       "    this.root.attr('style', 'display: inline-block');\n",
       "\n",
       "    $(parent_element).append(this.root);\n",
       "\n",
       "    this._init_header(this);\n",
       "    this._init_canvas(this);\n",
       "    this._init_toolbar(this);\n",
       "\n",
       "    var fig = this;\n",
       "\n",
       "    this.waiting = false;\n",
       "\n",
       "    this.ws.onopen =  function () {\n",
       "            fig.send_message(\"supports_binary\", {value: fig.supports_binary});\n",
       "            fig.send_message(\"send_image_mode\", {});\n",
       "            fig.send_message(\"refresh\", {});\n",
       "        }\n",
       "\n",
       "    this.imageObj.onload = function() {\n",
       "            if (fig.image_mode == 'full') {\n",
       "                // Full images could contain transparency (where diff images\n",
       "                // almost always do), so we need to clear the canvas so that\n",
       "                // there is no ghosting.\n",
       "                fig.context.clearRect(0, 0, fig.canvas.width, fig.canvas.height);\n",
       "            }\n",
       "            fig.context.drawImage(fig.imageObj, 0, 0);\n",
       "        };\n",
       "\n",
       "    this.imageObj.onunload = function() {\n",
       "        this.ws.close();\n",
       "    }\n",
       "\n",
       "    this.ws.onmessage = this._make_on_message_function(this);\n",
       "\n",
       "    this.ondownload = ondownload;\n",
       "}\n",
       "\n",
       "mpl.figure.prototype._init_header = function() {\n",
       "    var titlebar = $(\n",
       "        '<div class=\"ui-dialog-titlebar ui-widget-header ui-corner-all ' +\n",
       "        'ui-helper-clearfix\"/>');\n",
       "    var titletext = $(\n",
       "        '<div class=\"ui-dialog-title\" style=\"width: 100%; ' +\n",
       "        'text-align: center; padding: 3px;\"/>');\n",
       "    titlebar.append(titletext)\n",
       "    this.root.append(titlebar);\n",
       "    this.header = titletext[0];\n",
       "}\n",
       "\n",
       "\n",
       "\n",
       "mpl.figure.prototype._canvas_extra_style = function(canvas_div) {\n",
       "\n",
       "}\n",
       "\n",
       "\n",
       "mpl.figure.prototype._root_extra_style = function(canvas_div) {\n",
       "\n",
       "}\n",
       "\n",
       "mpl.figure.prototype._init_canvas = function() {\n",
       "    var fig = this;\n",
       "\n",
       "    var canvas_div = $('<div/>');\n",
       "\n",
       "    canvas_div.attr('style', 'position: relative; clear: both; outline: 0');\n",
       "\n",
       "    function canvas_keyboard_event(event) {\n",
       "        return fig.key_event(event, event['data']);\n",
       "    }\n",
       "\n",
       "    canvas_div.keydown('key_press', canvas_keyboard_event);\n",
       "    canvas_div.keyup('key_release', canvas_keyboard_event);\n",
       "    this.canvas_div = canvas_div\n",
       "    this._canvas_extra_style(canvas_div)\n",
       "    this.root.append(canvas_div);\n",
       "\n",
       "    var canvas = $('<canvas/>');\n",
       "    canvas.addClass('mpl-canvas');\n",
       "    canvas.attr('style', \"left: 0; top: 0; z-index: 0; outline: 0\")\n",
       "\n",
       "    this.canvas = canvas[0];\n",
       "    this.context = canvas[0].getContext(\"2d\");\n",
       "\n",
       "    var rubberband = $('<canvas/>');\n",
       "    rubberband.attr('style', \"position: absolute; left: 0; top: 0; z-index: 1;\")\n",
       "\n",
       "    var pass_mouse_events = true;\n",
       "\n",
       "    canvas_div.resizable({\n",
       "        start: function(event, ui) {\n",
       "            pass_mouse_events = false;\n",
       "        },\n",
       "        resize: function(event, ui) {\n",
       "            fig.request_resize(ui.size.width, ui.size.height);\n",
       "        },\n",
       "        stop: function(event, ui) {\n",
       "            pass_mouse_events = true;\n",
       "            fig.request_resize(ui.size.width, ui.size.height);\n",
       "        },\n",
       "    });\n",
       "\n",
       "    function mouse_event_fn(event) {\n",
       "        if (pass_mouse_events)\n",
       "            return fig.mouse_event(event, event['data']);\n",
       "    }\n",
       "\n",
       "    rubberband.mousedown('button_press', mouse_event_fn);\n",
       "    rubberband.mouseup('button_release', mouse_event_fn);\n",
       "    // Throttle sequential mouse events to 1 every 20ms.\n",
       "    rubberband.mousemove('motion_notify', mouse_event_fn);\n",
       "\n",
       "    rubberband.mouseenter('figure_enter', mouse_event_fn);\n",
       "    rubberband.mouseleave('figure_leave', mouse_event_fn);\n",
       "\n",
       "    canvas_div.on(\"wheel\", function (event) {\n",
       "        event = event.originalEvent;\n",
       "        event['data'] = 'scroll'\n",
       "        if (event.deltaY < 0) {\n",
       "            event.step = 1;\n",
       "        } else {\n",
       "            event.step = -1;\n",
       "        }\n",
       "        mouse_event_fn(event);\n",
       "    });\n",
       "\n",
       "    canvas_div.append(canvas);\n",
       "    canvas_div.append(rubberband);\n",
       "\n",
       "    this.rubberband = rubberband;\n",
       "    this.rubberband_canvas = rubberband[0];\n",
       "    this.rubberband_context = rubberband[0].getContext(\"2d\");\n",
       "    this.rubberband_context.strokeStyle = \"#000000\";\n",
       "\n",
       "    this._resize_canvas = function(width, height) {\n",
       "        // Keep the size of the canvas, canvas container, and rubber band\n",
       "        // canvas in synch.\n",
       "        canvas_div.css('width', width)\n",
       "        canvas_div.css('height', height)\n",
       "\n",
       "        canvas.attr('width', width);\n",
       "        canvas.attr('height', height);\n",
       "\n",
       "        rubberband.attr('width', width);\n",
       "        rubberband.attr('height', height);\n",
       "    }\n",
       "\n",
       "    // Set the figure to an initial 600x600px, this will subsequently be updated\n",
       "    // upon first draw.\n",
       "    this._resize_canvas(600, 600);\n",
       "\n",
       "    // Disable right mouse context menu.\n",
       "    $(this.rubberband_canvas).bind(\"contextmenu\",function(e){\n",
       "        return false;\n",
       "    });\n",
       "\n",
       "    function set_focus () {\n",
       "        canvas.focus();\n",
       "        canvas_div.focus();\n",
       "    }\n",
       "\n",
       "    window.setTimeout(set_focus, 100);\n",
       "}\n",
       "\n",
       "mpl.figure.prototype._init_toolbar = function() {\n",
       "    var fig = this;\n",
       "\n",
       "    var nav_element = $('<div/>')\n",
       "    nav_element.attr('style', 'width: 100%');\n",
       "    this.root.append(nav_element);\n",
       "\n",
       "    // Define a callback function for later on.\n",
       "    function toolbar_event(event) {\n",
       "        return fig.toolbar_button_onclick(event['data']);\n",
       "    }\n",
       "    function toolbar_mouse_event(event) {\n",
       "        return fig.toolbar_button_onmouseover(event['data']);\n",
       "    }\n",
       "\n",
       "    for(var toolbar_ind in mpl.toolbar_items) {\n",
       "        var name = mpl.toolbar_items[toolbar_ind][0];\n",
       "        var tooltip = mpl.toolbar_items[toolbar_ind][1];\n",
       "        var image = mpl.toolbar_items[toolbar_ind][2];\n",
       "        var method_name = mpl.toolbar_items[toolbar_ind][3];\n",
       "\n",
       "        if (!name) {\n",
       "            // put a spacer in here.\n",
       "            continue;\n",
       "        }\n",
       "        var button = $('<button/>');\n",
       "        button.addClass('ui-button ui-widget ui-state-default ui-corner-all ' +\n",
       "                        'ui-button-icon-only');\n",
       "        button.attr('role', 'button');\n",
       "        button.attr('aria-disabled', 'false');\n",
       "        button.click(method_name, toolbar_event);\n",
       "        button.mouseover(tooltip, toolbar_mouse_event);\n",
       "\n",
       "        var icon_img = $('<span/>');\n",
       "        icon_img.addClass('ui-button-icon-primary ui-icon');\n",
       "        icon_img.addClass(image);\n",
       "        icon_img.addClass('ui-corner-all');\n",
       "\n",
       "        var tooltip_span = $('<span/>');\n",
       "        tooltip_span.addClass('ui-button-text');\n",
       "        tooltip_span.html(tooltip);\n",
       "\n",
       "        button.append(icon_img);\n",
       "        button.append(tooltip_span);\n",
       "\n",
       "        nav_element.append(button);\n",
       "    }\n",
       "\n",
       "    var fmt_picker_span = $('<span/>');\n",
       "\n",
       "    var fmt_picker = $('<select/>');\n",
       "    fmt_picker.addClass('mpl-toolbar-option ui-widget ui-widget-content');\n",
       "    fmt_picker_span.append(fmt_picker);\n",
       "    nav_element.append(fmt_picker_span);\n",
       "    this.format_dropdown = fmt_picker[0];\n",
       "\n",
       "    for (var ind in mpl.extensions) {\n",
       "        var fmt = mpl.extensions[ind];\n",
       "        var option = $(\n",
       "            '<option/>', {selected: fmt === mpl.default_extension}).html(fmt);\n",
       "        fmt_picker.append(option)\n",
       "    }\n",
       "\n",
       "    // Add hover states to the ui-buttons\n",
       "    $( \".ui-button\" ).hover(\n",
       "        function() { $(this).addClass(\"ui-state-hover\");},\n",
       "        function() { $(this).removeClass(\"ui-state-hover\");}\n",
       "    );\n",
       "\n",
       "    var status_bar = $('<span class=\"mpl-message\"/>');\n",
       "    nav_element.append(status_bar);\n",
       "    this.message = status_bar[0];\n",
       "}\n",
       "\n",
       "mpl.figure.prototype.request_resize = function(x_pixels, y_pixels) {\n",
       "    // Request matplotlib to resize the figure. Matplotlib will then trigger a resize in the client,\n",
       "    // which will in turn request a refresh of the image.\n",
       "    this.send_message('resize', {'width': x_pixels, 'height': y_pixels});\n",
       "}\n",
       "\n",
       "mpl.figure.prototype.send_message = function(type, properties) {\n",
       "    properties['type'] = type;\n",
       "    properties['figure_id'] = this.id;\n",
       "    this.ws.send(JSON.stringify(properties));\n",
       "}\n",
       "\n",
       "mpl.figure.prototype.send_draw_message = function() {\n",
       "    if (!this.waiting) {\n",
       "        this.waiting = true;\n",
       "        this.ws.send(JSON.stringify({type: \"draw\", figure_id: this.id}));\n",
       "    }\n",
       "}\n",
       "\n",
       "\n",
       "mpl.figure.prototype.handle_save = function(fig, msg) {\n",
       "    var format_dropdown = fig.format_dropdown;\n",
       "    var format = format_dropdown.options[format_dropdown.selectedIndex].value;\n",
       "    fig.ondownload(fig, format);\n",
       "}\n",
       "\n",
       "\n",
       "mpl.figure.prototype.handle_resize = function(fig, msg) {\n",
       "    var size = msg['size'];\n",
       "    if (size[0] != fig.canvas.width || size[1] != fig.canvas.height) {\n",
       "        fig._resize_canvas(size[0], size[1]);\n",
       "        fig.send_message(\"refresh\", {});\n",
       "    };\n",
       "}\n",
       "\n",
       "mpl.figure.prototype.handle_rubberband = function(fig, msg) {\n",
       "    var x0 = msg['x0'];\n",
       "    var y0 = fig.canvas.height - msg['y0'];\n",
       "    var x1 = msg['x1'];\n",
       "    var y1 = fig.canvas.height - msg['y1'];\n",
       "    x0 = Math.floor(x0) + 0.5;\n",
       "    y0 = Math.floor(y0) + 0.5;\n",
       "    x1 = Math.floor(x1) + 0.5;\n",
       "    y1 = Math.floor(y1) + 0.5;\n",
       "    var min_x = Math.min(x0, x1);\n",
       "    var min_y = Math.min(y0, y1);\n",
       "    var width = Math.abs(x1 - x0);\n",
       "    var height = Math.abs(y1 - y0);\n",
       "\n",
       "    fig.rubberband_context.clearRect(\n",
       "        0, 0, fig.canvas.width, fig.canvas.height);\n",
       "\n",
       "    fig.rubberband_context.strokeRect(min_x, min_y, width, height);\n",
       "}\n",
       "\n",
       "mpl.figure.prototype.handle_figure_label = function(fig, msg) {\n",
       "    // Updates the figure title.\n",
       "    fig.header.textContent = msg['label'];\n",
       "}\n",
       "\n",
       "mpl.figure.prototype.handle_cursor = function(fig, msg) {\n",
       "    var cursor = msg['cursor'];\n",
       "    switch(cursor)\n",
       "    {\n",
       "    case 0:\n",
       "        cursor = 'pointer';\n",
       "        break;\n",
       "    case 1:\n",
       "        cursor = 'default';\n",
       "        break;\n",
       "    case 2:\n",
       "        cursor = 'crosshair';\n",
       "        break;\n",
       "    case 3:\n",
       "        cursor = 'move';\n",
       "        break;\n",
       "    }\n",
       "    fig.rubberband_canvas.style.cursor = cursor;\n",
       "}\n",
       "\n",
       "mpl.figure.prototype.handle_message = function(fig, msg) {\n",
       "    fig.message.textContent = msg['message'];\n",
       "}\n",
       "\n",
       "mpl.figure.prototype.handle_draw = function(fig, msg) {\n",
       "    // Request the server to send over a new figure.\n",
       "    fig.send_draw_message();\n",
       "}\n",
       "\n",
       "mpl.figure.prototype.handle_image_mode = function(fig, msg) {\n",
       "    fig.image_mode = msg['mode'];\n",
       "}\n",
       "\n",
       "mpl.figure.prototype.updated_canvas_event = function() {\n",
       "    // Called whenever the canvas gets updated.\n",
       "    this.send_message(\"ack\", {});\n",
       "}\n",
       "\n",
       "// A function to construct a web socket function for onmessage handling.\n",
       "// Called in the figure constructor.\n",
       "mpl.figure.prototype._make_on_message_function = function(fig) {\n",
       "    return function socket_on_message(evt) {\n",
       "        if (evt.data instanceof Blob) {\n",
       "            /* FIXME: We get \"Resource interpreted as Image but\n",
       "             * transferred with MIME type text/plain:\" errors on\n",
       "             * Chrome.  But how to set the MIME type?  It doesn't seem\n",
       "             * to be part of the websocket stream */\n",
       "            evt.data.type = \"image/png\";\n",
       "\n",
       "            /* Free the memory for the previous frames */\n",
       "            if (fig.imageObj.src) {\n",
       "                (window.URL || window.webkitURL).revokeObjectURL(\n",
       "                    fig.imageObj.src);\n",
       "            }\n",
       "\n",
       "            fig.imageObj.src = (window.URL || window.webkitURL).createObjectURL(\n",
       "                evt.data);\n",
       "            fig.updated_canvas_event();\n",
       "            fig.waiting = false;\n",
       "            return;\n",
       "        }\n",
       "        else if (typeof evt.data === 'string' && evt.data.slice(0, 21) == \"data:image/png;base64\") {\n",
       "            fig.imageObj.src = evt.data;\n",
       "            fig.updated_canvas_event();\n",
       "            fig.waiting = false;\n",
       "            return;\n",
       "        }\n",
       "\n",
       "        var msg = JSON.parse(evt.data);\n",
       "        var msg_type = msg['type'];\n",
       "\n",
       "        // Call the  \"handle_{type}\" callback, which takes\n",
       "        // the figure and JSON message as its only arguments.\n",
       "        try {\n",
       "            var callback = fig[\"handle_\" + msg_type];\n",
       "        } catch (e) {\n",
       "            console.log(\"No handler for the '\" + msg_type + \"' message type: \", msg);\n",
       "            return;\n",
       "        }\n",
       "\n",
       "        if (callback) {\n",
       "            try {\n",
       "                // console.log(\"Handling '\" + msg_type + \"' message: \", msg);\n",
       "                callback(fig, msg);\n",
       "            } catch (e) {\n",
       "                console.log(\"Exception inside the 'handler_\" + msg_type + \"' callback:\", e, e.stack, msg);\n",
       "            }\n",
       "        }\n",
       "    };\n",
       "}\n",
       "\n",
       "// from http://stackoverflow.com/questions/1114465/getting-mouse-location-in-canvas\n",
       "mpl.findpos = function(e) {\n",
       "    //this section is from http://www.quirksmode.org/js/events_properties.html\n",
       "    var targ;\n",
       "    if (!e)\n",
       "        e = window.event;\n",
       "    if (e.target)\n",
       "        targ = e.target;\n",
       "    else if (e.srcElement)\n",
       "        targ = e.srcElement;\n",
       "    if (targ.nodeType == 3) // defeat Safari bug\n",
       "        targ = targ.parentNode;\n",
       "\n",
       "    // jQuery normalizes the pageX and pageY\n",
       "    // pageX,Y are the mouse positions relative to the document\n",
       "    // offset() returns the position of the element relative to the document\n",
       "    var x = e.pageX - $(targ).offset().left;\n",
       "    var y = e.pageY - $(targ).offset().top;\n",
       "\n",
       "    return {\"x\": x, \"y\": y};\n",
       "};\n",
       "\n",
       "/*\n",
       " * return a copy of an object with only non-object keys\n",
       " * we need this to avoid circular references\n",
       " * http://stackoverflow.com/a/24161582/3208463\n",
       " */\n",
       "function simpleKeys (original) {\n",
       "  return Object.keys(original).reduce(function (obj, key) {\n",
       "    if (typeof original[key] !== 'object')\n",
       "        obj[key] = original[key]\n",
       "    return obj;\n",
       "  }, {});\n",
       "}\n",
       "\n",
       "mpl.figure.prototype.mouse_event = function(event, name) {\n",
       "    var canvas_pos = mpl.findpos(event)\n",
       "\n",
       "    if (name === 'button_press')\n",
       "    {\n",
       "        this.canvas.focus();\n",
       "        this.canvas_div.focus();\n",
       "    }\n",
       "\n",
       "    var x = canvas_pos.x;\n",
       "    var y = canvas_pos.y;\n",
       "\n",
       "    this.send_message(name, {x: x, y: y, button: event.button,\n",
       "                             step: event.step,\n",
       "                             guiEvent: simpleKeys(event)});\n",
       "\n",
       "    /* This prevents the web browser from automatically changing to\n",
       "     * the text insertion cursor when the button is pressed.  We want\n",
       "     * to control all of the cursor setting manually through the\n",
       "     * 'cursor' event from matplotlib */\n",
       "    event.preventDefault();\n",
       "    return false;\n",
       "}\n",
       "\n",
       "mpl.figure.prototype._key_event_extra = function(event, name) {\n",
       "    // Handle any extra behaviour associated with a key event\n",
       "}\n",
       "\n",
       "mpl.figure.prototype.key_event = function(event, name) {\n",
       "\n",
       "    // Prevent repeat events\n",
       "    if (name == 'key_press')\n",
       "    {\n",
       "        if (event.which === this._key)\n",
       "            return;\n",
       "        else\n",
       "            this._key = event.which;\n",
       "    }\n",
       "    if (name == 'key_release')\n",
       "        this._key = null;\n",
       "\n",
       "    var value = '';\n",
       "    if (event.ctrlKey && event.which != 17)\n",
       "        value += \"ctrl+\";\n",
       "    if (event.altKey && event.which != 18)\n",
       "        value += \"alt+\";\n",
       "    if (event.shiftKey && event.which != 16)\n",
       "        value += \"shift+\";\n",
       "\n",
       "    value += 'k';\n",
       "    value += event.which.toString();\n",
       "\n",
       "    this._key_event_extra(event, name);\n",
       "\n",
       "    this.send_message(name, {key: value,\n",
       "                             guiEvent: simpleKeys(event)});\n",
       "    return false;\n",
       "}\n",
       "\n",
       "mpl.figure.prototype.toolbar_button_onclick = function(name) {\n",
       "    if (name == 'download') {\n",
       "        this.handle_save(this, null);\n",
       "    } else {\n",
       "        this.send_message(\"toolbar_button\", {name: name});\n",
       "    }\n",
       "};\n",
       "\n",
       "mpl.figure.prototype.toolbar_button_onmouseover = function(tooltip) {\n",
       "    this.message.textContent = tooltip;\n",
       "};\n",
       "mpl.toolbar_items = [[\"Home\", \"Reset original view\", \"fa fa-home icon-home\", \"home\"], [\"Back\", \"Back to  previous view\", \"fa fa-arrow-left icon-arrow-left\", \"back\"], [\"Forward\", \"Forward to next view\", \"fa fa-arrow-right icon-arrow-right\", \"forward\"], [\"\", \"\", \"\", \"\"], [\"Pan\", \"Pan axes with left mouse, zoom with right\", \"fa fa-arrows icon-move\", \"pan\"], [\"Zoom\", \"Zoom to rectangle\", \"fa fa-square-o icon-check-empty\", \"zoom\"], [\"\", \"\", \"\", \"\"], [\"Download\", \"Download plot\", \"fa fa-floppy-o icon-save\", \"download\"]];\n",
       "\n",
       "mpl.extensions = [\"eps\", \"jpeg\", \"pdf\", \"png\", \"ps\", \"raw\", \"svg\", \"tif\"];\n",
       "\n",
       "mpl.default_extension = \"png\";var comm_websocket_adapter = function(comm) {\n",
       "    // Create a \"websocket\"-like object which calls the given IPython comm\n",
       "    // object with the appropriate methods. Currently this is a non binary\n",
       "    // socket, so there is still some room for performance tuning.\n",
       "    var ws = {};\n",
       "\n",
       "    ws.close = function() {\n",
       "        comm.close()\n",
       "    };\n",
       "    ws.send = function(m) {\n",
       "        //console.log('sending', m);\n",
       "        comm.send(m);\n",
       "    };\n",
       "    // Register the callback with on_msg.\n",
       "    comm.on_msg(function(msg) {\n",
       "        //console.log('receiving', msg['content']['data'], msg);\n",
       "        // Pass the mpl event to the overriden (by mpl) onmessage function.\n",
       "        ws.onmessage(msg['content']['data'])\n",
       "    });\n",
       "    return ws;\n",
       "}\n",
       "\n",
       "mpl.mpl_figure_comm = function(comm, msg) {\n",
       "    // This is the function which gets called when the mpl process\n",
       "    // starts-up an IPython Comm through the \"matplotlib\" channel.\n",
       "\n",
       "    var id = msg.content.data.id;\n",
       "    // Get hold of the div created by the display call when the Comm\n",
       "    // socket was opened in Python.\n",
       "    var element = $(\"#\" + id);\n",
       "    var ws_proxy = comm_websocket_adapter(comm)\n",
       "\n",
       "    function ondownload(figure, format) {\n",
       "        window.open(figure.imageObj.src);\n",
       "    }\n",
       "\n",
       "    var fig = new mpl.figure(id, ws_proxy,\n",
       "                           ondownload,\n",
       "                           element.get(0));\n",
       "\n",
       "    // Call onopen now - mpl needs it, as it is assuming we've passed it a real\n",
       "    // web socket which is closed, not our websocket->open comm proxy.\n",
       "    ws_proxy.onopen();\n",
       "\n",
       "    fig.parent_element = element.get(0);\n",
       "    fig.cell_info = mpl.find_output_cell(\"<div id='\" + id + \"'></div>\");\n",
       "    if (!fig.cell_info) {\n",
       "        console.error(\"Failed to find cell for figure\", id, fig);\n",
       "        return;\n",
       "    }\n",
       "\n",
       "    var output_index = fig.cell_info[2]\n",
       "    var cell = fig.cell_info[0];\n",
       "\n",
       "};\n",
       "\n",
       "mpl.figure.prototype.handle_close = function(fig, msg) {\n",
       "    fig.root.unbind('remove')\n",
       "\n",
       "    // Update the output cell to use the data from the current canvas.\n",
       "    fig.push_to_output();\n",
       "    var dataURL = fig.canvas.toDataURL();\n",
       "    // Re-enable the keyboard manager in IPython - without this line, in FF,\n",
       "    // the notebook keyboard shortcuts fail.\n",
       "    IPython.keyboard_manager.enable()\n",
       "    $(fig.parent_element).html('<img src=\"' + dataURL + '\">');\n",
       "    fig.close_ws(fig, msg);\n",
       "}\n",
       "\n",
       "mpl.figure.prototype.close_ws = function(fig, msg){\n",
       "    fig.send_message('closing', msg);\n",
       "    // fig.ws.close()\n",
       "}\n",
       "\n",
       "mpl.figure.prototype.push_to_output = function(remove_interactive) {\n",
       "    // Turn the data on the canvas into data in the output cell.\n",
       "    var dataURL = this.canvas.toDataURL();\n",
       "    this.cell_info[1]['text/html'] = '<img src=\"' + dataURL + '\">';\n",
       "}\n",
       "\n",
       "mpl.figure.prototype.updated_canvas_event = function() {\n",
       "    // Tell IPython that the notebook contents must change.\n",
       "    IPython.notebook.set_dirty(true);\n",
       "    this.send_message(\"ack\", {});\n",
       "    var fig = this;\n",
       "    // Wait a second, then push the new image to the DOM so\n",
       "    // that it is saved nicely (might be nice to debounce this).\n",
       "    setTimeout(function () { fig.push_to_output() }, 1000);\n",
       "}\n",
       "\n",
       "mpl.figure.prototype._init_toolbar = function() {\n",
       "    var fig = this;\n",
       "\n",
       "    var nav_element = $('<div/>')\n",
       "    nav_element.attr('style', 'width: 100%');\n",
       "    this.root.append(nav_element);\n",
       "\n",
       "    // Define a callback function for later on.\n",
       "    function toolbar_event(event) {\n",
       "        return fig.toolbar_button_onclick(event['data']);\n",
       "    }\n",
       "    function toolbar_mouse_event(event) {\n",
       "        return fig.toolbar_button_onmouseover(event['data']);\n",
       "    }\n",
       "\n",
       "    for(var toolbar_ind in mpl.toolbar_items){\n",
       "        var name = mpl.toolbar_items[toolbar_ind][0];\n",
       "        var tooltip = mpl.toolbar_items[toolbar_ind][1];\n",
       "        var image = mpl.toolbar_items[toolbar_ind][2];\n",
       "        var method_name = mpl.toolbar_items[toolbar_ind][3];\n",
       "\n",
       "        if (!name) { continue; };\n",
       "\n",
       "        var button = $('<button class=\"btn btn-default\" href=\"#\" title=\"' + name + '\"><i class=\"fa ' + image + ' fa-lg\"></i></button>');\n",
       "        button.click(method_name, toolbar_event);\n",
       "        button.mouseover(tooltip, toolbar_mouse_event);\n",
       "        nav_element.append(button);\n",
       "    }\n",
       "\n",
       "    // Add the status bar.\n",
       "    var status_bar = $('<span class=\"mpl-message\" style=\"text-align:right; float: right;\"/>');\n",
       "    nav_element.append(status_bar);\n",
       "    this.message = status_bar[0];\n",
       "\n",
       "    // Add the close button to the window.\n",
       "    var buttongrp = $('<div class=\"btn-group inline pull-right\"></div>');\n",
       "    var button = $('<button class=\"btn btn-mini btn-primary\" href=\"#\" title=\"Stop Interaction\"><i class=\"fa fa-power-off icon-remove icon-large\"></i></button>');\n",
       "    button.click(function (evt) { fig.handle_close(fig, {}); } );\n",
       "    button.mouseover('Stop Interaction', toolbar_mouse_event);\n",
       "    buttongrp.append(button);\n",
       "    var titlebar = this.root.find($('.ui-dialog-titlebar'));\n",
       "    titlebar.prepend(buttongrp);\n",
       "}\n",
       "\n",
       "mpl.figure.prototype._root_extra_style = function(el){\n",
       "    var fig = this\n",
       "    el.on(\"remove\", function(){\n",
       "\tfig.close_ws(fig, {});\n",
       "    });\n",
       "}\n",
       "\n",
       "mpl.figure.prototype._canvas_extra_style = function(el){\n",
       "    // this is important to make the div 'focusable\n",
       "    el.attr('tabindex', 0)\n",
       "    // reach out to IPython and tell the keyboard manager to turn it's self\n",
       "    // off when our div gets focus\n",
       "\n",
       "    // location in version 3\n",
       "    if (IPython.notebook.keyboard_manager) {\n",
       "        IPython.notebook.keyboard_manager.register_events(el);\n",
       "    }\n",
       "    else {\n",
       "        // location in version 2\n",
       "        IPython.keyboard_manager.register_events(el);\n",
       "    }\n",
       "\n",
       "}\n",
       "\n",
       "mpl.figure.prototype._key_event_extra = function(event, name) {\n",
       "    var manager = IPython.notebook.keyboard_manager;\n",
       "    if (!manager)\n",
       "        manager = IPython.keyboard_manager;\n",
       "\n",
       "    // Check for shift+enter\n",
       "    if (event.shiftKey && event.which == 13) {\n",
       "        this.canvas_div.blur();\n",
       "        event.shiftKey = false;\n",
       "        // Send a \"J\" for go to next cell\n",
       "        event.which = 74;\n",
       "        event.keyCode = 74;\n",
       "        manager.command_mode();\n",
       "        manager.handle_keydown(event);\n",
       "    }\n",
       "}\n",
       "\n",
       "mpl.figure.prototype.handle_save = function(fig, msg) {\n",
       "    fig.ondownload(fig, null);\n",
       "}\n",
       "\n",
       "\n",
       "mpl.find_output_cell = function(html_output) {\n",
       "    // Return the cell and output element which can be found *uniquely* in the notebook.\n",
       "    // Note - this is a bit hacky, but it is done because the \"notebook_saving.Notebook\"\n",
       "    // IPython event is triggered only after the cells have been serialised, which for\n",
       "    // our purposes (turning an active figure into a static one), is too late.\n",
       "    var cells = IPython.notebook.get_cells();\n",
       "    var ncells = cells.length;\n",
       "    for (var i=0; i<ncells; i++) {\n",
       "        var cell = cells[i];\n",
       "        if (cell.cell_type === 'code'){\n",
       "            for (var j=0; j<cell.output_area.outputs.length; j++) {\n",
       "                var data = cell.output_area.outputs[j];\n",
       "                if (data.data) {\n",
       "                    // IPython >= 3 moved mimebundle to data attribute of output\n",
       "                    data = data.data;\n",
       "                }\n",
       "                if (data['text/html'] == html_output) {\n",
       "                    return [cell, data, j];\n",
       "                }\n",
       "            }\n",
       "        }\n",
       "    }\n",
       "}\n",
       "\n",
       "// Register the function which deals with the matplotlib target/channel.\n",
       "// The kernel may be null if the page has been refreshed.\n",
       "if (IPython.notebook.kernel != null) {\n",
       "    IPython.notebook.kernel.comm_manager.register_target('matplotlib', mpl.mpl_figure_comm);\n",
       "}\n"
      ],
      "text/plain": [
       "<IPython.core.display.Javascript object>"
      ]
     },
     "metadata": {},
     "output_type": "display_data"
    },
    {
     "data": {
      "text/html": [
       "<img src=\"data:image/png;base64,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\">"
      ],
      "text/plain": [
       "<IPython.core.display.HTML object>"
      ]
     },
     "metadata": {},
     "output_type": "display_data"
    },
    {
     "data": {
      "text/plain": [
       "[<matplotlib.lines.Line2D at 0x6e3db38>]"
      ]
     },
     "execution_count": 3,
     "metadata": {},
     "output_type": "execute_result"
    }
   ],
   "source": [
    "plot(np.random.randn(100))"
   ]
  },
  {
   "cell_type": "markdown",
   "metadata": {
    "nbpresent": {
     "id": "443cd9fc-71b6-4b77-b38b-1b59221433bf"
    }
   },
   "source": [
    "##### Seaborn\n",
    "- Seaborn은 자체로 Rendering을 하는 것이 아니라, Matplotlib을 등에 업고 시각화를 한다.\n",
    "- Matplotlib과 태생적 차이점은 Seaborn은 통계형 자료형을 2차 평면에 시각화하기 위한 도구이다.\n",
    "- 따라서 통계를 위한 집합 데이터나 혹은 \"Pandas 라이브러리\"의 데이터 형을 입력하면\n",
    "- 내부에서 데이터를 분석하여 사용자가 원하는 Plot을 Matplotlib으로 전달한다.\n",
    "\n",
    "![Viloin Plot](https://stanford.edu/~mwaskom/software/seaborn/_images/elaborate_violinplot.png)"
   ]
  },
  {
   "cell_type": "code",
   "execution_count": 1,
   "metadata": {
    "collapsed": true,
    "nbpresent": {
     "id": "9815a64e-860f-467c-9bc9-384702e0069b"
    }
   },
   "outputs": [
    {
     "name": "stdout",
     "output_type": "stream",
     "text": [
      "Using matplotlib backend: Qt4Agg\n",
      "Populating the interactive namespace from numpy and matplotlib\n"
     ]
    },
    {
     "data": {
      "text/html": [
       "<div>\n",
       "<table border=\"1\" class=\"dataframe\">\n",
       "  <thead>\n",
       "    <tr style=\"text-align: right;\">\n",
       "      <th></th>\n",
       "      <th>total_bill</th>\n",
       "      <th>tip</th>\n",
       "      <th>sex</th>\n",
       "      <th>smoker</th>\n",
       "      <th>day</th>\n",
       "      <th>time</th>\n",
       "      <th>size</th>\n",
       "    </tr>\n",
       "  </thead>\n",
       "  <tbody>\n",
       "    <tr>\n",
       "      <th>0</th>\n",
       "      <td>16.99</td>\n",
       "      <td>1.01</td>\n",
       "      <td>Female</td>\n",
       "      <td>No</td>\n",
       "      <td>Sun</td>\n",
       "      <td>Dinner</td>\n",
       "      <td>2</td>\n",
       "    </tr>\n",
       "    <tr>\n",
       "      <th>1</th>\n",
       "      <td>10.34</td>\n",
       "      <td>1.66</td>\n",
       "      <td>Male</td>\n",
       "      <td>No</td>\n",
       "      <td>Sun</td>\n",
       "      <td>Dinner</td>\n",
       "      <td>3</td>\n",
       "    </tr>\n",
       "    <tr>\n",
       "      <th>2</th>\n",
       "      <td>21.01</td>\n",
       "      <td>3.50</td>\n",
       "      <td>Male</td>\n",
       "      <td>No</td>\n",
       "      <td>Sun</td>\n",
       "      <td>Dinner</td>\n",
       "      <td>3</td>\n",
       "    </tr>\n",
       "    <tr>\n",
       "      <th>3</th>\n",
       "      <td>23.68</td>\n",
       "      <td>3.31</td>\n",
       "      <td>Male</td>\n",
       "      <td>No</td>\n",
       "      <td>Sun</td>\n",
       "      <td>Dinner</td>\n",
       "      <td>2</td>\n",
       "    </tr>\n",
       "    <tr>\n",
       "      <th>4</th>\n",
       "      <td>24.59</td>\n",
       "      <td>3.61</td>\n",
       "      <td>Female</td>\n",
       "      <td>No</td>\n",
       "      <td>Sun</td>\n",
       "      <td>Dinner</td>\n",
       "      <td>4</td>\n",
       "    </tr>\n",
       "  </tbody>\n",
       "</table>\n",
       "</div>"
      ],
      "text/plain": [
       "   total_bill   tip     sex smoker  day    time  size\n",
       "0       16.99  1.01  Female     No  Sun  Dinner     2\n",
       "1       10.34  1.66    Male     No  Sun  Dinner     3\n",
       "2       21.01  3.50    Male     No  Sun  Dinner     3\n",
       "3       23.68  3.31    Male     No  Sun  Dinner     2\n",
       "4       24.59  3.61  Female     No  Sun  Dinner     4"
      ]
     },
     "execution_count": 1,
     "metadata": {},
     "output_type": "execute_result"
    },
    {
     "data": {
      "image/png": "[encoded data removed]",
      "text/plain": [
       "<matplotlib.figure.Figure at 0x15714f8ecc0>"
      ]
     },
     "metadata": {},
     "output_type": "display_data"
    }
   ],
   "source": [
    "%pylab\n",
    "%matplotlib inline\n",
    "import seaborn as sns\n",
    "\n",
    "# Load the example tips dataset\n",
    "tips = sns.load_dataset(\"tips\")\n",
    "# Draw a nested boxplot to show bills by day and sex\n",
    "sns.boxplot(x=\"day\", y=\"total_bill\", hue=\"sex\", data=tips);\n",
    "# Show data \n",
    "tips.head(5)"
   ]
  },
  {
   "cell_type": "code",
   "execution_count": 20,
   "metadata": {
    "collapsed": true,
    "nbpresent": {
     "id": "b1a0fd85-75f6-463b-ba21-1c6341304ce6"
    }
   },
   "outputs": [
    {
     "data": {
      "text/plain": [
       "sex          \n",
       "Male    count    157.000000\n",
       "        mean      20.744076\n",
       "        std        9.246469\n",
       "        min        7.250000\n",
       "        25%       14.000000\n",
       "        50%       18.350000\n",
       "        75%       24.710000\n",
       "        max       50.810000\n",
       "Female  count     87.000000\n",
       "        mean      18.056897\n",
       "        std        8.009209\n",
       "        min        3.070000\n",
       "        25%       12.750000\n",
       "        50%       16.400000\n",
       "        75%       21.520000\n",
       "        max       44.300000\n",
       "Name: total_bill, dtype: float64"
      ]
     },
     "execution_count": 20,
     "metadata": {},
     "output_type": "execute_result"
    }
   ],
   "source": [
    "tips.groupby(\"sex\").total_bill.describe()"
   ]
  },
  {
   "cell_type": "code",
   "execution_count": 18,
   "metadata": {
    "collapsed": false,
    "nbpresent": {
     "id": "de61dce4-28c6-4c4b-aa3b-3d64844740b5"
    }
   },
   "outputs": [
    {
     "data": {
      "text/html": [
       "<div>\n",
       "<table border=\"1\" class=\"dataframe\">\n",
       "  <thead>\n",
       "    <tr style=\"text-align: right;\">\n",
       "      <th></th>\n",
       "      <th>total_bill</th>\n",
       "      <th>tip</th>\n",
       "      <th>size</th>\n",
       "    </tr>\n",
       "    <tr>\n",
       "      <th>sex</th>\n",
       "      <th></th>\n",
       "      <th></th>\n",
       "      <th></th>\n",
       "    </tr>\n",
       "  </thead>\n",
       "  <tbody>\n",
       "    <tr>\n",
       "      <th>Male</th>\n",
       "      <td>21.461452</td>\n",
       "      <td>3.144839</td>\n",
       "      <td>2.701613</td>\n",
       "    </tr>\n",
       "    <tr>\n",
       "      <th>Female</th>\n",
       "      <td>19.213077</td>\n",
       "      <td>3.002115</td>\n",
       "      <td>2.461538</td>\n",
       "    </tr>\n",
       "  </tbody>\n",
       "</table>\n",
       "</div>"
      ],
      "text/plain": [
       "        total_bill       tip      size\n",
       "sex                                   \n",
       "Male     21.461452  3.144839  2.701613\n",
       "Female   19.213077  3.002115  2.461538"
      ]
     },
     "execution_count": 18,
     "metadata": {},
     "output_type": "execute_result"
    }
   ],
   "source": [
    "tips.query(\"time=='Dinner'\").groupby(\"sex\").mean()"
   ]
  },
  {
   "cell_type": "markdown",
   "metadata": {
    "nbpresent": {
     "id": "b00a9f97-3e7f-42db-b455-f1ca6cd42561"
    }
   },
   "source": [
    "##### PyQtGraph\n",
    "- 렌더링 속도가 상당히 빠르고 Plot Wiget내부의 UI가 상당히 완성도 높다.\n",
    "- OpenGL을 활용한 Rendering이 가능하기 때문에 3D Visualize에서도 결과의 완성도가 높다\n",
    "- Jupyter-notebook 같이 Interactive 한 visualize는 작접하기 어렵다.\n"
   ]
  },
  {
   "cell_type": "code",
   "execution_count": 2,
   "metadata": {
    "collapsed": false,
    "nbpresent": {
     "id": "ffa03ccc-181f-449b-b256-783393549f18"
    },
    "scrolled": true
   },
   "outputs": [
    {
     "data": {
      "text/plain": [
       "0"
      ]
     },
     "execution_count": 2,
     "metadata": {},
     "output_type": "execute_result"
    }
   ],
   "source": [
    "import numpy as np\n",
    "import pyqtgraph as pg\n",
    "\n",
    "data = np.random.normal(size=1000)\n",
    "pg.plot(data)\n",
    "pg.QtGui.QApplication.exec_()\n",
    "\n",
    "\n",
    "#pg.examples.run() 예제 파일 참고"
   ]
  },
  {
   "cell_type": "code",
   "execution_count": 1,
   "metadata": {
    "collapsed": false
   },
   "outputs": [],
   "source": [
    "import pyqtgraph.examples as pe\n",
    "pe.run()"
   ]
  },
  {
   "cell_type": "markdown",
   "metadata": {
    "nbpresent": {
     "id": "262504ab-4cb3-4928-b1e7-fe13de30ac2e"
    }
   },
   "source": [
    "##### bokeh\n",
    "Interactive 측면에서 상당히 접근성이 우수하고, 렌더링 결과가 아름답다.\n",
    "remote-client 에서 연결성이 좋다."
   ]
  },
  {
   "cell_type": "code",
   "execution_count": 3,
   "metadata": {
    "collapsed": false,
    "nbpresent": {
     "id": "3b92fbfc-4585-450f-a986-82b7a5d72ffe"
    }
   },
   "outputs": [
    {
     "data": {
      "text/html": [
       "\n",
       "    <div class=\"bk-root\">\n",
       "        <a href=\"http://bokeh.pydata.org\" target=\"_blank\" class=\"bk-logo bk-logo-small bk-logo-notebook\"></a>\n",
       "        <span id=\"fb4242e2-4659-4c89-ac0e-992b41320328\">Loading BokehJS ...</span>\n",
       "    </div>"
      ]
     },
     "metadata": {},
     "output_type": "display_data"
    },
    {
     "data": {
      "application/javascript": [
       "\n",
       "(function(global) {\n",
       "  function now() {\n",
       "    return new Date();\n",
       "  }\n",
       "\n",
       "  if (typeof (window._bokeh_onload_callbacks) === \"undefined\") {\n",
       "    window._bokeh_onload_callbacks = [];\n",
       "  }\n",
       "\n",
       "  function run_callbacks() {\n",
       "    window._bokeh_onload_callbacks.forEach(function(callback) { callback() });\n",
       "    delete window._bokeh_onload_callbacks\n",
       "    console.info(\"Bokeh: all callbacks have finished\");\n",
       "  }\n",
       "\n",
       "  function load_libs(js_urls, callback) {\n",
       "    window._bokeh_onload_callbacks.push(callback);\n",
       "    if (window._bokeh_is_loading > 0) {\n",
       "      console.log(\"Bokeh: BokehJS is being loaded, scheduling callback at\", now());\n",
       "      return null;\n",
       "    }\n",
       "    if (js_urls == null || js_urls.length === 0) {\n",
       "      run_callbacks();\n",
       "      return null;\n",
       "    }\n",
       "    console.log(\"Bokeh: BokehJS not loaded, scheduling load and callback at\", now());\n",
       "    window._bokeh_is_loading = js_urls.length;\n",
       "    for (var i = 0; i < js_urls.length; i++) {\n",
       "      var url = js_urls[i];\n",
       "      var s = document.createElement('script');\n",
       "      s.src = url;\n",
       "      s.async = false;\n",
       "      s.onreadystatechange = s.onload = function() {\n",
       "        window._bokeh_is_loading--;\n",
       "        if (window._bokeh_is_loading === 0) {\n",
       "          console.log(\"Bokeh: all BokehJS libraries loaded\");\n",
       "          run_callbacks()\n",
       "        }\n",
       "      };\n",
       "      s.onerror = function() {\n",
       "        console.warn(\"failed to load library \" + url);\n",
       "      };\n",
       "      console.log(\"Bokeh: injecting script tag for BokehJS library: \", url);\n",
       "      document.getElementsByTagName(\"head\")[0].appendChild(s);\n",
       "    }\n",
       "  };\n",
       "\n",
       "  var js_urls = ['https://cdn.pydata.org/bokeh/release/bokeh-0.12.0.min.js', 'https://cdn.pydata.org/bokeh/release/bokeh-widgets-0.12.0.min.js', 'https://cdn.pydata.org/bokeh/release/bokeh-compiler-0.12.0.min.js'];\n",
       "\n",
       "  var inline_js = [\n",
       "    function(Bokeh) {\n",
       "      Bokeh.set_log_level(\"info\");\n",
       "    },\n",
       "    \n",
       "    function(Bokeh) {\n",
       "      Bokeh.$(\"#fb4242e2-4659-4c89-ac0e-992b41320328\").text(\"BokehJS successfully loaded\");\n",
       "    },\n",
       "    function(Bokeh) {\n",
       "      console.log(\"Bokeh: injecting CSS: https://cdn.pydata.org/bokeh/release/bokeh-0.12.0.min.css\");\n",
       "      Bokeh.embed.inject_css(\"https://cdn.pydata.org/bokeh/release/bokeh-0.12.0.min.css\");\n",
       "      console.log(\"Bokeh: injecting CSS: https://cdn.pydata.org/bokeh/release/bokeh-widgets-0.12.0.min.css\");\n",
       "      Bokeh.embed.inject_css(\"https://cdn.pydata.org/bokeh/release/bokeh-widgets-0.12.0.min.css\");\n",
       "    }\n",
       "  ];\n",
       "\n",
       "  function run_inline_js() {\n",
       "    for (var i = 0; i < inline_js.length; i++) {\n",
       "      inline_js[i](window.Bokeh);\n",
       "    }\n",
       "  }\n",
       "\n",
       "  if (window._bokeh_is_loading === 0) {\n",
       "    console.log(\"Bokeh: BokehJS loaded, going straight to plotting\");\n",
       "    run_inline_js();\n",
       "  } else {\n",
       "    load_libs(js_urls, function() {\n",
       "      console.log(\"Bokeh: BokehJS plotting callback run at\", now());\n",
       "      run_inline_js();\n",
       "    });\n",
       "  }\n",
       "}(this));"
      ]
     },
     "metadata": {},
     "output_type": "display_data"
    },
    {
     "data": {
      "text/html": [
       "\n",
       "\n",
       "    <div class=\"bk-root\">\n",
       "        <div class=\"plotdiv\" id=\"c3b5ec89-8b71-4348-94e9-6a40b4585539\"></div>\n",
       "    </div>\n",
       "<script type=\"text/javascript\">\n",
       "  \n",
       "  (function(global) {\n",
       "    function now() {\n",
       "      return new Date();\n",
       "    }\n",
       "  \n",
       "    if (typeof (window._bokeh_onload_callbacks) === \"undefined\") {\n",
       "      window._bokeh_onload_callbacks = [];\n",
       "    }\n",
       "  \n",
       "    function run_callbacks() {\n",
       "      window._bokeh_onload_callbacks.forEach(function(callback) { callback() });\n",
       "      delete window._bokeh_onload_callbacks\n",
       "      console.info(\"Bokeh: all callbacks have finished\");\n",
       "    }\n",
       "  \n",
       "    function load_libs(js_urls, callback) {\n",
       "      window._bokeh_onload_callbacks.push(callback);\n",
       "      if (window._bokeh_is_loading > 0) {\n",
       "        console.log(\"Bokeh: BokehJS is being loaded, scheduling callback at\", now());\n",
       "        return null;\n",
       "      }\n",
       "      if (js_urls == null || js_urls.length === 0) {\n",
       "        run_callbacks();\n",
       "        return null;\n",
       "      }\n",
       "      console.log(\"Bokeh: BokehJS not loaded, scheduling load and callback at\", now());\n",
       "      window._bokeh_is_loading = js_urls.length;\n",
       "      for (var i = 0; i < js_urls.length; i++) {\n",
       "        var url = js_urls[i];\n",
       "        var s = document.createElement('script');\n",
       "        s.src = url;\n",
       "        s.async = false;\n",
       "        s.onreadystatechange = s.onload = function() {\n",
       "          window._bokeh_is_loading--;\n",
       "          if (window._bokeh_is_loading === 0) {\n",
       "            console.log(\"Bokeh: all BokehJS libraries loaded\");\n",
       "            run_callbacks()\n",
       "          }\n",
       "        };\n",
       "        s.onerror = function() {\n",
       "          console.warn(\"failed to load library \" + url);\n",
       "        };\n",
       "        console.log(\"Bokeh: injecting script tag for BokehJS library: \", url);\n",
       "        document.getElementsByTagName(\"head\")[0].appendChild(s);\n",
       "      }\n",
       "    };var element = document.getElementById(\"c3b5ec89-8b71-4348-94e9-6a40b4585539\");\n",
       "    if (element == null) {\n",
       "      console.log(\"Bokeh: ERROR: autoload.js configured with elementid 'c3b5ec89-8b71-4348-94e9-6a40b4585539' but no matching script tag was found. \")\n",
       "      return false;\n",
       "    }\n",
       "  \n",
       "    var js_urls = [];\n",
       "  \n",
       "    var inline_js = [\n",
       "      function(Bokeh) {\n",
       "        Bokeh.$(function() {\n",
       "            var docs_json = {\"cff968b6-1d87-4e47-aef6-e20630a231f0\":{\"roots\":{\"references\":[{\"attributes\":{},\"id\":\"5ce8f384-5665-428d-954b-29acc3abb250\",\"type\":\"ToolEvents\"},{\"attributes\":{},\"id\":\"bc91eb4a-65cf-4072-898f-ea2c209573f8\",\"type\":\"BasicTickFormatter\"},{\"attributes\":{},\"id\":\"59f99abd-8b33-4236-921c-9df138c76468\",\"type\":\"BasicTickFormatter\"},{\"attributes\":{\"active_drag\":\"auto\",\"active_scroll\":\"auto\",\"active_tap\":\"auto\",\"tools\":[{\"id\":\"e8adb4f2-2e50-4fba-987d-57152065f862\",\"type\":\"PanTool\"},{\"id\":\"d94ee007-9357-4919-a3ba-624f718c4344\",\"type\":\"WheelZoomTool\"},{\"id\":\"91789dab-f209-4b6f-a043-958b8cf212d3\",\"type\":\"BoxZoomTool\"},{\"id\":\"de4b70b8-1593-45af-9d73-50a35f5ab020\",\"type\":\"SaveTool\"},{\"id\":\"a8d1f098-6092-4335-a3ed-48603c95f64a\",\"type\":\"ResetTool\"},{\"id\":\"d2f6f8e6-1870-4927-b516-3b81c7a95c40\",\"type\":\"HelpTool\"}]},\"id\":\"c83d3d84-1e36-4d1e-80c1-a1d5f1bf307b\",\"type\":\"Toolbar\"},{\"attributes\":{\"callback\":null},\"id\":\"18f5f8c5-c02e-4708-9ed7-943f51693a4f\",\"type\":\"DataRange1d\"},{\"attributes\":{\"line_color\":{\"value\":\"#1f77b4\"},\"x\":{\"field\":\"x\"},\"y\":{\"field\":\"y\"}},\"id\":\"5ec9a61f-4389-429a-b5c2-07df408b45ce\",\"type\":\"Line\"},{\"attributes\":{\"callback\":null},\"id\":\"7b0f6e27-6ada-41f4-b893-63abff7272fa\",\"type\":\"DataRange1d\"},{\"attributes\":{\"below\":[{\"id\":\"05b4e7c6-e5d3-4bf0-b186-8b278439817c\",\"type\":\"LinearAxis\"}],\"left\":[{\"id\":\"921a6d11-71c8-4c2a-acaa-21f7f0546396\",\"type\":\"LinearAxis\"}],\"renderers\":[{\"id\":\"05b4e7c6-e5d3-4bf0-b186-8b278439817c\",\"type\":\"LinearAxis\"},{\"id\":\"de9a3f6e-bbe4-4ea6-bf6f-509fa7cd8f34\",\"type\":\"Grid\"},{\"id\":\"921a6d11-71c8-4c2a-acaa-21f7f0546396\",\"type\":\"LinearAxis\"},{\"id\":\"4550bc25-fbc7-401b-b9fa-0da261821357\",\"type\":\"Grid\"},{\"id\":\"fc784091-3c19-4137-be98-a306aada2644\",\"type\":\"BoxAnnotation\"},{\"id\":\"a773e04c-e599-4e89-808b-22d8e3208105\",\"type\":\"GlyphRenderer\"}],\"title\":{\"id\":\"90417065-4b04-4d2e-a234-c40f74b3e607\",\"type\":\"Title\"},\"tool_events\":{\"id\":\"5ce8f384-5665-428d-954b-29acc3abb250\",\"type\":\"ToolEvents\"},\"toolbar\":{\"id\":\"c83d3d84-1e36-4d1e-80c1-a1d5f1bf307b\",\"type\":\"Toolbar\"},\"x_range\":{\"id\":\"18f5f8c5-c02e-4708-9ed7-943f51693a4f\",\"type\":\"DataRange1d\"},\"y_range\":{\"id\":\"7b0f6e27-6ada-41f4-b893-63abff7272fa\",\"type\":\"DataRange1d\"}},\"id\":\"185ca812-0dad-4f36-8121-8d93280702a9\",\"subtype\":\"Figure\",\"type\":\"Plot\"},{\"attributes\":{\"formatter\":{\"id\":\"59f99abd-8b33-4236-921c-9df138c76468\",\"type\":\"BasicTickFormatter\"},\"plot\":{\"id\":\"185ca812-0dad-4f36-8121-8d93280702a9\",\"subtype\":\"Figure\",\"type\":\"Plot\"},\"ticker\":{\"id\":\"23c6c846-1fad-44a0-9e6b-be6eefd18d0f\",\"type\":\"BasicTicker\"}},\"id\":\"921a6d11-71c8-4c2a-acaa-21f7f0546396\",\"type\":\"LinearAxis\"},{\"attributes\":{\"plot\":{\"id\":\"185ca812-0dad-4f36-8121-8d93280702a9\",\"subtype\":\"Figure\",\"type\":\"Plot\"},\"ticker\":{\"id\":\"62f04cf2-cd90-48c0-90cc-6cd321724092\",\"type\":\"BasicTicker\"}},\"id\":\"de9a3f6e-bbe4-4ea6-bf6f-509fa7cd8f34\",\"type\":\"Grid\"},{\"attributes\":{},\"id\":\"23c6c846-1fad-44a0-9e6b-be6eefd18d0f\",\"type\":\"BasicTicker\"},{\"attributes\":{\"data_source\":{\"id\":\"0eb08f50-6457-4e0b-819f-ca97bbb5346a\",\"type\":\"ColumnDataSource\"},\"glyph\":{\"id\":\"5ec9a61f-4389-429a-b5c2-07df408b45ce\",\"type\":\"Line\"},\"hover_glyph\":null,\"nonselection_glyph\":{\"id\":\"36c0851b-95e2-40e2-b5a8-037b440ade14\",\"type\":\"Line\"},\"selection_glyph\":null},\"id\":\"a773e04c-e599-4e89-808b-22d8e3208105\",\"type\":\"GlyphRenderer\"},{\"attributes\":{\"plot\":null,\"text\":null},\"id\":\"90417065-4b04-4d2e-a234-c40f74b3e607\",\"type\":\"Title\"},{\"attributes\":{\"bottom_units\":\"screen\",\"fill_alpha\":{\"value\":0.5},\"fill_color\":{\"value\":\"lightgrey\"},\"left_units\":\"screen\",\"level\":\"overlay\",\"line_alpha\":{\"value\":1.0},\"line_color\":{\"value\":\"black\"},\"line_dash\":[4,4],\"line_width\":{\"value\":2},\"plot\":null,\"render_mode\":\"css\",\"right_units\":\"screen\",\"top_units\":\"screen\"},\"id\":\"fc784091-3c19-4137-be98-a306aada2644\",\"type\":\"BoxAnnotation\"},{\"attributes\":{\"callback\":null,\"column_names\":[\"y\",\"x\"],\"data\":{\"x\":[0,1,2,3,4,5,6,7,8,9,10,11,12,13,14,15,16,17,18,19,20,21,22,23,24,25,26,27,28,29,30,31,32,33,34,35,36,37,38,39,40,41,42,43,44,45,46,47,48,49,50,51,52,53,54,55,56,57,58,59,60,61,62,63,64,65,66,67,68,69,70,71,72,73,74,75,76,77,78,79,80,81,82,83,84,85,86,87,88,89,90,91,92,93,94,95,96,97,98,99],\"y\":[0.7317251152181066,0.6295566035500728,1.3307574941005054,-0.9879839032118166,0.1465064169323571,-1.2467744680797093,0.882874827499483,-1.347671494097413,-1.091708416801431,0.13137227995606343,1.1442731724451956,-0.4900322788804467,0.08200401224663346,0.2963071511545889,0.8893426042459948,0.04543994297802316,-1.134243354925422,1.4458207177575209,0.7525134569784429,0.5002617715732234,-0.4480720211200566,-0.5791764029652076,-0.9351882338197285,-1.3650594777125746,-0.32143731623288113,0.0516066078620419,-0.330234380879205,0.5260298169525978,1.1844613603367435,0.6962157544101409,0.02959157286507585,0.5674592252120336,-0.0862947328277227,0.6615378906445701,1.9768367819713086,-0.4385099628858775,-0.2266651251077202,0.016997717273549033,0.42224810435909316,-0.4744489295646715,1.5816278698111013,0.5513292159603638,1.7637086376957645,0.35869599102945554,-0.16580926291237513,2.843821253328362,0.8859308305042597,-1.4822320225353525,1.6758862086936024,-0.8762882189296435,-0.09535806228619823,0.10076975375514718,1.2387453834641073,-2.0856162635917928,0.22432069542929206,0.3532342599482692,0.3239377847090644,-0.23535535824947948,0.8403430009957529,-1.3213712927626233,-0.41012300900890986,-0.5204631690790246,-1.391225923352053,0.16658385448648494,-0.15259053932568864,-0.3121155889398474,-0.9121840031922083,0.056762743765628725,0.47094424574916843,-0.4140313620443244,-0.04895255444926228,-0.44201394081235984,0.8546159075503431,0.24616441261483893,1.582545122855646,0.131205602101559,-1.399158839569324,1.200301153001031,-1.3908393593985464,-0.8468826776680217,-0.07278336619564452,-0.021906616046002504,-1.473364515769375,-0.412234313781401,1.1225941980545342,-0.3331541810703367,-1.128078848807653,-1.315516809904235,0.39665982180521925,-0.10705457255889522,-0.1827210349602326,-2.9298463539534896,-0.014626235262382629,-0.8150394849419388,-1.1347161629633924,-0.13831014699131008,1.3765956788615885,0.7669390674709214,0.28453290702674966,0.28221050820075944]}},\"id\":\"0eb08f50-6457-4e0b-819f-ca97bbb5346a\",\"type\":\"ColumnDataSource\"},{\"attributes\":{\"plot\":{\"id\":\"185ca812-0dad-4f36-8121-8d93280702a9\",\"subtype\":\"Figure\",\"type\":\"Plot\"}},\"id\":\"de4b70b8-1593-45af-9d73-50a35f5ab020\",\"type\":\"SaveTool\"},{\"attributes\":{\"dimension\":1,\"plot\":{\"id\":\"185ca812-0dad-4f36-8121-8d93280702a9\",\"subtype\":\"Figure\",\"type\":\"Plot\"},\"ticker\":{\"id\":\"23c6c846-1fad-44a0-9e6b-be6eefd18d0f\",\"type\":\"BasicTicker\"}},\"id\":\"4550bc25-fbc7-401b-b9fa-0da261821357\",\"type\":\"Grid\"},{\"attributes\":{\"overlay\":{\"id\":\"fc784091-3c19-4137-be98-a306aada2644\",\"type\":\"BoxAnnotation\"},\"plot\":{\"id\":\"185ca812-0dad-4f36-8121-8d93280702a9\",\"subtype\":\"Figure\",\"type\":\"Plot\"}},\"id\":\"91789dab-f209-4b6f-a043-958b8cf212d3\",\"type\":\"BoxZoomTool\"},{\"attributes\":{\"plot\":{\"id\":\"185ca812-0dad-4f36-8121-8d93280702a9\",\"subtype\":\"Figure\",\"type\":\"Plot\"}},\"id\":\"e8adb4f2-2e50-4fba-987d-57152065f862\",\"type\":\"PanTool\"},{\"attributes\":{\"formatter\":{\"id\":\"bc91eb4a-65cf-4072-898f-ea2c209573f8\",\"type\":\"BasicTickFormatter\"},\"plot\":{\"id\":\"185ca812-0dad-4f36-8121-8d93280702a9\",\"subtype\":\"Figure\",\"type\":\"Plot\"},\"ticker\":{\"id\":\"62f04cf2-cd90-48c0-90cc-6cd321724092\",\"type\":\"BasicTicker\"}},\"id\":\"05b4e7c6-e5d3-4bf0-b186-8b278439817c\",\"type\":\"LinearAxis\"},{\"attributes\":{\"plot\":{\"id\":\"185ca812-0dad-4f36-8121-8d93280702a9\",\"subtype\":\"Figure\",\"type\":\"Plot\"}},\"id\":\"d2f6f8e6-1870-4927-b516-3b81c7a95c40\",\"type\":\"HelpTool\"},{\"attributes\":{\"plot\":{\"id\":\"185ca812-0dad-4f36-8121-8d93280702a9\",\"subtype\":\"Figure\",\"type\":\"Plot\"}},\"id\":\"a8d1f098-6092-4335-a3ed-48603c95f64a\",\"type\":\"ResetTool\"},{\"attributes\":{\"line_alpha\":{\"value\":0.1},\"line_color\":{\"value\":\"#1f77b4\"},\"x\":{\"field\":\"x\"},\"y\":{\"field\":\"y\"}},\"id\":\"36c0851b-95e2-40e2-b5a8-037b440ade14\",\"type\":\"Line\"},{\"attributes\":{},\"id\":\"62f04cf2-cd90-48c0-90cc-6cd321724092\",\"type\":\"BasicTicker\"},{\"attributes\":{\"plot\":{\"id\":\"185ca812-0dad-4f36-8121-8d93280702a9\",\"subtype\":\"Figure\",\"type\":\"Plot\"}},\"id\":\"d94ee007-9357-4919-a3ba-624f718c4344\",\"type\":\"WheelZoomTool\"}],\"root_ids\":[\"185ca812-0dad-4f36-8121-8d93280702a9\"]},\"title\":\"Bokeh Application\",\"version\":\"0.12.0\"}};\n",
       "            var render_items = [{\"docid\":\"cff968b6-1d87-4e47-aef6-e20630a231f0\",\"elementid\":\"c3b5ec89-8b71-4348-94e9-6a40b4585539\",\"modelid\":\"185ca812-0dad-4f36-8121-8d93280702a9\",\"notebook_comms_target\":\"cdb3ab44-c2cf-4670-a9e4-1b586991633b\"}];\n",
       "            \n",
       "            Bokeh.embed.embed_items(docs_json, render_items);\n",
       "        });\n",
       "      },\n",
       "      function(Bokeh) {\n",
       "      }\n",
       "    ];\n",
       "  \n",
       "    function run_inline_js() {\n",
       "      for (var i = 0; i < inline_js.length; i++) {\n",
       "        inline_js[i](window.Bokeh);\n",
       "      }\n",
       "    }\n",
       "  \n",
       "    if (window._bokeh_is_loading === 0) {\n",
       "      console.log(\"Bokeh: BokehJS loaded, going straight to plotting\");\n",
       "      run_inline_js();\n",
       "    } else {\n",
       "      load_libs(js_urls, function() {\n",
       "        console.log(\"Bokeh: BokehJS plotting callback run at\", now());\n",
       "        run_inline_js();\n",
       "      });\n",
       "    }\n",
       "  }(this));\n",
       "</script>"
      ]
     },
     "metadata": {},
     "output_type": "display_data"
    },
    {
     "data": {
      "text/html": [
       "<p><code>&lt;Bokeh Notebook handle for <strong>In[3]</strong>&gt;</code></p>"
      ],
      "text/plain": [
       "<bokeh.io._CommsHandle at 0xc898b70>"
      ]
     },
     "execution_count": 3,
     "metadata": {},
     "output_type": "execute_result"
    }
   ],
   "source": [
    "import numpy as np\n",
    "from bokeh.plotting import figure, show\n",
    "from bokeh.io import output_notebook\n",
    "\n",
    "output_notebook()\n",
    "\n",
    "p=figure()\n",
    "p.line(range(100), np.random.randn(100) )\n",
    "show(p)"
   ]
  },
  {
   "cell_type": "markdown",
   "metadata": {
    "nbpresent": {
     "id": "53e66672-bb66-41d6-8d32-114d1b2cdcb1"
    }
   },
   "source": [
    "### 직교 좌표계\n",
    "\n",
    "2차원 좌표계\n",
    "\n",
    "평면 좌표\n",
    "오늘 날에 사용하는 2차원 데카르트 좌표계는 xy 평면을 이루는 서로 직교하는 x축 (수평 방향)과 y축(수직 방향)으로 정의한다. x축과 y축이 만나는 점을 원점이라고 부른다.\n",
    "\n",
    "3차원 좌표계\n",
    "오늘 날에 사용하는 3차원 좌표계는 xy, xz, 그리고 yz 평면으로 이루어지는데, 이 세 평면은 서로 직교하며, 평면을 이루는 x축(수평 방향)과 y축(수직 방향) 그리고 z축 또한 서로 직교한다. x, y, z축이 만나는 점을 원점이라고 부른다.\n",
    "\n",
    "![직교 좌표계](https://upload.wikimedia.org/wikipedia/commons/thumb/0/0e/Cartesian-coordinate-system.svg/250px-Cartesian-coordinate-system.svg.png)\n",
    "\n",
    "ref : wikipedia\n"
   ]
  },
  {
   "cell_type": "markdown",
   "metadata": {
    "nbpresent": {
     "id": "3f0779d0-101f-43c6-a87d-0f3b8f8f7b98"
    }
   },
   "source": [
    "### 극 좌표계\n",
    "\n",
    "극좌표계의 점은 반지름(r)과 각(θ)로 표현된다. r은 극에서의 거리를 의미하고, θ는 0°(직교 좌표계의 x축 양의 방향에 해당)에서의 각도를 의미한다. 만약 r이 음의 값을 갖는다면, θ가 가리키는 방향과 반대방향으로 거리 |r|만큼 떨어진 점을 뜻한다.[1]\n",
    "\n",
    "예를 들어, 극좌표 (3, 60°)는 극에서 60° 방향으로 3단위만큼 떨어진 곳을 나타낸다. 극좌표 (3, -300°)도 같은 위치에 그려진다.\n",
    "\n",
    "![극 좌표계](https://upload.wikimedia.org/wikipedia/commons/thumb/1/11/CircularCoordinates.svg/230px-CircularCoordinates.svg.png)\n",
    "\n",
    "ref : wikipedia"
   ]
  },
  {
   "cell_type": "markdown",
   "metadata": {
    "nbpresent": {
     "id": "65a367c6-b21e-4061-ae76-0d0307e18b61"
    }
   },
   "source": [
    "### 극좌표와 데카르트 좌표 사이의 변환\n",
    "\n",
    "r와 θ는 삼각함수를 이용해 데카르트 좌표의 x와 y로 변환할 수 있다.\n",
    "\n",
    "$x=r\\cos \\theta$ \n",
    "\n",
    "$y=r\\sin \\theta$ \n",
    "\n",
    "데카르트 좌표의 x와 y는 극좌표의 r로 변환할 수 있다.\n",
    "\n",
    "$r^{2}=x^{2}+y^{2}$ \n",
    "(피타고라스 정리 사용)\n",
    "\n",
    "![좌표변환](https://upload.wikimedia.org/wikipedia/commons/thumb/7/78/Polar_to_cartesian.svg/230px-Polar_to_cartesian.svg.png)"
   ]
  },
  {
   "cell_type": "markdown",
   "metadata": {
    "nbpresent": {
     "id": "198654ec-cca6-4d09-a82b-9a1b256af5fb"
    }
   },
   "source": [
    "#####  X,Y 좌료를 이용하여 Show()\n",
    "\n",
    "`plot()`에 인자로 X좌표들의 List, Y좌표들의 List를 차례대로 넣으면 `matplotlib.lines.Line2D` 라는 객체가 생성됩니다.\n",
    "그런 다음에 `Show()`를 실행하면 팝업으로 그래프가 출력됩니다.\n",
    "`Save`버튼을 눌러서 그림으로 저장이 가능합니다."
   ]
  },
  {
   "cell_type": "code",
   "execution_count": 1,
   "metadata": {
    "collapsed": false,
    "nbpresent": {
     "id": "46fea960-31a6-43f3-8f86-2da36da2e3ba"
    },
    "scrolled": true
   },
   "outputs": [],
   "source": [
    "import matplotlib.pyplot as plt\n",
    "\n",
    "x_numbers = [1, 2, 3]\n",
    "y_numbers = [2, 4, 6]\n",
    "\n",
    "plt.plot(x_numbers, y_numbers, marker='o');\n",
    "plt.show()"
   ]
  },
  {
   "cell_type": "code",
   "execution_count": 3,
   "metadata": {
    "collapsed": false,
    "nbpresent": {
     "id": "09ede516-81c3-4975-b5e7-63af42e54025"
    },
    "scrolled": false
   },
   "outputs": [
    {
     "name": "stdout",
     "output_type": "stream",
     "text": [
      "Using matplotlib backend: Qt4Agg\n",
      "Populating the interactive namespace from numpy and matplotlib\n"
     ]
    },
    {
     "data": {
      "image/png": "[encoded data removed]",
      "text/plain": [
       "<matplotlib.figure.Figure at 0x2616e3e2da0>"
      ]
     },
     "metadata": {},
     "output_type": "display_data"
    }
   ],
   "source": [
    "%pylab\n",
    "%matplotlib inline\n",
    "#clf() # qt backend, interactive mode 경우, clear figure\n",
    "plot(x_numbers, y_numbers,'o');"
   ]
  },
  {
   "cell_type": "markdown",
   "metadata": {
    "nbpresent": {
     "id": "0acc3852-967a-4c69-a060-4296dc7e88e4"
    }
   },
   "source": [
    "##### Marker 표시\n",
    "\n",
    "그래프의 각 포인터에 마커를 표시하고 싶은 경우 세번째 인자로 `marker='o'`를 넣어주면 됩니다. ( `o`, `*`, `x`, `+` 등 여러가지가 있습니다.)"
   ]
  },
  {
   "cell_type": "code",
   "execution_count": null,
   "metadata": {
    "collapsed": false,
    "nbpresent": {
     "id": "06923bf6-92d2-49bb-aa52-fa7cb4f146dc"
    }
   },
   "outputs": [],
   "source": [
    "#clf()\n",
    "nyc_temp = [53.9, 56.3, 56.4, 53.4, 54.5, 55.8, 56.8, 55.0, 55.3, 54.0, 56.7, 56.4, 57.3]\n",
    "years = range(2000, 2013)\n",
    "\n",
    "plot(years, nyc_temp, marker='o')"
   ]
  },
  {
   "cell_type": "markdown",
   "metadata": {
    "nbpresent": {
     "id": "9f112312-8f2e-4f7d-b5d5-a90d6f2edbce"
    }
   },
   "source": [
    "\n",
    "### 3개의 연도(2000, 2006, 2012)에 대해서 12개월에 대한 평균온도를 그래프로 표시해 보겠습니다.\n",
    "\n",
    "###### 범주(Legend) 출력\n",
    "- legend()에 각 시리즈별 명칭을 List로 전달하면 화면에 출력됩니다. \n",
    "\n",
    "###### 타이틀, 레이블 추가\n",
    "- title() : 타이틀 추가 xlabel() : X축 레이블 추가 ylabel() : Y출 레이블 추가\n",
    "- 원하는대로 축의 값을 조정하려면 `axis()`를 이용하면 됩니다.\n",
    "\n",
    "###### 축 조정\n",
    "- `axis()` : 현재 설정된 값을 출력\n",
    "- `axis(ymin = ?)` : y최소값을 원하는 값으로 설정 (같은 방법으로 ymax, xmin, xmax 설정)\n",
    "- `axis([xmin, xmax, ymin, ymax])` : 4개의 숫자를 가진 `List`"
   ]
  },
  {
   "cell_type": "code",
   "execution_count": 4,
   "metadata": {
    "collapsed": false,
    "nbpresent": {
     "id": "7f7767eb-74bf-4a53-832c-1eceb77b606f"
    }
   },
   "outputs": [
    {
     "data": {
      "image/png": "[encoded data removed]",
      "text/plain": [
       "<matplotlib.figure.Figure at 0x2616de05ef0>"
      ]
     },
     "metadata": {},
     "output_type": "display_data"
    }
   ],
   "source": [
    "nyc_temp_2000 = [ 31.3, 37.3, 47.2, 51.0, 63.5, 71.3, 72.3, 72.7, 66.0, 57.0, 45.3, 31.3 ]\n",
    "nyc_temp_2006 = [ 40.0, 35.7, 43.1, 55.7, 63.1, 71.0, 77.9, 75.8, 66.6, 56.2, 51.9, 43.6 ]\n",
    "nyc_temp_2012 = [ 37.3, 40.9, 50.9, 54.8, 65.1, 71.0, 78.8, 76.7, 68.8, 58.0, 43.9, 41.5 ]\n",
    "\n",
    "months = range(1, 13)\n",
    "\n",
    "plot(months, nyc_temp_2000, months, nyc_temp_2006, months, nyc_temp_2012)\n",
    "legend([ 2000, 2006, 2012 ])\n",
    "title('Average monthly temperature in NYC')\n",
    "xlabel('Month')\n",
    "ylabel('Temperature')\n",
    "axis(ymin = 0)\n",
    "show()"
   ]
  },
  {
   "cell_type": "markdown",
   "metadata": {
    "collapsed": true,
    "nbpresent": {
     "id": "2f19f226-0bd5-4904-9e02-8ca28aa3c7d2"
    }
   },
   "source": [
    "###  수식을 이용하여 그래프 그리기\n",
    "\n",
    "#### 뉴턴의 만유인력의 법칙\n",
    "\n",
    "![그림 3-1. 만류인력의 법칙(수식)](./image/DoingMathWithPython.Ch02.equation.01.png)\n",
    "\n",
    "질량이 `m1`인 물체와 `m2`인 물체를 `F`의 힘으로 끌어당깁니다. (`G` : 중력상수, `r` : 두 물체간의 거리)\n",
    "\n",
    "질량이 `0.5kg`인 물체와 `1.5kg`인 물체 사이의 중력을 구해보겠습니다.\n",
    "거리는 19개의 구간에 대하여 구하며 100m 에서 50미터 간격으로 증가 (즉, 100m ~ 1000m)로 하며,\n",
    "중력 상수는 `6.674 * 10**-11`을 사용하겠습니다.\n",
    "\n",
    "![그림 3-2. 중력상수(수식)](./image/DoingMathWithPython.Ch02.equation.02.png)"
   ]
  },
  {
   "cell_type": "code",
   "execution_count": null,
   "metadata": {
    "collapsed": true,
    "nbpresent": {
     "id": "aee97ff8-9deb-437a-9a7c-3badaf0ecc1d"
    }
   },
   "outputs": [],
   "source": [
    "import matplotlib.pyplot as plt\n",
    "\n",
    "def draw_graph(x, y):\n",
    "    plt.plot(x, y, marker='o')\n",
    "    plt.xlabel('Distance in meters')\n",
    "    plt.ylabel('Gravitational force in newtons')\n",
    "    plt.title('Gravirarional force and distance')\n",
    "    plt.show()\n",
    "    \n",
    "def generate_F_r():\n",
    "    r = range(100, 1001, 50)\n",
    "    G = 6.674 * (10**-11)\n",
    "    m1 = 0.5\n",
    "    m2 = 1.5\n",
    "    \n",
    "    F = []\n",
    "    \n",
    "    for dist in r:\n",
    "        force = G * m1 * m2 / (dist**2)\n",
    "        F.append(force)\n",
    "        \n",
    "    draw_graph(r, F)\n",
    "\n",
    "if __name__ == '__main__':\n",
    "    generate_F_r()"
   ]
  },
  {
   "cell_type": "markdown",
   "metadata": {
    "nbpresent": {
     "id": "a041322d-9874-48bf-8e4d-b8f171e57a10"
    }
   },
   "source": [
    "\n",
    "#### 3.2 포물선 운동\n",
    "\n",
    "![그림 3-4. 포물선 운동](./image/DoingMathWithPython.Ch02.12.jpg)\n",
    "그림출처 : [Naver지식백과 Basic 고교생을 위한 물리 용어사전 : 포물선 운동](http://terms.naver.com/entry.nhn?docId=941198&cid=47338&categoryId=47338)\n",
    "\n",
    "한 지점에서 공을 던지게되면 포물선을 그리면서 이동하게 됩니다.\n",
    "이것을 그래프로 표현하기 위해서는 포물선 운동방적식을 이용하여 공이 지면에 도달할때 까지 공의 위치를 계산해야 합니다.\n",
    "\n",
    "공의 초기 속도를 `u`라고 하고 그때의 각도를 `θ`라고 할 경우 이 속도를 2개로 분리하여 생각할 수 있습니다.\n",
    "- x 방향 : `ux = u cosθ`\n",
    "- y 방향 : `uy = u sinθ`\n",
    "\n",
    "시간이 지날수록 속도는 변하게 됩니다. 변화된 속도를 `V`로 표시하는 경우,\n",
    "x축 방향으로는 계속 변하지 않고 동일한 속도가 유지되는데, y축 방향으로는 중력의 영향을 받아서 감소하게 됩니다.\n",
    "- x 속도 : `Vx = u cosθ`\n",
    "- y 속도 : `Vy = u singθ - gt`\n",
    "\n",
    "이동 거리(`S`)는 `속도 x 시간`이므로 아래와 같이 표현이 가능합니다.\n",
    "- x 이동거리 : `Sx = u cosθ t`\n",
    "- y 이동거리 : `Sy = u sinθ t - (1/2) gt^2`\n",
    "\n",
    "이제 포물선 운동을 표현하는데 필요한 수식은 완성이 되었습니다.\n",
    "그래프로 표현하기 위해서는 그려질 영역을 어느 정도 알아야 하는데, 그러기 위해서 공이 지면에서 얼마나 오랫동안 공중에 있는지를 계산해야 합니다.\n",
    "이를 위해서는 우선 공이 어느 시점에 지면에서 최고 지점에 위치하는지를 알아야 합니다.\n",
    "공의 수직속도 요인 (`Vy`)가 0이 되는 시점이 됩니다.\n",
    "\n",
    "![수식 3-3. Tpeak 수식](./image/DoingMathWithPython.Ch02.equation.03.png)\n",
    "\n",
    "비행시간은 그 시간동안 다시 내려와서 지면에 닿는시간 까지이므로 2배를 해주면 됩니다.\n",
    "\n",
    "![수식 3-4. Tflight 수식](./image/DoingMathWithPython.Ch02.equation.04.png)\n",
    "\n",
    "초기 속도(`u`)를 `5m/s`로 하고 각도(`θ`)를 45도로 던진경우 대입하면 아래와 다음과 같은 수식이 됩니다. (`g = 9.8`로 가정)\n",
    "\n",
    "![수식 3-5. Tflight 수식 예제](./image/DoingMathWithPython.Ch02.equation.05.png)"
   ]
  },
  {
   "cell_type": "code",
   "execution_count": null,
   "metadata": {
    "collapsed": false,
    "nbpresent": {
     "id": "85f9b992-9ab6-46a4-801a-32628cc08c43"
    }
   },
   "outputs": [],
   "source": [
    "from math import sin, radians\n",
    "2 * 5 * sin(radians(45)) / 9.8"
   ]
  },
  {
   "cell_type": "markdown",
   "metadata": {
    "nbpresent": {
     "id": "df29529d-ce11-46c9-9d6b-9fcefb7fa452"
    }
   },
   "source": [
    "계산을 공의 체공시간이 나옵니다.\n",
    "최대한 자주 계산할수록 더 정확한 결과가 나오므로 `0.001`초마다 해당 좌료를 계산해 보겠습니다.\n",
    "\n",
    "동일 간격으로 부동소수점 숫자를 생성해야하는데, 정수 간격은 `range()`를 이용해서 바로 생성이 가능하지만, 부동소수점을 만들어주는 내장 함수가 없으므로 직접 생성해야 합니다."
   ]
  },
  {
   "cell_type": "code",
   "execution_count": null,
   "metadata": {
    "collapsed": false,
    "nbpresent": {
     "id": "84838f7d-86bf-44e8-9923-d3a2607983a5"
    }
   },
   "outputs": [],
   "source": [
    "from matplotlib import pyplot as plt\n",
    "from math import sin, cos, radians\n",
    "\n",
    "def frange(start, end, step): #부동소수점 배열 생성\n",
    "    numbers = []\n",
    "    while start < end:\n",
    "        numbers.append(start)\n",
    "        start += step\n",
    "    return numbers\n",
    "\n",
    "def draw_graph(x, y):\n",
    "    plt.plot(x, y)\n",
    "    plt.xlabel('x-coordinate')\n",
    "    plt.ylabel('y-coordinate')\n",
    "    plt.title('Projectile motion of a ball')\n",
    "\n",
    "def draw_trajectory(u, theta, interval):\n",
    "    theta = radians(theta)\n",
    "    g = 9.8\n",
    "    \n",
    "    t_flight = 2 * u * sin(theta) / g #체공시간\n",
    "    \n",
    "    intervals = frange(0, t_flight,interval)\n",
    "    \n",
    "    x = []\n",
    "    y = []\n",
    "    \n",
    "    for t in intervals:\n",
    "        x.append(u*cos(theta)*t)\n",
    "        y.append(u*sin(theta)*t - 0.5*g*t*t)\n",
    "        \n",
    "    draw_graph(x,y)\n",
    "    \n",
    "if __name__ == '__main__':\n",
    "    u_list = [20, 40, 60]\n",
    "    theta = 45\n",
    "    interval = 0.01\n",
    "    \n",
    "    for u in u_list:\n",
    "        draw_trajectory(u, theta, interval)\n",
    "    \n",
    "    plt.legend(['20','40','60'])\n",
    "    plt.show()"
   ]
  },
  {
   "cell_type": "markdown",
   "metadata": {
    "collapsed": true
   },
   "source": [
    "#### 여러개의 속도, 투척각도를 입력받아서 그래프로 출력하세요."
   ]
  },
  {
   "cell_type": "code",
   "execution_count": null,
   "metadata": {
    "collapsed": true,
    "nbpresent": {
     "id": "5a413faa-4bee-48e2-97d0-cc56763ecbe4"
    }
   },
   "outputs": [],
   "source": [
    "from matplotlib import pyplot as plt\n",
    "from math import sin, cos, radians\n",
    "\n",
    "def frange(start, end, step): #부동소수점 배열 생성\n",
    "    numbers = []\n",
    "    while start < end:\n",
    "        numbers.append(start)\n",
    "        start += step\n",
    "    return numbers\n",
    "\n",
    "def draw_graph(x, y):\n",
    "    plt.plot(x, y)\n",
    "    plt.xlabel('x-coordinate')\n",
    "    plt.ylabel('y-coordinate')\n",
    "    plt.title('Projectile motion of a ball')\n",
    "\n",
    "def draw_trajectory(u, theta, interval):\n",
    "    theta = radians(theta)\n",
    "    g = 9.8\n",
    "    \n",
    "    t_flight = 2 * u * sin(theta) / g #체공시간\n",
    "    \n",
    "    intervals = frange(0, t_flight,interval)\n",
    "    \n",
    "    x = []\n",
    "    y = []\n",
    "    \n",
    "    for t in intervals:\n",
    "        x.append(u*cos(theta)*t)\n",
    "        y.append(u*sin(theta)*t - 0.5*g*t*t)\n",
    "        \n",
    "    draw_graph(x,y)\n",
    "    \n",
    "if __name__ == '__main__':\n",
    "    interval = 0.01\n",
    "    num = int(input('How many trajectories ? '))\n",
    "    u = []\n",
    "    theta = []\n",
    "    for i in range(1,num+1):\n",
    "        ue = float(input('Enter the initial velocity for trajectory ' + str(i) + '(m/s) :'))\n",
    "        te = float(input('Enter the angle of projection for trajectory ' + str(i) + '(degrees) :'))\n",
    "        draw_trajectory(ue, te, interval)\n",
    "    \n",
    "    plt.legend(list(range(1, num+1)))\n",
    "    plt.show()"
   ]
  },
  {
   "cell_type": "markdown",
   "metadata": {},
   "source": [
    "#### 위 코드를 Pandas를 이용하여 풀어본다면.."
   ]
  },
  {
   "cell_type": "code",
   "execution_count": null,
   "metadata": {
    "collapsed": false,
    "nbpresent": {
     "id": "bd60b797-1c04-45d5-828b-c69c9087f20b"
    }
   },
   "outputs": [],
   "source": [
    "%matplotlib inline\n",
    "%pylab\n",
    "from math import sin, cos, radians\n",
    "\n",
    "import pandas as pd\n",
    "\n",
    "def draw_trajectory(u, theta, interval):\n",
    "    theta = radians(theta)\n",
    "    g=9.8\n",
    "    t_flight = 2 * u * sin(theta)\n",
    "    df = pd.DataFrame({'time':np.linspace(0, interval, t_flight)})\n",
    "    df['x'] = u*cos(theta)*df['time']\n",
    "    df['y'] = u*sin(theta) - 0.5*g*(df['time']**2)\n",
    "    plot(x='x', y='y')\n",
    "\n",
    "if __name__ == '__main__':\n",
    "    interval = 0.01\n",
    "    num = int(input('How many trajectories ? '))\n",
    "    u = []\n",
    "    theta = []\n",
    "    for i in range(1,num+1):\n",
    "        ue = float(input('Enter the initial velocity for trajectory ' + str(i) + '(m/s) :'))\n",
    "        te = float(input('Enter the angle of projection for trajectory ' + str(i) + '(degrees) :'))\n",
    "        draw_trajectory(ue, te, interval)\n",
    "    \n",
    "    legend(list(range(1, num+1)))\n",
    "       "
   ]
  }
 ],
 "metadata": {
  "anaconda-cloud": {},
  "kernelspec": {
   "display_name": "Python [py27]",
   "language": "python",
   "name": "Python [py27]"
  },
  "language_info": {
   "codemirror_mode": {
    "name": "ipython",
    "version": 2
   },
   "file_extension": ".py",
   "mimetype": "text/x-python",
   "name": "python",
   "nbconvert_exporter": "python",
   "pygments_lexer": "ipython2",
   "version": "2.7.12"
  },
  "nbpresent": {
   "slides": {
    "088ec176-982c-41ae-a532-d4c6b4a56731": {
     "id": "088ec176-982c-41ae-a532-d4c6b4a56731",
     "prev": null,
     "regions": {
      "c332e726-037e-4ab9-9886-66f851948904": {
       "attrs": {
        "height": 1,
        "width": 1,
        "x": 0,
        "y": 0
       },
       "content": {
        "cell": "66d742ce-1667-40f5-9ade-6a7b9c7f9b19",
        "part": "whole"
       },
       "id": "c332e726-037e-4ab9-9886-66f851948904"
      }
     }
    },
    "08dc39de-6f51-47de-bdc2-2e4553d2faab": {
     "id": "08dc39de-6f51-47de-bdc2-2e4553d2faab",
     "prev": "edac704d-b0a9-471d-957b-64e45a24d4a8",
     "regions": {
      "36885a77-08af-4516-adac-1ab87ab4b9d7": {
       "attrs": {
        "height": 0.3674300254452927,
        "width": 0.4607824427480915,
        "x": 0.5079198473282444,
        "y": 0.5351145038167939
       },
       "content": {
        "cell": "de61dce4-28c6-4c4b-aa3b-3d64844740b5",
        "part": "whole"
       },
       "id": "36885a77-08af-4516-adac-1ab87ab4b9d7"
      },
      "8edd8735-f018-4dfa-848a-097164f8278c": {
       "attrs": {
        "height": 0.8,
        "width": 0.45,
        "x": 0.05,
        "y": 0.1
       },
       "content": {
        "cell": "9815a64e-860f-467c-9bc9-384702e0069b",
        "part": "whole"
       },
       "id": "8edd8735-f018-4dfa-848a-097164f8278c"
      },
      "b1d23189-f0b9-49ee-86ca-c9775a0d113a": {
       "attrs": {
        "height": 0.41323155216284996,
        "width": 0.46574427480916036,
        "x": 0.5,
        "y": 0.1
       },
       "content": {
        "cell": "b1a0fd85-75f6-463b-ba21-1c6341304ce6",
        "part": "whole"
       },
       "id": "b1d23189-f0b9-49ee-86ca-c9775a0d113a"
      }
     }
    },
    "146c4c2f-f4e8-40df-a3c1-8d15befa899f": {
     "id": "146c4c2f-f4e8-40df-a3c1-8d15befa899f",
     "prev": "4a323908-cedc-42e9-9332-b3833dbd35a7",
     "regions": {
      "c06c41b9-9aa5-42aa-b16a-4db869b60005": {
       "attrs": {
        "height": 1,
        "width": 1,
        "x": 0,
        "y": 0
       },
       "content": {
        "cell": "65a367c6-b21e-4061-ae76-0d0307e18b61",
        "part": "whole"
       },
       "id": "c06c41b9-9aa5-42aa-b16a-4db869b60005"
      }
     }
    },
    "1e444673-ff53-4edc-9acf-7b74f001fab9": {
     "id": "1e444673-ff53-4edc-9acf-7b74f001fab9",
     "prev": "8ae4693c-2e38-4126-8a00-40e3a07cf5c0",
     "regions": {
      "38dfc5ec-c3c6-473c-90ac-e45824402358": {
       "attrs": {
        "height": 0.8,
        "width": 0.45,
        "x": 0.05,
        "y": 0.1
       },
       "content": {
        "cell": "9f112312-8f2e-4f7d-b5d5-a90d6f2edbce",
        "part": "whole"
       },
       "id": "38dfc5ec-c3c6-473c-90ac-e45824402358"
      },
      "9e0cbba3-2f16-4c68-8af3-c1bf55e91e4b": {
       "attrs": {
        "height": 0.8,
        "width": 0.45,
        "x": 0.5,
        "y": 0.1
       },
       "content": {
        "cell": "7f7767eb-74bf-4a53-832c-1eceb77b606f",
        "part": "whole"
       },
       "id": "9e0cbba3-2f16-4c68-8af3-c1bf55e91e4b"
      }
     }
    },
    "2dcbda25-f433-4146-8ec7-497b8b4d8761": {
     "id": "2dcbda25-f433-4146-8ec7-497b8b4d8761",
     "prev": "1e444673-ff53-4edc-9acf-7b74f001fab9",
     "regions": {
      "1b2567b7-c679-47f0-950b-33401cf3a2ef": {
       "attrs": {
        "height": 0.8,
        "width": 0.45,
        "x": 0.5,
        "y": 0.1
       },
       "content": {
        "cell": "3b92fbfc-4585-450f-a986-82b7a5d72ffe",
        "part": "whole"
       },
       "id": "1b2567b7-c679-47f0-950b-33401cf3a2ef"
      },
      "ef7478e0-cd30-48f5-8694-e46c4d97f955": {
       "attrs": {
        "height": 0.8,
        "width": 0.45,
        "x": 0.05,
        "y": 0.1
       },
       "content": {
        "cell": "262504ab-4cb3-4928-b1e7-fe13de30ac2e",
        "part": "whole"
       },
       "id": "ef7478e0-cd30-48f5-8694-e46c4d97f955"
      }
     }
    },
    "4a323908-cedc-42e9-9332-b3833dbd35a7": {
     "id": "4a323908-cedc-42e9-9332-b3833dbd35a7",
     "prev": "c6c6276a-f683-46d9-8cf9-4e02aac7a131",
     "regions": {
      "faf57b5e-846c-4faa-a333-3e232808ed13": {
       "attrs": {
        "height": 1,
        "width": 1,
        "x": 0,
        "y": 0
       },
       "content": {
        "cell": "3f0779d0-101f-43c6-a87d-0f3b8f8f7b98",
        "part": "whole"
       },
       "id": "faf57b5e-846c-4faa-a333-3e232808ed13"
      }
     }
    },
    "53f3d4ff-b52d-48a9-ac89-7b178ab431f1": {
     "id": "53f3d4ff-b52d-48a9-ac89-7b178ab431f1",
     "prev": "c491789e-60c2-45a6-a2b5-70fb1c7d3a46",
     "regions": {
      "c77036d4-ba02-46af-aa60-0db4cc40432d": {
       "attrs": {
        "height": 1,
        "width": 1,
        "x": 0,
        "y": 0
       },
       "content": {
        "cell": "443cd9fc-71b6-4b77-b38b-1b59221433bf",
        "part": "whole"
       },
       "id": "c77036d4-ba02-46af-aa60-0db4cc40432d"
      }
     }
    },
    "8ae4693c-2e38-4126-8a00-40e3a07cf5c0": {
     "id": "8ae4693c-2e38-4126-8a00-40e3a07cf5c0",
     "prev": "08dc39de-6f51-47de-bdc2-2e4553d2faab",
     "regions": {
      "87fdd549-9886-49f5-b42d-936f6d00d5d2": {
       "attrs": {
        "height": 0.8,
        "width": 0.45,
        "x": 0.05,
        "y": 0.1
       },
       "content": {
        "cell": "b00a9f97-3e7f-42db-b455-f1ca6cd42561",
        "part": "whole"
       },
       "id": "87fdd549-9886-49f5-b42d-936f6d00d5d2"
      },
      "ca94f0bf-65e2-4b09-9704-ea7e4c016a5d": {
       "attrs": {
        "height": 0.8,
        "width": 0.45,
        "x": 0.5,
        "y": 0.1
       },
       "content": {
        "cell": "ffa03ccc-181f-449b-b256-783393549f18",
        "part": "whole"
       },
       "id": "ca94f0bf-65e2-4b09-9704-ea7e4c016a5d"
      }
     }
    },
    "935f0a12-8dee-4464-94b8-4d2d435cf770": {
     "id": "935f0a12-8dee-4464-94b8-4d2d435cf770",
     "prev": "53f3d4ff-b52d-48a9-ac89-7b178ab431f1",
     "regions": {
      "ff004e33-5e35-4b6a-bf97-b333661a4a89": {
       "attrs": {
        "height": 1,
        "width": 1,
        "x": 0,
        "y": 0
       },
       "content": {
        "cell": "198654ec-cca6-4d09-a82b-9a1b256af5fb",
        "part": "whole"
       },
       "id": "ff004e33-5e35-4b6a-bf97-b333661a4a89"
      }
     }
    },
    "c491789e-60c2-45a6-a2b5-70fb1c7d3a46": {
     "id": "c491789e-60c2-45a6-a2b5-70fb1c7d3a46",
     "prev": "088ec176-982c-41ae-a532-d4c6b4a56731",
     "regions": {
      "0965b789-479a-4dc2-af5f-8fa312b2ea98": {
       "attrs": {
        "height": 0.8,
        "width": 0.2,
        "x": 0.1,
        "y": 0.1
       },
       "content": {
        "cell": "991ce59d-55cf-414d-bea8-0e706ecf17cd",
        "part": "whole"
       },
       "id": "0965b789-479a-4dc2-af5f-8fa312b2ea98"
      },
      "1ecc34c5-aa10-4e28-aa9a-ac33f422feef": {
       "attrs": {
        "height": 0.8,
        "width": 0.2,
        "x": 0.7,
        "y": 0.1
       },
       "content": {
        "cell": "b80a7149-3720-4773-8b91-253f981a8fc7",
        "part": "whole"
       },
       "id": "1ecc34c5-aa10-4e28-aa9a-ac33f422feef"
      },
      "75444ca5-5eca-40ea-a8bf-06da51b2cc89": {
       "attrs": {
        "height": 0.8,
        "width": 0.2,
        "x": 0.4,
        "y": 0.1
       },
       "content": {
        "cell": "f2c70f9f-c0fb-42e0-b2b0-66b4afed63e7",
        "part": "whole"
       },
       "id": "75444ca5-5eca-40ea-a8bf-06da51b2cc89"
      }
     }
    },
    "c6c6276a-f683-46d9-8cf9-4e02aac7a131": {
     "id": "c6c6276a-f683-46d9-8cf9-4e02aac7a131",
     "prev": "2dcbda25-f433-4146-8ec7-497b8b4d8761",
     "regions": {
      "bbdebec5-4ed6-4240-9b6d-3bb8e9082be2": {
       "attrs": {
        "height": 1,
        "width": 1,
        "x": 0,
        "y": 0
       },
       "content": {
        "cell": "53e66672-bb66-41d6-8d32-114d1b2cdcb1",
        "part": "whole"
       },
       "id": "bbdebec5-4ed6-4240-9b6d-3bb8e9082be2"
      }
     }
    },
    "edac704d-b0a9-471d-957b-64e45a24d4a8": {
     "id": "edac704d-b0a9-471d-957b-64e45a24d4a8",
     "prev": "f3c05d1d-733e-47a7-b4d3-6a1afb5d9ae5",
     "regions": {
      "6a308697-7b15-4fc0-ba5a-ff5a3367918f": {
       "attrs": {
        "height": 0.8,
        "width": 0.45,
        "x": 0.05,
        "y": 0.1
       },
       "content": {
        "cell": "0acc3852-967a-4c69-a060-4296dc7e88e4",
        "part": "whole"
       },
       "id": "6a308697-7b15-4fc0-ba5a-ff5a3367918f"
      },
      "c60dbc2b-293f-4c61-ae70-392b21ea26c5": {
       "attrs": {
        "height": 0.8,
        "width": 0.45,
        "x": 0.5,
        "y": 0.1
       },
       "content": {
        "cell": "06923bf6-92d2-49bb-aa52-fa7cb4f146dc",
        "part": "whole"
       },
       "id": "c60dbc2b-293f-4c61-ae70-392b21ea26c5"
      }
     }
    },
    "f3c05d1d-733e-47a7-b4d3-6a1afb5d9ae5": {
     "id": "f3c05d1d-733e-47a7-b4d3-6a1afb5d9ae5",
     "prev": "935f0a12-8dee-4464-94b8-4d2d435cf770",
     "regions": {
      "0700a04f-0e60-4071-ac4f-576d6f5e90d9": {
       "attrs": {
        "height": 0.8,
        "width": 0.45,
        "x": 0.05,
        "y": 0.1
       },
       "content": {
        "cell": "46fea960-31a6-43f3-8f86-2da36da2e3ba",
        "part": "whole"
       },
       "id": "0700a04f-0e60-4071-ac4f-576d6f5e90d9"
      },
      "fc9f946a-a75b-4278-a3c3-6a173ea4a9a7": {
       "attrs": {
        "height": 0.8,
        "width": 0.45,
        "x": 0.5,
        "y": 0.1
       },
       "content": {
        "cell": "09ede516-81c3-4975-b5e7-63af42e54025",
        "part": "whole"
       },
       "id": "fc9f946a-a75b-4278-a3c3-6a173ea4a9a7"
      }
     }
    }
   },
   "themes": {}
  }
 },
 "nbformat": 4,
 "nbformat_minor": 0
}
