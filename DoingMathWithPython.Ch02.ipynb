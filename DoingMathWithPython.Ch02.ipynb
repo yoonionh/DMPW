{
 "cells": [
  {
   "cell_type": "markdown",
   "metadata": {
    "nbpresent": {
     "id": "6c81d8bd-b6b4-4aac-a61a-2c47f596cced"
    }
   },
   "source": [
    "# 파이썬으로 풀어보는 수학\n",
    "\n",
    "## 2장 그래프로 데이터 가시화\n",
    "\n",
    "#### 카르테지안 좌표평면 (Cartesian coordinate plane)\n",
    "수평선 값은 x축, 수직선 값은 y축 으로 부르는 좌표 평면 (통상적으로 많이 사용하는 2차원을 표현하는 좌표계)\n",
    "\n",
    "이번 장에서의 진행을 위해서는 `matplotlib`를 설치행 합니다.\n",
    "```\n",
    "pip install matplotlib-venn\n",
    "```\n",
    "\n",
    "### 1. 맷플롭립을 이용한 그래프 그리기\n",
    "\n",
    "##### step 1. X,Y 좌료를 이용하여 Show()\n",
    "\n",
    "`plot()`에 인자로 X좌표들의 List, Y좌표들의 List를 차례대로 넣으면 `matplotlib.lines.Line2D` 라는 객체가 생성됩니다.\n",
    "그런 다음에 `Show()`를 실행하면 팝업으로 그래프가 출력됩니다.\n",
    "`Save`버튼을 눌러서 그림으로 저장이 가능합니다."
   ]
  },
  {
   "cell_type": "code",
   "execution_count": 7,
   "metadata": {
    "collapsed": false,
    "nbpresent": {
     "id": "31464b73-94ba-4541-b56f-335efb15ef2e"
    }
   },
   "outputs": [
    {
     "data": {
      "image/png": "[encoded data removed]",
      "text/plain": [
       "<matplotlib.figure.Figure at 0x16596cd7a20>"
      ]
     },
     "metadata": {},
     "output_type": "display_data"
    }
   ],
   "source": [
    "x_numbers = [ 1, 2, 3 ]\n",
    "y_numbers = [ 2, 4, 5 ]\n",
    "\n",
    "%matplotlib inline\n",
    "\n",
    "from pylab import plot, show\n",
    "plot(x_numbers, y_numbers)\n",
    "show()"
   ]
  },
  {
   "cell_type": "markdown",
   "metadata": {
    "nbpresent": {
     "id": "1faf270e-5bd8-43df-b4e2-29f6710319fa"
    }
   },
   "source": [
    "![그림 step 1. 결과](./image/DoingMathWithPython.Ch02.01.png)\n",
    "\n",
    "##### step 2. Marker 표시\n",
    "\n",
    "그래프의 각 포인터에 마커를 표시하고 싶은 경우 세번째 인자로 `marker='o'`를 넣어주면 됩니다. ( `o`, `*`, `x`, `+` 등 여러가지가 있습니다.)"
   ]
  },
  {
   "cell_type": "code",
   "execution_count": 8,
   "metadata": {
    "collapsed": false,
    "nbpresent": {
     "id": "580d4a8f-076c-498d-9d87-0bf16a40f69f"
    }
   },
   "outputs": [
    {
     "data": {
      "image/png": "[encoded data removed]",
      "text/plain": [
       "<matplotlib.figure.Figure at 0x16596ce0518>"
      ]
     },
     "metadata": {},
     "output_type": "display_data"
    }
   ],
   "source": [
    "plot(x_numbers, y_numbers, marker='o')\n",
    "show()"
   ]
  },
  {
   "cell_type": "markdown",
   "metadata": {
    "nbpresent": {
     "id": "2bc22d38-9e8d-4184-86df-fe81e311ac40"
    }
   },
   "source": [
    "![그림 step 2. 결과](./image/DoingMathWithPython.Ch02.02.png)\n",
    "\n",
    "##### Step 3. Line 지우기\n",
    "\n",
    "세번째 인자에 `marker=`를 지우고 표시하고픈 마커만을 입력한 경우에는 선이 없이 마커만 출력됩니다."
   ]
  },
  {
   "cell_type": "code",
   "execution_count": 9,
   "metadata": {
    "collapsed": false,
    "nbpresent": {
     "id": "512976fe-7257-41f8-b5b3-991351ff4e73"
    }
   },
   "outputs": [
    {
     "data": {
      "image/png": "[encoded data removed]",
      "text/plain": [
       "<matplotlib.figure.Figure at 0x165971070b8>"
      ]
     },
     "metadata": {},
     "output_type": "display_data"
    }
   ],
   "source": [
    "plot(x_numbers, y_numbers, '*')\n",
    "show()"
   ]
  },
  {
   "cell_type": "markdown",
   "metadata": {
    "nbpresent": {
     "id": "86df75cc-8b4d-4d03-b04b-cf8c66c81530"
    }
   },
   "source": [
    "![그림 step 3. 결과](./image/DoingMathWithPython.Ch02.03.png)\n",
    "\n",
    "##### Step 4. 뉴욕시의  연간 평균온도 표시 (X축값을 주지 않고 출력)\n",
    "\n",
    "이제는 예제 데이터가 아닌 실제 데이터를 가지고 작성해 보겠습니다.\n",
    "뉴욕시의 2000년에서 2012년까지의 평균온도(화시)를 표시해보겠습니다."
   ]
  },
  {
   "cell_type": "code",
   "execution_count": 7,
   "metadata": {
    "collapsed": false,
    "nbpresent": {
     "id": "bd7ed012-6aea-4c90-9507-dea8bf607cdf"
    }
   },
   "outputs": [],
   "source": [
    "nyc_temp = [ 53.9, 56.3, 56.4, 53.4, 54.5, 55.8, 56.8, 55.0, 55.3, 54.0, 56.7, 56.4, 57.3 ]\n",
    "plot(nyc_temp, marker='o')\n",
    "show()"
   ]
  },
  {
   "cell_type": "markdown",
   "metadata": {
    "nbpresent": {
     "id": "bf4c0850-8602-4cb0-a00c-a5bc066bc454"
    }
   },
   "source": [
    "![그림 step 4. 결과](./image/DoingMathWithPython.Ch02.04.png)\n",
    "\n",
    "Y축의 값의 경우 0에서부터 시작을 한 것이 아니라 입력된 값의 최소값(53.4)에서 최고값(57.3)을 기준으로 표시된 것을 확인 할 수 있습니다.\n",
    "X축의 값을 따로 주지 않은 경우 0부터 차례대로 번호가 매겨집니다.\n",
    "\n",
    "X축 값을 2000 ~ 2012으로 주겠습니다."
   ]
  },
  {
   "cell_type": "code",
   "execution_count": 10,
   "metadata": {
    "collapsed": false,
    "nbpresent": {
     "id": "6aa9a1a0-047c-49aa-a620-ded074e93272"
    }
   },
   "outputs": [
    {
     "ename": "NameError",
     "evalue": "name 'nyc_temp' is not defined",
     "output_type": "error",
     "traceback": [
      "\u001b[0;31m---------------------------------------------------------------------------\u001b[0m",
      "\u001b[0;31mNameError\u001b[0m                                 Traceback (most recent call last)",
      "\u001b[0;32m<ipython-input-10-242e3885c5be>\u001b[0m in \u001b[0;36m<module>\u001b[0;34m()\u001b[0m\n\u001b[1;32m      1\u001b[0m \u001b[0myears\u001b[0m \u001b[0;34m=\u001b[0m \u001b[0mrange\u001b[0m\u001b[0;34m(\u001b[0m\u001b[0;36m2000\u001b[0m\u001b[0;34m,\u001b[0m \u001b[0;36m2013\u001b[0m\u001b[0;34m)\u001b[0m\u001b[0;34m\u001b[0m\u001b[0m\n\u001b[0;32m----> 2\u001b[0;31m \u001b[0mplot\u001b[0m\u001b[0;34m(\u001b[0m\u001b[0myears\u001b[0m\u001b[0;34m,\u001b[0m \u001b[0mnyc_temp\u001b[0m\u001b[0;34m,\u001b[0m \u001b[0mmarker\u001b[0m\u001b[0;34m=\u001b[0m\u001b[0;34m'o'\u001b[0m\u001b[0;34m)\u001b[0m\u001b[0;34m\u001b[0m\u001b[0m\n\u001b[0m\u001b[1;32m      3\u001b[0m \u001b[0mshow\u001b[0m\u001b[0;34m(\u001b[0m\u001b[0;34m)\u001b[0m\u001b[0;34m\u001b[0m\u001b[0m\n",
      "\u001b[0;31mNameError\u001b[0m: name 'nyc_temp' is not defined"
     ]
    }
   ],
   "source": [
    "years = range(2000, 2013)\n",
    "plot(years, nyc_temp, marker='o')\n",
    "show()"
   ]
  },
  {
   "cell_type": "markdown",
   "metadata": {
    "nbpresent": {
     "id": "30e7e271-cce4-4acb-87cb-5ee6a213f2dd"
    }
   },
   "source": [
    "![그림 step 4. X축포함 결과](./image/DoingMathWithPython.Ch02.05.png)\n",
    "\n",
    "##### Step 5. 뉴욕시의 월간 온도 비교 (한 그래프에 여러개의 시리즈 출력)\n",
    "\n",
    "3개의 연도(2000, 2006, 2012)에 대해서 12개월에 대한 평균온도를 그래프로 표시해 보겠습니다."
   ]
  },
  {
   "cell_type": "code",
   "execution_count": 4,
   "metadata": {
    "collapsed": true,
    "nbpresent": {
     "id": "474f02a0-e6b3-4e44-9713-4709acf519cc"
    }
   },
   "outputs": [],
   "source": [
    "nyc_temp_2000 = [ 31.3, 37.3, 47.2, 51.0, 63.5, 71.3, 72.3, 72.7, 66.0, 57.0, 45.3, 31.3 ]\n",
    "nyc_temp_2006 = [ 40.0, 35.7, 43.1, 55.7, 63.1, 71.0, 77.9, 75.8, 66.6, 56.2, 51.9, 43.6 ]\n",
    "nyc_temp_2012 = [ 37.3, 40.9, 50.9, 54.8, 65.1, 71.0, 78.8, 76.7, 68.8, 58.0, 43.9, 41.5 ]\n",
    "\n",
    "months = range(1, 13)\n",
    "\n",
    "plot(months, nyc_temp_2000, months, nyc_temp_2006, months, nyc_temp_2012)\n",
    "show()"
   ]
  },
  {
   "cell_type": "markdown",
   "metadata": {
    "nbpresent": {
     "id": "e159ec18-bcc7-4aa3-b8ab-62a068c76495"
    }
   },
   "source": [
    "![그림 step 5. 3개의 시리즈](./image/DoingMathWithPython.Ch02.06.png)\n",
    "\n",
    "3개의 시리즈가 하나의 그래프에 출력이 되었습니다.\n",
    "각 시리즈별 라인의 색상은 특별히 신경쓰지 않아도 구분이 가능하도록 자동으로 설정되어 있습니다.\n",
    "\n",
    "##### Step 6. 범주(Legend) 출력\n",
    "\n",
    "한 그래프에 시리즈가 여러개일 경우 각각의 시리즈가 무엇을 의미하는지 범주를 추가해 주면 좀 더 알아보기 쉽습니다.\n",
    "`legend()`에 각 시리즈별 명칭을 List로 전달하면 화면에 출력됩니다. 두번째 인자로 범주가 출력될 위치를 설정할 수 있습니다. 기본적으로는 우측상단에 출력되는데 `best`로 설정할 경우에는 그래프를 보는데 방해되지 않도록 적당한 위치에 알아서 위치시켜 줍니다."
   ]
  },
  {
   "cell_type": "code",
   "execution_count": 5,
   "metadata": {
    "collapsed": false,
    "nbpresent": {
     "id": "deb9af2e-305a-4c1e-988c-941044742798"
    }
   },
   "outputs": [],
   "source": [
    "from pylab import legend\n",
    "plot(months, nyc_temp_2000, months, nyc_temp_2006, months, nyc_temp_2012)\n",
    "legend([ 2000, 2006, 2012 ])\n",
    "show()"
   ]
  },
  {
   "cell_type": "markdown",
   "metadata": {
    "nbpresent": {
     "id": "332be507-7de7-41e1-a04b-410064dcd751"
    }
   },
   "source": [
    "![그림 step 6. 범주출력](./image/DoingMathWithPython.Ch02.07.png)\n",
    "\n",
    "범주를 넣으니 각각의 색깔별 시리즈가 무엇을 의미하는지 확인이 가능해졌습니다.\n",
    "가장 온도가 높은 7월의 경우를 보니 계속해서 증가하고 있는 것을 확인할 수 있습니다.\n",
    "\n",
    "##### Step 7. 타이틀, 레이블 추가\n",
    "\n",
    "`title()` : 타이틀 추가\n",
    "`xlabel()` : X축 레이블 추가\n",
    "`ylabel()` : Y출 레이블 추가"
   ]
  },
  {
   "cell_type": "code",
   "execution_count": 9,
   "metadata": {
    "collapsed": true,
    "nbpresent": {
     "id": "79105d00-de5e-4032-b5b9-7da12526d868"
    }
   },
   "outputs": [],
   "source": [
    "from pylab import plot,show,title,xlabel,ylabel,legend\n",
    "plot(months, nyc_temp_2000, months, nyc_temp_2006, months, nyc_temp_2012)\n",
    "legend([ 2000, 2006, 2012 ])\n",
    "title('Average monthly temperature in NYC')\n",
    "xlabel('Month')\n",
    "ylabel('Temperature')\n",
    "show()"
   ]
  },
  {
   "cell_type": "markdown",
   "metadata": {
    "nbpresent": {
     "id": "f392a119-9a60-48b4-9ec8-e5442a8d3fe4"
    }
   },
   "source": [
    "![그림 step 7. 타이틀,레이블](./image/DoingMathWithPython.Ch02.08.png)\n",
    "\n",
    "##### Step 8. 축 조정\n",
    "\n",
    "기본적으로 축의 값은 전체 데이터의 최소값과 최대값을 그 범위로 하였습니다.\n",
    "원하는대로 축의 값을 조정하려면 `axis()`를 이용하면 됩니다.\n",
    "\n",
    "`axis()` : 현재 설정된 값을 출력해 줍니다.\n",
    "`axis(ymin = ?)` : y최소값을 원하는 값으로 설정합니다. (같은 방법으로 ymax, xmin, xmax로 가능합니다.)\n",
    "`axis([xmin, xmax, ymin, ymax])` : 4개의 숫자를 가진 `List`를 인자로 전달하여 한번에 모두 변경이 가능합니다."
   ]
  },
  {
   "cell_type": "code",
   "execution_count": 18,
   "metadata": {
    "collapsed": false,
    "nbpresent": {
     "id": "53f7dd06-978a-4f20-b5c6-af3b6a86c0cc"
    }
   },
   "outputs": [
    {
     "data": {
      "text/plain": [
       "(0.0, 12.0, 30.0, 80.0)"
      ]
     },
     "execution_count": 18,
     "metadata": {},
     "output_type": "execute_result"
    }
   ],
   "source": [
    "plot(months, nyc_temp_2000, months, nyc_temp_2006, months, nyc_temp_2012)\n",
    "\n",
    "from pylab import axis\n",
    "axis()"
   ]
  },
  {
   "cell_type": "code",
   "execution_count": 19,
   "metadata": {
    "collapsed": false,
    "nbpresent": {
     "id": "cbbbb398-642d-4034-a5c8-8804694ad82b"
    }
   },
   "outputs": [
    {
     "data": {
      "text/plain": [
       "(0.0, 12.0, 0, 80.0)"
      ]
     },
     "execution_count": 19,
     "metadata": {},
     "output_type": "execute_result"
    }
   ],
   "source": [
    "axis(ymin = 0)"
   ]
  },
  {
   "cell_type": "code",
   "execution_count": 20,
   "metadata": {
    "collapsed": true,
    "nbpresent": {
     "id": "e6d46596-3622-4fb1-98f5-794b184c3917"
    }
   },
   "outputs": [],
   "source": [
    "show()"
   ]
  },
  {
   "cell_type": "markdown",
   "metadata": {
    "nbpresent": {
     "id": "c14d6d5e-ee34-450b-a2ed-696d400a81e2"
    }
   },
   "source": [
    "![그림 step 8. 축조정](./image/DoingMathWithPython.Ch02.09.png)\n",
    "\n",
    "### 2. pyplot을 이용한 그래프 그리기\n",
    "\n",
    "지금껏 살펴본 `pylab`의 경우 *shell*환경에서 작업하기에 적합하지만, 비교적 규모가 있는 *Application*개발에는 `pyplot`가 더 효율적 입니다. 작업방법은 `pylab`과 거의 유사합니다."
   ]
  },
  {
   "cell_type": "code",
   "execution_count": 27,
   "metadata": {
    "collapsed": false,
    "nbpresent": {
     "id": "28ddc58c-052f-4285-9f66-1d45e7c15dce"
    }
   },
   "outputs": [],
   "source": [
    "import matplotlib.pyplot as plt\n",
    "\n",
    "def create_graph():\n",
    "    nyc_temp_2000 = [ 31.3, 37.3, 47.2, 51.0, 63.5, 71.3, 72.3, 72.7, 66.0, 57.0, 45.3, 31.3 ]\n",
    "    nyc_temp_2006 = [ 40.0, 35.7, 43.1, 55.7, 63.1, 71.0, 77.9, 75.8, 66.6, 56.2, 51.9, 43.6 ]\n",
    "    nyc_temp_2012 = [ 37.3, 40.9, 50.9, 54.8, 65.1, 71.0, 78.8, 76.7, 68.8, 58.0, 43.9, 41.5 ]\n",
    "\n",
    "    months = range(1, 13)\n",
    "    \n",
    "    plt.plot(months, nyc_temp_2000, months, nyc_temp_2006, months, nyc_temp_2012)\n",
    "    plt.show()\n",
    "\n",
    "if __name__ == '__main__':\n",
    "    create_graph()"
   ]
  },
  {
   "cell_type": "markdown",
   "metadata": {
    "nbpresent": {
     "id": "23a82ed5-1622-4c02-8df1-c8589dcf9fe8"
    }
   },
   "source": [
    "![그림 2-1. pyplot를 이용한 그래프](./image/DoingMathWithPython.Ch02.10.png)\n",
    "\n",
    "`savefig('저장할 파일 경로 및 이름')` : 그래프를 그림으로 저장 (PNG, PDF,SVG등 여러가지 타입을 지원) / `pylab`, `pyplot` 모두 가능"
   ]
  },
  {
   "cell_type": "code",
   "execution_count": 31,
   "metadata": {
    "collapsed": false,
    "nbpresent": {
     "id": "116bc546-ddbe-4c6c-a9c1-1d972957919b"
    }
   },
   "outputs": [],
   "source": [
    "import matplotlib.pyplot as plt\n",
    "\n",
    "def create_graph():\n",
    "    nyc_temp_2000 = [ 31.3, 37.3, 47.2, 51.0, 63.5, 71.3, 72.3, 72.7, 66.0, 57.0, 45.3, 31.3 ]\n",
    "    nyc_temp_2006 = [ 40.0, 35.7, 43.1, 55.7, 63.1, 71.0, 77.9, 75.8, 66.6, 56.2, 51.9, 43.6 ]\n",
    "    nyc_temp_2012 = [ 37.3, 40.9, 50.9, 54.8, 65.1, 71.0, 78.8, 76.7, 68.8, 58.0, 43.9, 41.5 ]\n",
    "\n",
    "    months = range(1, 13)\n",
    "    \n",
    "    plt.plot(months, nyc_temp_2000, months, nyc_temp_2006, months, nyc_temp_2012)\n",
    "    plt.savefig('d:/fig.png')\n",
    "\n",
    "if __name__ == '__main__':\n",
    "    create_graph()"
   ]
  },
  {
   "cell_type": "markdown",
   "metadata": {
    "nbpresent": {
     "id": "e0c64312-a48c-47a2-9a85-6a112b4f4332"
    }
   },
   "source": [
    "### 3. 수식을 이용하여 그래프 그리기\n",
    "\n",
    "#### 3.1 뉴턴의 만유인력의 법칙\n",
    "\n",
    "![그림 3-1. 만류인력의 법칙(수식)](./image/DoingMathWithPython.Ch02.equation.01.png)\n",
    "\n",
    "질량이 `m1`인 물체와 `m2`인 물체를 `F`의 힘으로 끌어당깁니다. (`G` : 중력상수, `r` : 두 물체간의 거리)\n",
    "\n",
    "질량이 `0.5kg`인 물체와 `1.5kg`인 물체 사이의 중력을 구해보겠습니다.\n",
    "거리는 19개의 구간에 대하여 구하며 100m 에서 50미터 간격으로 증가 (즉, 100m ~ 1000m)로 하며,\n",
    "중력 상수는 `6.674 * 10**-11`을 사용하겠습니다.\n",
    "\n",
    "![그림 3-2. 중력상수(수식)](./image/DoingMathWithPython.Ch02.equation.02.png)"
   ]
  },
  {
   "cell_type": "code",
   "execution_count": 33,
   "metadata": {
    "collapsed": true,
    "nbpresent": {
     "id": "dfbe105c-3ce8-4fb2-8d90-8b1fbbab28bb"
    }
   },
   "outputs": [],
   "source": [
    "import matplotlib.pyplot as plt\n",
    "\n",
    "def draw_graph(x, y):\n",
    "    plt.plot(x, y, marker='o')\n",
    "    plt.xlabel('Distance in meters')\n",
    "    plt.ylabel('Gravitational force in newtons')\n",
    "    plt.title('Gravirarional force and distance')\n",
    "    plt.show()\n",
    "    \n",
    "def generate_F_r():\n",
    "    r = range(100, 1001, 50)\n",
    "    G = 6.674 * (10**-11)\n",
    "    m1 = 0.5\n",
    "    m2 = 1.5\n",
    "    \n",
    "    F = []\n",
    "    \n",
    "    for dist in r:\n",
    "        force = G * m1 * m2 / (dist**2)\n",
    "        F.append(force)\n",
    "        \n",
    "    draw_graph(r, F)\n",
    "\n",
    "if __name__ == '__main__':\n",
    "    generate_F_r()"
   ]
  },
  {
   "cell_type": "markdown",
   "metadata": {
    "nbpresent": {
     "id": "05ef1b9a-dcf5-4fff-ab77-f9e722a11b46"
    }
   },
   "source": [
    "![그림 3-3. 중력과 거리제곱값 간의 관계](./image/DoingMathWithPython.Ch02.11.png)\n",
    "\n",
    "#### 3.2 포물선 운동\n",
    "\n",
    "![그림 3-4. 포물선 운동](./image/DoingMathWithPython.Ch02.12.jpg)\n",
    "그림출처 : [Naver지식백과 Basic 고교생을 위한 물리 용어사전 : 포물선 운동](http://terms.naver.com/entry.nhn?docId=941198&cid=47338&categoryId=47338)\n",
    "\n",
    "한 지점에서 공을 던지게되면 포물선을 그리면서 이동하게 됩니다.\n",
    "이것을 그래프로 표현하기 위해서는 포물선 운동방적식을 이용하여 공이 지면에 도달할때 까지 공의 위치를 계산해야 합니다.\n",
    "\n",
    "공의 초기 속도를 `u`라고 하고 그때의 각도를 `θ`라고 할 경우 이 속도를 2개로 분리하여 생각할 수 있습니다.\n",
    "- x 방향 : `ux = u cosθ`\n",
    "- y 방향 : `uy = u sinθ`\n",
    "\n",
    "시간이 지날수록 속도는 변하게 됩니다. 변화된 속도를 `V`로 표시하는 경우,\n",
    "x축 방향으로는 계속 변하지 않고 동일한 속도가 유지되는데, y축 방향으로는 중력의 영향을 받아서 감소하게 됩니다.\n",
    "- x 속도 : `Vx = u cosθ`\n",
    "- y 속도 : `Vy = u singθ - gt`\n",
    "\n",
    "이동 거리(`S`)는 `속도 x 시간`이므로 아래와 같이 표현이 가능합니다.\n",
    "- x 이동거리 : `Sx = u cosθ t`\n",
    "- y 이동거리 : `Sy = u sinθ t - (1/2) gt^2`\n",
    "\n",
    "이제 포물선 운동을 표현하는데 필요한 수식은 완성이 되었습니다.\n",
    "그래프로 표현하기 위해서는 그려질 영역을 어느 정도 알아야 하는데, 그러기 위해서 공이 지면에서 얼마나 오랫동안 공중에 있는지를 계산해야 합니다.\n",
    "이를 위해서는 우선 공이 어느 시점에 지면에서 최고 지점에 위치하는지를 알아야 합니다.\n",
    "공의 수직속도 요인 (`Vy`)가 0이 되는 시점이 됩니다.\n",
    "\n",
    "![수식 3-3. Tpeak 수식](./image/DoingMathWithPython.Ch02.equation.03.png)\n",
    "\n",
    "비행시간은 그 시간동안 다시 내려와서 지면에 닿는시간 까지이므로 2배를 해주면 됩니다.\n",
    "\n",
    "![수식 3-4. Tflight 수식](./image/DoingMathWithPython.Ch02.equation.04.png)\n",
    "\n",
    "초기 속도(`u`)를 `5m/s`로 하고 각도(`θ`)를 45도로 던진경우 대입하면 아래와 다음과 같은 수식이 됩니다. (`g = 9.8`로 가정)\n",
    "\n",
    "![수식 3-5. Tflight 수식 예제](./image/DoingMathWithPython.Ch02.equation.05.png)"
   ]
  },
  {
   "cell_type": "code",
   "execution_count": 10,
   "metadata": {
    "collapsed": false,
    "nbpresent": {
     "id": "4f74987d-2dd0-449c-80a8-c19f60bb777b"
    }
   },
   "outputs": [
    {
     "data": {
      "text/plain": [
       "0.7215375318230076"
      ]
     },
     "execution_count": 10,
     "metadata": {},
     "output_type": "execute_result"
    }
   ],
   "source": [
    "from math import sin, radians\n",
    "2 * 5 * sin(radians(45)) / 9.8"
   ]
  },
  {
   "cell_type": "markdown",
   "metadata": {
    "nbpresent": {
     "id": "20c7dd2e-6e27-44c5-8ee6-b0ab16cd6f99"
    }
   },
   "source": [
    "계산을 공의 체공시간이 나옵니다.\n",
    "최대한 자주 계산할수록 더 정확한 결과가 나오므로 `0.001`초마다 해당 좌료를 계산해 보겠습니다.\n",
    "\n",
    "동일 간격으로 부동소수점 숫자를 생성해야하는데, 정수 간격은 `range()`를 이용해서 바로 생성이 가능하지만, 부동소수점을 만들어주는 내장 함수가 없으므로 직접 생성해야 합니다."
   ]
  },
  {
   "cell_type": "code",
   "execution_count": 12,
   "metadata": {
    "collapsed": false,
    "nbpresent": {
     "id": "07d465e5-3b1c-474b-b537-9ca0a0277c2b"
    }
   },
   "outputs": [
    {
     "name": "stdout",
     "output_type": "stream",
     "text": [
      "Enter the initial velocity(m/s): 5\n",
      "Enter the angle of projection (degrees): 45\n",
      "Enter the time intervals to draw points (s): 0.001\n"
     ]
    }
   ],
   "source": [
    "from matplotlib import pyplot as plt\n",
    "from math import sin, cos, radians\n",
    "\n",
    "def frange(start, end, step): #부동소수점 배열 생성\n",
    "    numbers = []\n",
    "    while start < end:\n",
    "        numbers.append(start)\n",
    "        start += step\n",
    "    return numbers\n",
    "\n",
    "def draw_graph(x, y):\n",
    "    plt.plot(x, y)\n",
    "    plt.xlabel('x-coordinate')\n",
    "    plt.ylabel('y-coordinate')\n",
    "    plt.title('Projectile motion of a ball')\n",
    "\n",
    "def draw_trajectory(u, theta, interval):\n",
    "    theta = radians(theta)\n",
    "    g = 9.8\n",
    "    \n",
    "    t_flight = 2 * u * math.sin(theta) / g #체공시간\n",
    "    \n",
    "    intervals = frange(0, t_flight,interval)\n",
    "    \n",
    "    x = []\n",
    "    y = []\n",
    "    \n",
    "    for t in intervals:\n",
    "        x.append(u*cos(theta)*t)\n",
    "        y.append(u*sin(theta)*t - 0.5*g*t*t)\n",
    "        \n",
    "    draw_graph(x,y)\n",
    "    \n",
    "if __name__ == '__main__':\n",
    "    try:\n",
    "        u = float(input('Enter the initial velocity(m/s): '))\n",
    "        theta = float(input('Enter the angle of projection (degrees): '))\n",
    "        interval = float(input('Enter the time intervals to draw points (s): '))\n",
    "    except ValueError:\n",
    "        print('You Entered an invalid input')\n",
    "    else:\n",
    "        draw_trajectory(u, theta, interval)\n",
    "        plt.show()"
   ]
  },
  {
   "cell_type": "markdown",
   "metadata": {
    "nbpresent": {
     "id": "9d5a2634-18e3-4c6e-9a23-b3559291d558"
    }
   },
   "source": [
    "![그림 3-4. 포물선 운동](./image/DoingMathWithPython.Ch02.12.png)\n",
    "\n",
    "만약 서로 다른 속도로 던진 공들에 대한 궤적을 비교하고 싶으면 어떻게 해야 할까요 ?"
   ]
  },
  {
   "cell_type": "code",
   "execution_count": 14,
   "metadata": {
    "collapsed": false,
    "nbpresent": {
     "id": "2d9c1fe8-31f7-4467-b7c4-a64828bbabb3"
    }
   },
   "outputs": [],
   "source": [
    "if __name__ == '__main__':\n",
    "    u_list = [20, 40, 60]\n",
    "    theta = 45\n",
    "    interval = 0.01\n",
    "    \n",
    "    for u in u_list:\n",
    "        draw_trajectory(u, theta, interval)\n",
    "    \n",
    "    plt.legend(['20','40','60'])\n",
    "    plt.show()"
   ]
  },
  {
   "cell_type": "markdown",
   "metadata": {
    "nbpresent": {
     "id": "4454a365-34a6-4868-9728-8c17a4aadd47"
    }
   },
   "source": [
    "![그림 3-5. 3개의 포물선 운동](./image/DoingMathWithPython.Ch02.13.png)\n",
    "\n",
    "## 프로그래밍 연습\n",
    "\n",
    "### 1. 낮 동안 온도는 어떻게 변화하는가 ?\n",
    "\n",
    "다른 2개의 도시에 대해서 낮 온도의변화를 표시한 그래프를 작성하세요."
   ]
  },
  {
   "cell_type": "code",
   "execution_count": 13,
   "metadata": {
    "collapsed": false,
    "nbpresent": {
     "id": "02350be4-666e-4d2a-9912-75b164a14739"
    }
   },
   "outputs": [],
   "source": [
    "from matplotlib import pyplot as plt\n",
    "seoul_temp = [ 24, 23, 21, 23, 25, 27, 27, 25 ]\n",
    "taegu_temp = [ 23, 22, 22, 25, 27, 28, 28, 26 ]\n",
    "hours = range(2, 24, 3)\n",
    "\n",
    "plt.plot(hours,seoul_temp, hours, taegu_temp, marker='o')\n",
    "plt.legend(['Seoul', 'Taegu'], loc = 2)\n",
    "plt.xlabel('Hours')\n",
    "plt.ylabel('Temperature')\n",
    "plt.axis([0, 24, 20, 30])\n",
    "\n",
    "plt.show()"
   ]
  },
  {
   "cell_type": "markdown",
   "metadata": {
    "nbpresent": {
     "id": "5b052f46-1241-4e55-b2ef-8cf94a69e656"
    }
   },
   "source": [
    "![그림 문제1](./image/DoingMathWithPython.Ch02.14.png)\n",
    "\n",
    "### 2. 이차방정식을 그림으로 탐색해보기\n",
    "\n",
    "> y = x**2 + 2*x + 1\n",
    "\n",
    "위 방적식에서 x에 10개의 값을 대입하여 `(x,y)`를 화면에 출력하세요.\n",
    "그 과정에서 해 (`y = 0 이되는 값`)를 찾고 그래프의 변동 패턴이 선형인지 비선형인지를 분석하세요."
   ]
  },
  {
   "cell_type": "code",
   "execution_count": 16,
   "metadata": {
    "collapsed": false,
    "nbpresent": {
     "id": "628bbc59-a3b4-4007-8a65-e980f3956dbe"
    }
   },
   "outputs": [
    {
     "name": "stdout",
     "output_type": "stream",
     "text": [
      "[16, 9, 4, 1, 0, 1, 4, 9, 16, 25, 36]\n"
     ]
    }
   ],
   "source": [
    "x = list(range(-5, 6))\n",
    "y = list(map(lambda x : x**2 + 2*x + 1, x))\n",
    "print(y)\n",
    "\n",
    "from matplotlib import pyplot as plt\n",
    "plt.plot(x, y, marker='o')\n",
    "plt.show()"
   ]
  },
  {
   "cell_type": "markdown",
   "metadata": {
    "nbpresent": {
     "id": "017ab637-5308-42be-bda0-36a43b8fc7ef"
    }
   },
   "source": [
    "![그림 문제2](./image/DoingMathWithPython.Ch02.15.png)\n",
    "\n",
    "### 3. 투척 궤적 비교 프로그램 개선\n",
    "\n",
    "#### 3.1 속도, 투척각도를 입력받아서 체공시간, 최대 수평이동거리, 최대 수직이동거리를 계산하여 출력"
   ]
  },
  {
   "cell_type": "code",
   "execution_count": 1,
   "metadata": {
    "collapsed": false,
    "nbpresent": {
     "id": "1493de94-cf3e-4d24-a8c1-d5d212664cfa"
    },
    "scrolled": true
   },
   "outputs": [
    {
     "name": "stdout",
     "output_type": "stream",
     "text": [
      "Input u :70\n",
      "Input theta :37.5\n",
      "Duration Of Flight :  70.0 s\n",
      "The Maximum horizontal distance traveled :  482.9629131445341 m\n",
      "The Maximum vertical distance traveled :  92.64761936218493 m\n"
     ]
    }
   ],
   "source": [
    "from math import sin, cos, radians\n",
    "\n",
    "def GetParabolicMovement(u, theta):\n",
    "    g = 9.8\n",
    "    theta = radians(theta)\n",
    "    durationOfFlight = 2 * u * sin(theta) / 9.8\n",
    "    horizontalDistance = u * cos(theta) * durationOfFlight\n",
    "    \n",
    "    t = durationOfFlight / 2\n",
    "    verticalDistance = u * sin(theta) * t - g / 2 * t**2\n",
    "    \n",
    "    return durationOfFlight, horizontalDistance, verticalDistance\n",
    "\n",
    "if __name__ == '__main__':\n",
    "    u = float(input('Input u :'))\n",
    "    theta = float(input('Input theta :'))\n",
    "    t, h, v = GetParabolicMovement(u, theta)\n",
    "    print('Duration Of Flight : ', u, 's')\n",
    "    print('The Maximum horizontal distance traveled : ', h, 'm')\n",
    "    print('The Maximum vertical distance traveled : ', v, 'm')"
   ]
  },
  {
   "cell_type": "markdown",
   "metadata": {
    "nbpresent": {
     "id": "39aa43b0-fab1-47dd-866e-a17c452b5348"
    }
   },
   "source": [
    "#### 3.2 여러개의 속도, 투척각도를 입력받아서 그래프로 출력하세요."
   ]
  },
  {
   "cell_type": "code",
   "execution_count": 1,
   "metadata": {
    "collapsed": false,
    "nbpresent": {
     "id": "0d12a836-e10c-4ea1-adcc-a143cba31608"
    }
   },
   "outputs": [
    {
     "name": "stdout",
     "output_type": "stream",
     "text": [
      "How many trajectories ? 4\n",
      "Enter the initial velocity for trajectory 1(m/s) :6\n",
      "Enter the angle of projection for trajectory 1(degrees) :20\n",
      "Enter the initial velocity for trajectory 2(m/s) :10\n",
      "Enter the angle of projection for trajectory 2(degrees) :45\n",
      "Enter the initial velocity for trajectory 3(m/s) :8\n",
      "Enter the angle of projection for trajectory 3(degrees) :60\n",
      "Enter the initial velocity for trajectory 4(m/s) :15\n",
      "Enter the angle of projection for trajectory 4(degrees) :15\n"
     ]
    }
   ],
   "source": [
    "from matplotlib import pyplot as plt\n",
    "from math import sin, cos, radians\n",
    "\n",
    "def frange(start, end, step): #부동소수점 배열 생성\n",
    "    numbers = []\n",
    "    while start < end:\n",
    "        numbers.append(start)\n",
    "        start += step\n",
    "    return numbers\n",
    "\n",
    "def draw_graph(x, y):\n",
    "    plt.plot(x, y)\n",
    "    plt.xlabel('x-coordinate')\n",
    "    plt.ylabel('y-coordinate')\n",
    "    plt.title('Projectile motion of a ball')\n",
    "\n",
    "def draw_trajectory(u, theta, interval):\n",
    "    theta = radians(theta)\n",
    "    g = 9.8\n",
    "    \n",
    "    t_flight = 2 * u * sin(theta) / g #체공시간\n",
    "    \n",
    "    intervals = frange(0, t_flight,interval)\n",
    "    \n",
    "    x = []\n",
    "    y = []\n",
    "    \n",
    "    for t in intervals:\n",
    "        x.append(u*cos(theta)*t)\n",
    "        y.append(u*sin(theta)*t - 0.5*g*t*t)\n",
    "        \n",
    "    draw_graph(x,y)\n",
    "    \n",
    "if __name__ == '__main__':\n",
    "    interval = 0.01\n",
    "    num = int(input('How many trajectories ? '))\n",
    "    u = []\n",
    "    theta = []\n",
    "    for i in range(1,num+1):\n",
    "        ue = float(input('Enter the initial velocity for trajectory ' + str(i) + '(m/s) :'))\n",
    "        te = float(input('Enter the angle of projection for trajectory ' + str(i) + '(degrees) :'))\n",
    "        draw_trajectory(ue, te, interval)\n",
    "    \n",
    "    plt.legend(list(range(1, num+1)))\n",
    "    plt.show()"
   ]
  },
  {
   "cell_type": "markdown",
   "metadata": {
    "collapsed": true,
    "nbpresent": {
     "id": "d8354a8e-5566-46a0-8f65-070363a0279d"
    }
   },
   "source": [
    "![그림 문제3](./image/DoingMathWithPython.Ch02.16.png)\n",
    "\n",
    "#### 수평막대 차트 예제"
   ]
  },
  {
   "cell_type": "code",
   "execution_count": 6,
   "metadata": {
    "collapsed": false,
    "nbpresent": {
     "id": "9a1e34fe-7b5c-47ff-9966-9dea6e3f4163"
    }
   },
   "outputs": [],
   "source": [
    "import matplotlib.pyplot as plt\n",
    "\n",
    "def create_bar_chart(data, labels):\n",
    "    num_bars = len(data)\n",
    "    positions = range (1, num_bars+1)\n",
    "    plt.barh(positions, data, align='center')\n",
    "    plt.yticks(positions, labels)\n",
    "    plt.xlabel('Steps')\n",
    "    plt.ylabel('Day')\n",
    "    plt.title('Number of steps walked')\n",
    "    plt.grid()\n",
    "    plt.show()\n",
    "\n",
    "if __name__ == '__main__':\n",
    "    steps = [6534, 7000, 8900, 10786, 3467, 11045, 5059]\n",
    "    labels = ['Sun', 'Mon', 'Tue', 'Wed', 'Thu', 'Fri', 'Sat']\n",
    "    create_bar_chart(steps, labels)"
   ]
  },
  {
   "cell_type": "markdown",
   "metadata": {
    "nbpresent": {
     "id": "5be42f7b-6f72-415c-a275-5891e33a00b8"
    }
   },
   "source": [
    "![그림 수평막대 예제](./image/DoingMathWithPython.Ch02.17.png)\n",
    "\n",
    "#### 4. 비용 가시화\n",
    "\n",
    "각 항목별 사용금액을 입력받아서 막대차트로 표시하세요."
   ]
  },
  {
   "cell_type": "code",
   "execution_count": 5,
   "metadata": {
    "collapsed": false,
    "nbpresent": {
     "id": "21bacb8c-39b6-4f60-8f98-2b4eaf7c8860"
    }
   },
   "outputs": [
    {
     "name": "stdout",
     "output_type": "stream",
     "text": [
      "Enter the number of categories : 4\n",
      "Enter category : Food\n",
      "Expenditure : 70\n",
      "Enter category : Transportation\n",
      "Expenditure : 35\n",
      "Enter category : Entertainment\n",
      "Expenditure : 30\n",
      "Enter category : Phone\n",
      "Expenditure : 40\n"
     ]
    }
   ],
   "source": [
    "import matplotlib.pyplot as plt\n",
    "\n",
    "def create_bar_chart(amounts, labels):\n",
    "    num_bars = len(amounts)\n",
    "    positions = range (1, num_bars+1)\n",
    "    plt.barh(positions, amounts, align='center')\n",
    "    plt.yticks(positions, labels)\n",
    "    plt.xlabel('Amount')\n",
    "    plt.ylabel('Categories')\n",
    "    plt.title('Weekly expenditures')\n",
    "    plt.grid()\n",
    "    plt.show()\n",
    "\n",
    "if __name__ == '__main__':\n",
    "    num = int(input('Enter the number of categories : '))\n",
    "    \n",
    "    amounts = []\n",
    "    labels = []\n",
    "    for i in range(0,num):\n",
    "        labels.append(input('Enter category : '))\n",
    "        amounts.append(int(input('Expenditure : ')))\n",
    "        \n",
    "    create_bar_chart(amounts, labels)"
   ]
  },
  {
   "cell_type": "markdown",
   "metadata": {
    "nbpresent": {
     "id": "fc4745c2-bd41-49ca-bbe2-6fcb5eeb6f44"
    }
   },
   "source": [
    "![그림 문제 4](./image/DoingMathWithPython.Ch02.18.png)\n",
    "\n",
    "#### 5. 피보나치 순열과 황금비 간의 관계 탐색\n",
    "\n",
    "피보나치 순열은 수치적으로 황금비(1.61803398...)을 가진 숫자의 집합입니다.\n",
    "100개의 피보나치 숫자 간의 비를 그래프상에 그리세요."
   ]
  },
  {
   "cell_type": "code",
   "execution_count": null,
   "metadata": {
    "collapsed": false,
    "nbpresent": {
     "id": "b7d7cbbf-f7e9-4bd1-9bf2-44ccef50cfe1"
    }
   },
   "outputs": [],
   "source": [
    "import matplotlib.pyplot as plt\n",
    "\n",
    "def FibonacciSeries(n):\n",
    "    series = []\n",
    "    current = 1\n",
    "    if n < 1:\n",
    "        return series\n",
    "    else:\n",
    "        series.append(1)\n",
    "    \n",
    "    if n >= 2:\n",
    "        series.append(1)\n",
    "    \n",
    "    if n > 2:\n",
    "        for i in range(2,n):\n",
    "            current = series[i-1] + series[i-2]\n",
    "            series.append(current)\n",
    "            \n",
    "    return series\n",
    "\n",
    "def ratioOfFront(series):\n",
    "    ratio = []\n",
    "    for i in range(1,len(series)):\n",
    "        ratio.append(series[i] / series[i-1])\n",
    "    return ratio\n",
    "\n",
    "def draw_graph(series):\n",
    "    plt.plot(series)\n",
    "    plt.ylabel('Ratio')\n",
    "    plt.title('Ratio between consecutive Fibonacci numbers')\n",
    "    plt.show()\n",
    "    \n",
    "if __name__ == '__main__':\n",
    "    draw_graph(ratioOfFront(FibonacciSeries(100)))          "
   ]
  },
  {
   "cell_type": "markdown",
   "metadata": {
    "collapsed": true,
    "nbpresent": {
     "id": "a8ff2dab-ea01-49aa-82ae-408003ab2e84"
    }
   },
   "source": [
    "![그림 문제 5](./image/DoingMathWithPython.Ch02.19.png)"
   ]
  }
 ],
 "metadata": {
  "anaconda-cloud": {},
  "kernelspec": {
   "display_name": "Python [Root]",
   "language": "python",
   "name": "Python [Root]"
  },
  "language_info": {
   "codemirror_mode": {
    "name": "ipython",
    "version": 3
   },
   "file_extension": ".py",
   "mimetype": "text/x-python",
   "name": "python",
   "nbconvert_exporter": "python",
   "pygments_lexer": "ipython3",
   "version": "3.5.2"
  },
  "nbpresent": {
   "slides": {
    "0a28b682-e1cd-4dcc-a0ba-dc0c05721bd3": {
     "id": "0a28b682-e1cd-4dcc-a0ba-dc0c05721bd3",
     "prev": "9f65d4ef-08db-4eeb-9062-c087cfa2e259",
     "regions": {
      "10f1f1cb-7432-4ce0-a187-a6417732fca9": {
       "attrs": {
        "height": 0.8,
        "width": 0.8,
        "x": 0.1,
        "y": 0.1
       },
       "content": {
        "cell": "e6d46596-3622-4fb1-98f5-794b184c3917",
        "part": "whole"
       },
       "id": "10f1f1cb-7432-4ce0-a187-a6417732fca9"
      }
     }
    },
    "1274f36f-6656-41e4-9325-a55df68e7682": {
     "id": "1274f36f-6656-41e4-9325-a55df68e7682",
     "prev": "5f316876-9178-4588-a65c-75cfd47ec021",
     "regions": {
      "d10e28e1-7332-4b0f-a568-13964eac6f2b": {
       "attrs": {
        "height": 0.8,
        "width": 0.8,
        "x": 0.1,
        "y": 0.1
       },
       "content": {
        "cell": "53f7dd06-978a-4f20-b5c6-af3b6a86c0cc",
        "part": "whole"
       },
       "id": "d10e28e1-7332-4b0f-a568-13964eac6f2b"
      }
     }
    },
    "17deeeb3-a370-4baa-b159-7e9dd1b933ae": {
     "id": "17deeeb3-a370-4baa-b159-7e9dd1b933ae",
     "prev": "ff549212-b208-403b-b85e-ca31cabe655d",
     "regions": {
      "9a3ea767-430b-4a28-850a-f982c98995d9": {
       "attrs": {
        "height": 0.8,
        "width": 0.8,
        "x": 0.1,
        "y": 0.1
       },
       "content": {
        "cell": "b7d7cbbf-f7e9-4bd1-9bf2-44ccef50cfe1",
        "part": "whole"
       },
       "id": "9a3ea767-430b-4a28-850a-f982c98995d9"
      }
     }
    },
    "1e424bd1-40f8-4813-b89e-0c498a616ab0": {
     "id": "1e424bd1-40f8-4813-b89e-0c498a616ab0",
     "prev": "6b4e8592-9753-41fe-a810-d9ebf36c392d",
     "regions": {
      "5fc3bfea-3f12-45c4-ab47-073d1e34ea1b": {
       "attrs": {
        "height": 0.8,
        "width": 0.8,
        "x": 0.1,
        "y": 0.1
       },
       "content": {
        "cell": "07d465e5-3b1c-474b-b537-9ca0a0277c2b",
        "part": "whole"
       },
       "id": "5fc3bfea-3f12-45c4-ab47-073d1e34ea1b"
      }
     }
    },
    "1fdc1c17-5e19-49b2-b1b6-9cfa70f747f1": {
     "id": "1fdc1c17-5e19-49b2-b1b6-9cfa70f747f1",
     "prev": "713c419d-8cfa-44cb-9686-324b32a14c8a",
     "regions": {
      "de154ca8-f125-40b9-be41-a5d4ced74344": {
       "attrs": {
        "height": 0.8,
        "width": 0.8,
        "x": 0.1,
        "y": 0.1
       },
       "content": {
        "cell": "39aa43b0-fab1-47dd-866e-a17c452b5348",
        "part": "whole"
       },
       "id": "de154ca8-f125-40b9-be41-a5d4ced74344"
      }
     }
    },
    "21959c55-8135-4b22-becd-7ef74de072a0": {
     "id": "21959c55-8135-4b22-becd-7ef74de072a0",
     "prev": "6e78287b-c3db-494d-995f-68cf2cab5605",
     "regions": {
      "e94dff31-5e27-4cd0-a1be-12fcf343f81b": {
       "attrs": {
        "height": 0.8,
        "width": 0.8,
        "x": 0.1,
        "y": 0.1
       },
       "content": {
        "cell": "2d9c1fe8-31f7-4467-b7c4-a64828bbabb3",
        "part": "whole"
       },
       "id": "e94dff31-5e27-4cd0-a1be-12fcf343f81b"
      }
     }
    },
    "2413a330-d377-4d7b-962a-6c4c529a7b6a": {
     "id": "2413a330-d377-4d7b-962a-6c4c529a7b6a",
     "prev": "7e052e3d-6551-4841-b14a-37157a33df87",
     "regions": {
      "6d06358b-c048-48fe-a8bb-0c43a5526e89": {
       "attrs": {
        "height": 0.8,
        "width": 0.8,
        "x": 0.1,
        "y": 0.1
       },
       "content": {
        "cell": "5be42f7b-6f72-415c-a275-5891e33a00b8",
        "part": "whole"
       },
       "id": "6d06358b-c048-48fe-a8bb-0c43a5526e89"
      }
     }
    },
    "2d37b945-44a0-48e6-8456-6157a2744b03": {
     "id": "2d37b945-44a0-48e6-8456-6157a2744b03",
     "prev": "51a92500-e7f8-4329-9b96-706d4c794b6d",
     "regions": {
      "5cadbd0d-4a3f-4c14-9975-9c5685f8933f": {
       "attrs": {
        "height": 0.8,
        "width": 0.8,
        "x": 0.1,
        "y": 0.1
       },
       "content": {
        "cell": "332be507-7de7-41e1-a04b-410064dcd751",
        "part": "whole"
       },
       "id": "5cadbd0d-4a3f-4c14-9975-9c5685f8933f"
      }
     }
    },
    "30157062-0c5a-4f2f-b7d1-58cfb73279d1": {
     "id": "30157062-0c5a-4f2f-b7d1-58cfb73279d1",
     "prev": "ea5f6d77-b2fe-4c20-a879-b08dd5537dd7",
     "regions": {
      "ed837eb6-a6d0-4452-800e-18599053f1b0": {
       "attrs": {
        "height": 0.8,
        "width": 0.8,
        "x": 0.1,
        "y": 0.1
       },
       "content": {
        "cell": "5b052f46-1241-4e55-b2ef-8cf94a69e656",
        "part": "whole"
       },
       "id": "ed837eb6-a6d0-4452-800e-18599053f1b0"
      }
     }
    },
    "3c638086-b20c-4de3-81e5-d8f001082bfa": {
     "id": "3c638086-b20c-4de3-81e5-d8f001082bfa",
     "prev": "74913ad0-dcb2-4b20-aca3-bbbc2c5e9dda",
     "regions": {
      "84d0d764-1822-463e-8717-09a90b6ea6ef": {
       "attrs": {
        "height": 0.8,
        "width": 0.8,
        "x": 0.1,
        "y": 0.1
       },
       "content": {
        "cell": "31464b73-94ba-4541-b56f-335efb15ef2e",
        "part": "whole"
       },
       "id": "84d0d764-1822-463e-8717-09a90b6ea6ef"
      }
     }
    },
    "3d8f6393-5f2c-4a4c-b3c0-21bd8d0df091": {
     "id": "3d8f6393-5f2c-4a4c-b3c0-21bd8d0df091",
     "prev": "a7c02cae-ced5-4c89-9744-f94285c507d7",
     "regions": {
      "74e2275a-3498-450e-83bd-0430e1f57b87": {
       "attrs": {
        "height": 0.8,
        "width": 0.8,
        "x": 0.1,
        "y": 0.1
       },
       "content": {
        "cell": "116bc546-ddbe-4c6c-a9c1-1d972957919b",
        "part": "whole"
       },
       "id": "74e2275a-3498-450e-83bd-0430e1f57b87"
      }
     }
    },
    "4268eb97-66c6-4d2c-9318-f7c66a755dbd": {
     "id": "4268eb97-66c6-4d2c-9318-f7c66a755dbd",
     "prev": "8df99343-4605-45f0-826a-80b29d598ebf",
     "regions": {
      "7c6cdbb2-7b41-4285-b0bc-bf5adffcdbf7": {
       "attrs": {
        "height": 0.8,
        "width": 0.8,
        "x": 0.1,
        "y": 0.1
       },
       "content": {
        "cell": "580d4a8f-076c-498d-9d87-0bf16a40f69f",
        "part": "whole"
       },
       "id": "7c6cdbb2-7b41-4285-b0bc-bf5adffcdbf7"
      }
     }
    },
    "45db6be1-d1d4-4fb6-8356-b535b5c768cf": {
     "id": "45db6be1-d1d4-4fb6-8356-b535b5c768cf",
     "prev": "7b62895e-87b3-45c6-b9d7-300bd9b335f2",
     "regions": {
      "d8fbd111-2e4b-4692-80f2-1cf06d05fed7": {
       "attrs": {
        "height": 0.8,
        "width": 0.8,
        "x": 0.1,
        "y": 0.1
       },
       "content": {
        "cell": "dfbe105c-3ce8-4fb2-8d90-8b1fbbab28bb",
        "part": "whole"
       },
       "id": "d8fbd111-2e4b-4692-80f2-1cf06d05fed7"
      }
     }
    },
    "466693e1-c5ac-457c-80d0-6f9949b70982": {
     "id": "466693e1-c5ac-457c-80d0-6f9949b70982",
     "prev": "c0c88728-b840-4772-a052-6073f3b1672c",
     "regions": {
      "46804983-4083-4ef8-a105-98c5ba291a34": {
       "attrs": {
        "height": 0.8,
        "width": 0.8,
        "x": 0.1,
        "y": 0.1
       },
       "content": {
        "cell": "6aa9a1a0-047c-49aa-a620-ded074e93272",
        "part": "whole"
       },
       "id": "46804983-4083-4ef8-a105-98c5ba291a34"
      }
     }
    },
    "51a92500-e7f8-4329-9b96-706d4c794b6d": {
     "id": "51a92500-e7f8-4329-9b96-706d4c794b6d",
     "prev": "ca92de76-48e0-43e5-873e-ef85e11fe213",
     "regions": {
      "cfd6cfff-3246-4f56-bbc8-494f7cae1475": {
       "attrs": {
        "height": 0.8,
        "width": 0.8,
        "x": 0.1,
        "y": 0.1
       },
       "content": {
        "cell": "deb9af2e-305a-4c1e-988c-941044742798",
        "part": "whole"
       },
       "id": "cfd6cfff-3246-4f56-bbc8-494f7cae1475"
      }
     }
    },
    "574d2368-63c4-43c9-99a2-970c1f0a639e": {
     "id": "574d2368-63c4-43c9-99a2-970c1f0a639e",
     "prev": "466693e1-c5ac-457c-80d0-6f9949b70982",
     "regions": {
      "430e6814-e3de-456f-9a02-b8cbcb1c6739": {
       "attrs": {
        "height": 0.8,
        "width": 0.8,
        "x": 0.1,
        "y": 0.1
       },
       "content": {
        "cell": "30e7e271-cce4-4acb-87cb-5ee6a213f2dd",
        "part": "whole"
       },
       "id": "430e6814-e3de-456f-9a02-b8cbcb1c6739"
      }
     }
    },
    "5f316876-9178-4588-a65c-75cfd47ec021": {
     "id": "5f316876-9178-4588-a65c-75cfd47ec021",
     "prev": "958be0d1-f15d-44cc-8a96-0943556fe32b",
     "regions": {
      "12bf49ab-8d24-497a-b967-72ab12ce8fd4": {
       "attrs": {
        "height": 0.8,
        "width": 0.8,
        "x": 0.1,
        "y": 0.1
       },
       "content": {
        "cell": "f392a119-9a60-48b4-9ec8-e5442a8d3fe4",
        "part": "whole"
       },
       "id": "12bf49ab-8d24-497a-b967-72ab12ce8fd4"
      }
     }
    },
    "6b28015f-5190-416d-aec9-0052a5fffb83": {
     "id": "6b28015f-5190-416d-aec9-0052a5fffb83",
     "prev": "30157062-0c5a-4f2f-b7d1-58cfb73279d1",
     "regions": {
      "b3c6085a-a0da-4564-b0e5-cd640f6fca70": {
       "attrs": {
        "height": 0.8,
        "width": 0.8,
        "x": 0.1,
        "y": 0.1
       },
       "content": {
        "cell": "628bbc59-a3b4-4007-8a65-e980f3956dbe",
        "part": "whole"
       },
       "id": "b3c6085a-a0da-4564-b0e5-cd640f6fca70"
      }
     }
    },
    "6b4e8592-9753-41fe-a810-d9ebf36c392d": {
     "id": "6b4e8592-9753-41fe-a810-d9ebf36c392d",
     "prev": "d35ef72a-e7d5-4d31-b435-3341cc16a7b8",
     "regions": {
      "1bb792f6-6457-4f97-bb28-7b2b1fa24636": {
       "attrs": {
        "height": 0.8,
        "width": 0.8,
        "x": 0.1,
        "y": 0.1
       },
       "content": {
        "cell": "20c7dd2e-6e27-44c5-8ee6-b0ab16cd6f99",
        "part": "whole"
       },
       "id": "1bb792f6-6457-4f97-bb28-7b2b1fa24636"
      }
     }
    },
    "6e78287b-c3db-494d-995f-68cf2cab5605": {
     "id": "6e78287b-c3db-494d-995f-68cf2cab5605",
     "prev": "1e424bd1-40f8-4813-b89e-0c498a616ab0",
     "regions": {
      "ccdd6654-baec-4c84-8837-e64fc2e2287c": {
       "attrs": {
        "height": 0.8,
        "width": 0.8,
        "x": 0.1,
        "y": 0.1
       },
       "content": {
        "cell": "9d5a2634-18e3-4c6e-9a23-b3559291d558",
        "part": "whole"
       },
       "id": "ccdd6654-baec-4c84-8837-e64fc2e2287c"
      }
     }
    },
    "713c419d-8cfa-44cb-9686-324b32a14c8a": {
     "id": "713c419d-8cfa-44cb-9686-324b32a14c8a",
     "prev": "9f7e050d-a7f3-4f45-9dae-bd451fe6a025",
     "regions": {
      "5ff06ff3-ea33-48a2-9e19-8be0e829ad0b": {
       "attrs": {
        "height": 0.8,
        "width": 0.8,
        "x": 0.1,
        "y": 0.1
       },
       "content": {
        "cell": "1493de94-cf3e-4d24-a8c1-d5d212664cfa",
        "part": "whole"
       },
       "id": "5ff06ff3-ea33-48a2-9e19-8be0e829ad0b"
      }
     }
    },
    "74913ad0-dcb2-4b20-aca3-bbbc2c5e9dda": {
     "id": "74913ad0-dcb2-4b20-aca3-bbbc2c5e9dda",
     "prev": null,
     "regions": {
      "a4cd32de-7b70-4504-b920-f1da49851a42": {
       "attrs": {
        "height": 0.8,
        "width": 0.8,
        "x": 0.1,
        "y": 0.1
       },
       "content": {
        "cell": "6c81d8bd-b6b4-4aac-a61a-2c47f596cced",
        "part": "whole"
       },
       "id": "a4cd32de-7b70-4504-b920-f1da49851a42"
      }
     }
    },
    "75bb2f67-627e-451b-a1ee-09827abb1208": {
     "id": "75bb2f67-627e-451b-a1ee-09827abb1208",
     "prev": "b8c6fb91-b7ca-41cc-a368-7f4cd5d52eec",
     "regions": {
      "0140fd27-928f-4b4d-a631-a474f15aae8d": {
       "attrs": {
        "height": 0.8,
        "width": 0.8,
        "x": 0.1,
        "y": 0.1
       },
       "content": {
        "cell": "bd7ed012-6aea-4c90-9507-dea8bf607cdf",
        "part": "whole"
       },
       "id": "0140fd27-928f-4b4d-a631-a474f15aae8d"
      }
     }
    },
    "7a0c17ab-553a-4819-ab39-12bdb287a738": {
     "id": "7a0c17ab-553a-4819-ab39-12bdb287a738",
     "prev": "e4a851d7-750d-4831-b244-fad3e655c847",
     "regions": {
      "465bf7af-87ae-4deb-89f3-81788386ca0b": {
       "attrs": {
        "height": 0.8,
        "width": 0.8,
        "x": 0.1,
        "y": 0.1
       },
       "content": {
        "cell": "d8354a8e-5566-46a0-8f65-070363a0279d",
        "part": "whole"
       },
       "id": "465bf7af-87ae-4deb-89f3-81788386ca0b"
      }
     }
    },
    "7b62895e-87b3-45c6-b9d7-300bd9b335f2": {
     "id": "7b62895e-87b3-45c6-b9d7-300bd9b335f2",
     "prev": "3d8f6393-5f2c-4a4c-b3c0-21bd8d0df091",
     "regions": {
      "6d6c84f4-74d6-421b-9ad6-5ace6963a157": {
       "attrs": {
        "height": 0.8,
        "width": 0.8,
        "x": 0.1,
        "y": 0.1
       },
       "content": {
        "cell": "e0c64312-a48c-47a2-9a85-6a112b4f4332",
        "part": "whole"
       },
       "id": "6d6c84f4-74d6-421b-9ad6-5ace6963a157"
      }
     }
    },
    "7e052e3d-6551-4841-b14a-37157a33df87": {
     "id": "7e052e3d-6551-4841-b14a-37157a33df87",
     "prev": "7a0c17ab-553a-4819-ab39-12bdb287a738",
     "regions": {
      "08e5949c-bbf7-48ad-92c3-14a439809daf": {
       "attrs": {
        "height": 0.8,
        "width": 0.8,
        "x": 0.1,
        "y": 0.1
       },
       "content": {
        "cell": "9a1e34fe-7b5c-47ff-9966-9dea6e3f4163",
        "part": "whole"
       },
       "id": "08e5949c-bbf7-48ad-92c3-14a439809daf"
      }
     }
    },
    "8df99343-4605-45f0-826a-80b29d598ebf": {
     "id": "8df99343-4605-45f0-826a-80b29d598ebf",
     "prev": "3c638086-b20c-4de3-81e5-d8f001082bfa",
     "regions": {
      "36e08184-50a1-487f-b811-ab2049e2520d": {
       "attrs": {
        "height": 0.8,
        "width": 0.8,
        "x": 0.1,
        "y": 0.1
       },
       "content": {
        "cell": "1faf270e-5bd8-43df-b4e2-29f6710319fa",
        "part": "whole"
       },
       "id": "36e08184-50a1-487f-b811-ab2049e2520d"
      }
     }
    },
    "958be0d1-f15d-44cc-8a96-0943556fe32b": {
     "id": "958be0d1-f15d-44cc-8a96-0943556fe32b",
     "prev": "2d37b945-44a0-48e6-8456-6157a2744b03",
     "regions": {
      "df6e54d3-66aa-4088-a992-7b2bdaae7c59": {
       "attrs": {
        "height": 0.8,
        "width": 0.8,
        "x": 0.1,
        "y": 0.1
       },
       "content": {
        "cell": "79105d00-de5e-4032-b5b9-7da12526d868",
        "part": "whole"
       },
       "id": "df6e54d3-66aa-4088-a992-7b2bdaae7c59"
      }
     }
    },
    "98e24ec6-5cfa-4016-8744-bba4a48c75a1": {
     "id": "98e24ec6-5cfa-4016-8744-bba4a48c75a1",
     "prev": "0a28b682-e1cd-4dcc-a0ba-dc0c05721bd3",
     "regions": {
      "2080c7e3-ab6e-441d-a337-e83d4feb1c7d": {
       "attrs": {
        "height": 0.8,
        "width": 0.8,
        "x": 0.1,
        "y": 0.1
       },
       "content": {
        "cell": "c14d6d5e-ee34-450b-a2ed-696d400a81e2",
        "part": "whole"
       },
       "id": "2080c7e3-ab6e-441d-a337-e83d4feb1c7d"
      }
     }
    },
    "9b3bf66c-3da0-466b-a995-e79bba527fee": {
     "id": "9b3bf66c-3da0-466b-a995-e79bba527fee",
     "prev": "45db6be1-d1d4-4fb6-8356-b535b5c768cf",
     "regions": {
      "e0886f0c-1f91-4d39-bd73-2cafc6bc2a44": {
       "attrs": {
        "height": 0.8,
        "width": 0.8,
        "x": 0.1,
        "y": 0.1
       },
       "content": {
        "cell": "05ef1b9a-dcf5-4fff-ab77-f9e722a11b46",
        "part": "whole"
       },
       "id": "e0886f0c-1f91-4d39-bd73-2cafc6bc2a44"
      }
     }
    },
    "9f65d4ef-08db-4eeb-9062-c087cfa2e259": {
     "id": "9f65d4ef-08db-4eeb-9062-c087cfa2e259",
     "prev": "1274f36f-6656-41e4-9325-a55df68e7682",
     "regions": {
      "f53d0ecf-a1ac-4e8e-9561-906e147b7465": {
       "attrs": {
        "height": 0.8,
        "width": 0.8,
        "x": 0.1,
        "y": 0.1
       },
       "content": {
        "cell": "cbbbb398-642d-4034-a5c8-8804694ad82b",
        "part": "whole"
       },
       "id": "f53d0ecf-a1ac-4e8e-9561-906e147b7465"
      }
     }
    },
    "9f7e050d-a7f3-4f45-9dae-bd451fe6a025": {
     "id": "9f7e050d-a7f3-4f45-9dae-bd451fe6a025",
     "prev": "6b28015f-5190-416d-aec9-0052a5fffb83",
     "regions": {
      "4ce1ac35-3b5c-4837-8d84-7418121df038": {
       "attrs": {
        "height": 0.8,
        "width": 0.8,
        "x": 0.1,
        "y": 0.1
       },
       "content": {
        "cell": "017ab637-5308-42be-bda0-36a43b8fc7ef",
        "part": "whole"
       },
       "id": "4ce1ac35-3b5c-4837-8d84-7418121df038"
      }
     }
    },
    "a7c02cae-ced5-4c89-9744-f94285c507d7": {
     "id": "a7c02cae-ced5-4c89-9744-f94285c507d7",
     "prev": "c303db01-4ade-4437-aa02-8257d92aa5b2",
     "regions": {
      "e9c9d52b-1815-4952-9ae8-0348e1b96e64": {
       "attrs": {
        "height": 0.8,
        "width": 0.8,
        "x": 0.1,
        "y": 0.1
       },
       "content": {
        "cell": "23a82ed5-1622-4c02-8df1-c8589dcf9fe8",
        "part": "whole"
       },
       "id": "e9c9d52b-1815-4952-9ae8-0348e1b96e64"
      }
     }
    },
    "b8c6fb91-b7ca-41cc-a368-7f4cd5d52eec": {
     "id": "b8c6fb91-b7ca-41cc-a368-7f4cd5d52eec",
     "prev": "da423a07-685b-460e-b1b5-d0ecad669b7e",
     "regions": {
      "f23fee44-d699-4a1e-a6c8-fb253c84d440": {
       "attrs": {
        "height": 0.8,
        "width": 0.8,
        "x": 0.1,
        "y": 0.1
       },
       "content": {
        "cell": "86df75cc-8b4d-4d03-b04b-cf8c66c81530",
        "part": "whole"
       },
       "id": "f23fee44-d699-4a1e-a6c8-fb253c84d440"
      }
     }
    },
    "c0c88728-b840-4772-a052-6073f3b1672c": {
     "id": "c0c88728-b840-4772-a052-6073f3b1672c",
     "prev": "75bb2f67-627e-451b-a1ee-09827abb1208",
     "regions": {
      "70dd39d9-3695-4fb3-891e-cccbf3b057bc": {
       "attrs": {
        "height": 0.8,
        "width": 0.8,
        "x": 0.1,
        "y": 0.1
       },
       "content": {
        "cell": "bf4c0850-8602-4cb0-a00c-a5bc066bc454",
        "part": "whole"
       },
       "id": "70dd39d9-3695-4fb3-891e-cccbf3b057bc"
      }
     }
    },
    "c303db01-4ade-4437-aa02-8257d92aa5b2": {
     "id": "c303db01-4ade-4437-aa02-8257d92aa5b2",
     "prev": "98e24ec6-5cfa-4016-8744-bba4a48c75a1",
     "regions": {
      "429394f2-fb82-4ed6-9c2b-645000ff43c9": {
       "attrs": {
        "height": 0.8,
        "width": 0.8,
        "x": 0.1,
        "y": 0.1
       },
       "content": {
        "cell": "28ddc58c-052f-4285-9f66-1d45e7c15dce",
        "part": "whole"
       },
       "id": "429394f2-fb82-4ed6-9c2b-645000ff43c9"
      }
     }
    },
    "ca92de76-48e0-43e5-873e-ef85e11fe213": {
     "id": "ca92de76-48e0-43e5-873e-ef85e11fe213",
     "prev": "d21aa783-b4b6-4371-9bfe-c8a081d9cbb3",
     "regions": {
      "020040d6-aa1a-46fc-b026-c1893060caf0": {
       "attrs": {
        "height": 0.8,
        "width": 0.8,
        "x": 0.1,
        "y": 0.1
       },
       "content": {
        "cell": "e159ec18-bcc7-4aa3-b8ab-62a068c76495",
        "part": "whole"
       },
       "id": "020040d6-aa1a-46fc-b026-c1893060caf0"
      }
     }
    },
    "d21aa783-b4b6-4371-9bfe-c8a081d9cbb3": {
     "id": "d21aa783-b4b6-4371-9bfe-c8a081d9cbb3",
     "prev": "574d2368-63c4-43c9-99a2-970c1f0a639e",
     "regions": {
      "615fa8a1-891d-4091-bbbd-316562931169": {
       "attrs": {
        "height": 0.8,
        "width": 0.8,
        "x": 0.1,
        "y": 0.1
       },
       "content": {
        "cell": "474f02a0-e6b3-4e44-9713-4709acf519cc",
        "part": "whole"
       },
       "id": "615fa8a1-891d-4091-bbbd-316562931169"
      }
     }
    },
    "d35ef72a-e7d5-4d31-b435-3341cc16a7b8": {
     "id": "d35ef72a-e7d5-4d31-b435-3341cc16a7b8",
     "prev": "9b3bf66c-3da0-466b-a995-e79bba527fee",
     "regions": {
      "98312421-d12b-4560-a28e-29691d1055f8": {
       "attrs": {
        "height": 0.8,
        "width": 0.8,
        "x": 0.1,
        "y": 0.1
       },
       "content": {
        "cell": "4f74987d-2dd0-449c-80a8-c19f60bb777b",
        "part": "whole"
       },
       "id": "98312421-d12b-4560-a28e-29691d1055f8"
      }
     }
    },
    "da423a07-685b-460e-b1b5-d0ecad669b7e": {
     "id": "da423a07-685b-460e-b1b5-d0ecad669b7e",
     "prev": "dd8af8f5-b30a-44cc-81aa-ea1e3d78ab93",
     "regions": {
      "4051b2d4-4a8a-4839-9a37-efdbe88bfae3": {
       "attrs": {
        "height": 0.8,
        "width": 0.8,
        "x": 0.1,
        "y": 0.1
       },
       "content": {
        "cell": "512976fe-7257-41f8-b5b3-991351ff4e73",
        "part": "whole"
       },
       "id": "4051b2d4-4a8a-4839-9a37-efdbe88bfae3"
      }
     }
    },
    "dd8af8f5-b30a-44cc-81aa-ea1e3d78ab93": {
     "id": "dd8af8f5-b30a-44cc-81aa-ea1e3d78ab93",
     "prev": "4268eb97-66c6-4d2c-9318-f7c66a755dbd",
     "regions": {
      "35bd514b-684e-435d-a3b6-9a1cca30e8ae": {
       "attrs": {
        "height": 0.8,
        "width": 0.8,
        "x": 0.1,
        "y": 0.1
       },
       "content": {
        "cell": "2bc22d38-9e8d-4184-86df-fe81e311ac40",
        "part": "whole"
       },
       "id": "35bd514b-684e-435d-a3b6-9a1cca30e8ae"
      }
     }
    },
    "e4a851d7-750d-4831-b244-fad3e655c847": {
     "id": "e4a851d7-750d-4831-b244-fad3e655c847",
     "prev": "1fdc1c17-5e19-49b2-b1b6-9cfa70f747f1",
     "regions": {
      "9c2a44b7-79e0-443c-9b74-795d82ef8e10": {
       "attrs": {
        "height": 0.8,
        "width": 0.8,
        "x": 0.1,
        "y": 0.1
       },
       "content": {
        "cell": "0d12a836-e10c-4ea1-adcc-a143cba31608",
        "part": "whole"
       },
       "id": "9c2a44b7-79e0-443c-9b74-795d82ef8e10"
      }
     }
    },
    "e92dd5d5-0803-46e1-87e1-a12fdb969037": {
     "id": "e92dd5d5-0803-46e1-87e1-a12fdb969037",
     "prev": "2413a330-d377-4d7b-962a-6c4c529a7b6a",
     "regions": {
      "86faf74d-0e95-484f-ac86-678cf5f6c7ee": {
       "attrs": {
        "height": 0.8,
        "width": 0.8,
        "x": 0.1,
        "y": 0.1
       },
       "content": {
        "cell": "21bacb8c-39b6-4f60-8f98-2b4eaf7c8860",
        "part": "whole"
       },
       "id": "86faf74d-0e95-484f-ac86-678cf5f6c7ee"
      }
     }
    },
    "ea5f6d77-b2fe-4c20-a879-b08dd5537dd7": {
     "id": "ea5f6d77-b2fe-4c20-a879-b08dd5537dd7",
     "prev": "f0c3803d-d08a-4114-85d5-a2267654e6ac",
     "regions": {
      "c8e0ac8f-14d0-41b3-8a36-30428592a3b4": {
       "attrs": {
        "height": 0.8,
        "width": 0.8,
        "x": 0.1,
        "y": 0.1
       },
       "content": {
        "cell": "02350be4-666e-4d2a-9912-75b164a14739",
        "part": "whole"
       },
       "id": "c8e0ac8f-14d0-41b3-8a36-30428592a3b4"
      }
     }
    },
    "eb315c4a-11f2-440a-9199-2741a7af883f": {
     "id": "eb315c4a-11f2-440a-9199-2741a7af883f",
     "prev": "17deeeb3-a370-4baa-b159-7e9dd1b933ae",
     "regions": {
      "8b08be46-57a8-4ea8-a96d-4995d4d8f2ba": {
       "attrs": {
        "height": 0.8,
        "width": 0.8,
        "x": 0.1,
        "y": 0.1
       },
       "content": {
        "cell": "a8ff2dab-ea01-49aa-82ae-408003ab2e84",
        "part": "whole"
       },
       "id": "8b08be46-57a8-4ea8-a96d-4995d4d8f2ba"
      }
     }
    },
    "f0c3803d-d08a-4114-85d5-a2267654e6ac": {
     "id": "f0c3803d-d08a-4114-85d5-a2267654e6ac",
     "prev": "21959c55-8135-4b22-becd-7ef74de072a0",
     "regions": {
      "98ed2223-7b99-49f5-8d5e-4886754e975a": {
       "attrs": {
        "height": 0.8,
        "width": 0.8,
        "x": 0.1,
        "y": 0.1
       },
       "content": {
        "cell": "4454a365-34a6-4868-9728-8c17a4aadd47",
        "part": "whole"
       },
       "id": "98ed2223-7b99-49f5-8d5e-4886754e975a"
      }
     }
    },
    "ff549212-b208-403b-b85e-ca31cabe655d": {
     "id": "ff549212-b208-403b-b85e-ca31cabe655d",
     "prev": "e92dd5d5-0803-46e1-87e1-a12fdb969037",
     "regions": {
      "81aad741-f2b9-4d29-b176-752880067471": {
       "attrs": {
        "height": 0.8,
        "width": 0.8,
        "x": 0.1,
        "y": 0.1
       },
       "content": {
        "cell": "fc4745c2-bd41-49ca-bbe2-6fcb5eeb6f44",
        "part": "whole"
       },
       "id": "81aad741-f2b9-4d29-b176-752880067471"
      }
     }
    }
   },
   "themes": {}
  }
 },
 "nbformat": 4,
 "nbformat_minor": 0
}
